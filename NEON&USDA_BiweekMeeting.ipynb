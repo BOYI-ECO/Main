{
 "cells": [
  {
   "cell_type": "markdown",
   "id": "db2ee796",
   "metadata": {},
   "source": [
    "# ***Zoom Meeting 1 (Feb-28-2022)***"
   ]
  },
  {
   "cell_type": "markdown",
   "id": "1eaddbc5",
   "metadata": {
    "ExecuteTime": {
     "end_time": "2022-02-22T03:32:24.801555Z",
     "start_time": "2022-02-22T03:32:24.799533Z"
    }
   },
   "source": [
    "## *1. NEON*"
   ]
  },
  {
   "cell_type": "markdown",
   "id": "b3b02a5d",
   "metadata": {},
   "source": [
    "> ### *1-1 NEON - Lab-Model comparison*"
   ]
  },
  {
   "cell_type": "markdown",
   "id": "ff365882",
   "metadata": {},
   "source": [
    "***To-do list:***  \n",
    "a) *represent Second peak site*"
   ]
  },
  {
   "cell_type": "markdown",
   "id": "307d942a",
   "metadata": {
    "ExecuteTime": {
     "end_time": "2022-02-22T03:32:02.201195Z",
     "start_time": "2022-02-22T03:32:02.199193Z"
    }
   },
   "source": [
    "## *2. USDA*"
   ]
  },
  {
   "cell_type": "markdown",
   "id": "04408ffc",
   "metadata": {
    "ExecuteTime": {
     "end_time": "2022-02-22T03:33:10.005956Z",
     "start_time": "2022-02-22T03:33:10.002954Z"
    }
   },
   "source": [
    "> ### *2-1 USDA - Prework (Isotope-Enable model)*"
   ]
  },
  {
   "cell_type": "markdown",
   "id": "a787906b",
   "metadata": {},
   "source": [
    "* *Use SOM model Simulate delta-CO2 (label vs unlabel, show BONA and CPER result)*"
   ]
  },
  {
   "cell_type": "markdown",
   "id": "5f0d40c0",
   "metadata": {},
   "source": [
    "\n",
    "<img src=\"./Image/BONA.png\" width=\"\" height=\"\" align=\"left\"/>\n",
    "   \n",
    "<img src=\"./Image/CPER.png\" width=\"\" height=\"\" align=\"left\"/>\n"
   ]
  },
  {
   "cell_type": "markdown",
   "id": "700783c6",
   "metadata": {},
   "source": [
    "<mark>*Comment from Steven:*<mark>  \n",
    "* *Check the code*  \n",
    "* *Test NEON site without huge crop type change*  \n",
    "* *POM and MAOM delta various a lot if the site is Cropland site*"
   ]
  },
  {
   "cell_type": "markdown",
   "id": "9cc4695d",
   "metadata": {},
   "source": [
    "> ### *2-2 USDA - Lab Incubation*"
   ]
  },
  {
   "cell_type": "markdown",
   "id": "d27e9d7f",
   "metadata": {},
   "source": [
    "***lab data***  \n",
    "    *a) around 30-day lab incubation data*    \n",
    "    *b) initial soil properties are not measured*\n",
    "\n",
    "***Model input***  \n",
    "    *a) Soil delta value (POM and MAOM delta value would be great)* "
   ]
  },
  {
   "cell_type": "markdown",
   "id": "3d6fec30",
   "metadata": {},
   "source": [
    "<mark>*Comment from Steven:*<mark>  \n",
    "* *Soil initial data will be updated 1 mounth, and plant delta wil also be measured later(yearly variation existed)*  \n",
    "* *delta-manure also need to be measured*  \n",
    "* *POM and MAOM delta value will not be measured since almost no POM in USDA sites, since POM in only a small portion*\n",
    "    \n",
    "<mark>***Purpose of Isotope model:***<mark>  "
   ]
  },
  {
   "cell_type": "markdown",
   "id": "6a05d5ee",
   "metadata": {
    "ExecuteTime": {
     "end_time": "2022-02-22T03:30:19.823681Z",
     "start_time": "2022-02-22T03:30:19.815674Z"
    }
   },
   "source": [
    "> ### *2-3 USDA - Field Simulation*"
   ]
  },
  {
   "cell_type": "markdown",
   "id": "09d8166c",
   "metadata": {},
   "source": [
    "* *DLEM eco-model simulate site (one pixel)*\n",
    "* *Input data*"
   ]
  },
  {
   "cell_type": "markdown",
   "id": "441ced71",
   "metadata": {},
   "source": [
    "# ***3. Summary***"
   ]
  },
  {
   "cell_type": "markdown",
   "id": "ab142711",
   "metadata": {},
   "source": [
    "***Finish NEON lab/model comparison first***"
   ]
  },
  {
   "cell_type": "markdown",
   "id": "fb2326ff",
   "metadata": {},
   "source": [
    "# ***Zoom Meeting 2 (Mar-14-2022)***"
   ]
  },
  {
   "cell_type": "code",
   "execution_count": null,
   "id": "29f76ed9",
   "metadata": {},
   "outputs": [],
   "source": []
  },
  {
   "cell_type": "code",
   "execution_count": null,
   "id": "8d406744",
   "metadata": {},
   "outputs": [],
   "source": []
  },
  {
   "cell_type": "markdown",
   "id": "6c4c3c37",
   "metadata": {},
   "source": []
  }
 ],
 "metadata": {
  "kernelspec": {
   "display_name": "Python 3 (ipykernel)",
   "language": "python",
   "name": "python3"
  },
  "language_info": {
   "codemirror_mode": {
    "name": "ipython",
    "version": 3
   },
   "file_extension": ".py",
   "mimetype": "text/x-python",
   "name": "python",
   "nbconvert_exporter": "python",
   "pygments_lexer": "ipython3",
   "version": "3.9.7"
  },
  "toc": {
   "base_numbering": 1,
   "nav_menu": {},
   "number_sections": false,
   "sideBar": true,
   "skip_h1_title": false,
   "title_cell": "Table of Contents",
   "title_sidebar": "Contents",
   "toc_cell": false,
   "toc_position": {
    "height": "calc(100% - 180px)",
    "left": "10px",
    "top": "150px",
    "width": "165px"
   },
   "toc_section_display": true,
   "toc_window_display": false
  },
  "toc-autonumbering": false,
  "toc-showcode": false,
  "toc-showmarkdowntxt": false
 },
 "nbformat": 4,
 "nbformat_minor": 5
}
