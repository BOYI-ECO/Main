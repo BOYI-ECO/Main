{
 "cells": [
  {
   "cell_type": "markdown",
   "metadata": {},
   "source": [
    "\n"
   ]
  },
  {
   "cell_type": "markdown",
   "metadata": {
    "ExecuteTime": {
     "end_time": "2022-02-11T14:52:41.307413Z",
     "start_time": "2022-02-11T14:52:41.303410Z"
    }
   },
   "source": [
    "> ### ***02/09/2022 (Wed)***"
   ]
  },
  {
   "cell_type": "markdown",
   "metadata": {},
   "source": [
    "* *Use Spyder to run main Function (7pm-11pm)*  \n",
    "* *Use Mendely to read paper*"
   ]
  },
  {
   "cell_type": "markdown",
   "metadata": {
    "ExecuteTime": {
     "end_time": "2022-02-11T14:55:12.334364Z",
     "start_time": "2022-02-11T14:55:12.331354Z"
    }
   },
   "source": [
    "> ### ***02/10/2022(Thur)***"
   ]
  },
  {
   "cell_type": "markdown",
   "metadata": {},
   "source": [
    "* *Use UqLab run R code, code saved in -JUPYTER.ipynb*$~~~~~~~~~~~~~~~~~~~~~~~~~~~~~~~~~$*11am-6pm*  \n",
    "* *Use Git/GitHub to track Verion Control, code saved in -JUPYTER.ipunb*$~~~~~~~~~~~~~~~$*7pm-11pm*"
   ]
  },
  {
   "cell_type": "markdown",
   "metadata": {},
   "source": [
    "> ### ***02/11/2022(Fri)***"
   ]
  },
  {
   "cell_type": "markdown",
   "metadata": {},
   "source": [
    "$~~~~~~~~~~~~~~~~~~~~~$***10pm-12pm***\n",
    "* *Unsolved problem: Save nd.array as tif and add spatial reference (Solved in 02/13/2022)*   \n",
    "$~~~~~~~~~~~~~~~$***2pm-4pm*** \n",
    "* *Talk with WJ Huang about UqLab*  \n",
    "$~~~~~~~~~~~~~~~$***4:30pm-6:30pm***\n",
    "* *Update Decomposition_Isotope.py using* ***.twoSource_delta*** amd ***.twoSource_newdelta*** *to get new delta value of each pool and C to SMB pool*  "
   ]
  },
  {
   "cell_type": "markdown",
   "metadata": {},
   "source": [
    "> ### ***02/12/2022(Sat)***"
   ]
  },
  {
   "cell_type": "markdown",
   "metadata": {},
   "source": [
    "$~~~~~~~~~~~~~~~~~~~~~$***11am-12am***\n",
    "* *Save nd.array as tif and add spatial reference*  \n",
    "$~~~~~~~~~~~~~~~$***12pm-2pm***  \n",
    "* *Gym for eercise*"
   ]
  },
  {
   "cell_type": "markdown",
   "metadata": {},
   "source": [
    "> ### ***02/13/2022(Sun)***"
   ]
  },
  {
   "cell_type": "markdown",
   "metadata": {},
   "source": [
    "$~~~~~~~~~~~~~~~~~~~~~$***8:30am-12am***\n",
    "* *Video*  \n",
    "$~~~~~~~~~~~~~~~$***2pm-6pm***  \n",
    "* *2021Tax Retuen file*  "
   ]
  },
  {
   "cell_type": "markdown",
   "metadata": {},
   "source": [
    "> ### ***02/14/2022(Mon)***"
   ]
  },
  {
   "cell_type": "markdown",
   "metadata": {},
   "source": [
    "$~~~~~~~~~~~~~~~$***8:30am-12am***\n",
    "\n",
    "* *Image.fromarray(): check how data transfered when apply Image.fromarray()*  \n",
    "* *pillow to save nd-array as tif(by PIL and tiffile) and .spatialReference() add spatial project*  \n",
    "\n",
    "$~~~~~~~~~~~~~~~$***12pm-6pm***  \n",
    "* *GIS*  \n",
    "    *Export mideWest GHG data as geoTif*  \n",
    "    *GetGeoTransform(): get geo-reference from a template*\n",
    "    *feature to Rater: directly save as tif*  \n",
    "    *Edit attribute tavle*  \n",
    "    *Raster Calculator: SetNull*  \n",
    "    \n",
    "$~~~~~~~~~~~~~~~$***7:30pm-9:50pm***  \n",
    "* *Zoom Meeting: DLEM Code tutorial by pyCao*\n",
    "\n",
    "$~~~~~~~~~~~~~~~$   \n",
    "\n",
    "<mark>***Get to know how to change array data into Geo-spatial tif data***<mark>"
   ]
  },
  {
   "cell_type": "markdown",
   "metadata": {},
   "source": [
    "> ### ***02/15/2022(Tue)***"
   ]
  },
  {
   "cell_type": "markdown",
   "metadata": {
    "ExecuteTime": {
     "end_time": "2022-02-15T23:31:05.804296Z",
     "start_time": "2022-02-15T23:31:05.801294Z"
    }
   },
   "source": [
    "$~~~~~~~~~~~~~~~$***8:30am-4:30pm***\n",
    "\n",
    "* *Homewrok*  \n"
   ]
  },
  {
   "cell_type": "markdown",
   "metadata": {},
   "source": [
    "> ### ***02/16/2022(Wed)***"
   ]
  },
  {
   "cell_type": "markdown",
   "metadata": {},
   "source": [
    "$~~~~~~~~~~~~~~~$***8:30am-12:00pm***  \n",
    "\n",
    "* *NEON Isotope Code: delta calculate checking*          $~~~~~~~~~~$ ***Unfinish-finished by Thurs(Feb-27)***\n",
    "* *parallel computing by multiprocessing and subprocess* $~~~~~~~~~~$ <mark>***Unslove***<mark>\n",
    "* *Slope of 3d-array, calculate midwest GHG flux slope from 1970-2019 map*\n",
    "    \n",
    "$~~~~~~~~~~~~~~~$***2 pm - 4 pm***  \n",
    "* *Group Meeting*  \n",
    "    \n",
    "$~~~~~~~~~~~~~~~$***3 pm - 11 pm***  \n",
    "* *P-fer post analysis: yearly total + crop total by [source](C:\\Users\\boyi\\Desktop\\PFer-postProcessing)*"
   ]
  },
  {
   "cell_type": "markdown",
   "metadata": {},
   "source": [
    "> ### ***02/17/2022(Thur)***"
   ]
  },
  {
   "cell_type": "markdown",
   "metadata": {},
   "source": [
    "$~~~~~~~~~~~~~~~$***8:30 pm - 12 pm***  \n",
    "* *Evolutionary Class*  \n",
    "* *Paper(reading): (PNAS) Environmental Outcomes of the U.S. Renewable Fuel Standard - from Dr.Lu* $~~~~~$ *Unfinish*\n",
    "\n",
    "$~~~~~~~~~~~~~~~$***2 pm - 4 pm***  \n",
    "* *P-fer data analysis: State Spatialization $~~~~~~~~~~~~~~~~~~~~$(Unfinish)*  \n",
    "* *GIS*\n",
    "    *raster-data value and attribute: value is one attribute, and we can define which value shown as value when use 'feature to reaster' to export tif*  \n",
    "    *'feature to raster': directly save .tiff file*\n",
    "\n",
    "$~~~~~~~~~~~~~~~$***7 pm - 11 pm***  \n",
    "* *NEON Isotope Code: delta calculate checking(Continued)*"
   ]
  },
  {
   "cell_type": "markdown",
   "metadata": {},
   "source": [
    "> ### ***02/18/2022(Fri): NEON Isotope Day***"
   ]
  },
  {
   "cell_type": "markdown",
   "metadata": {},
   "source": [
    "$~~~~~~~~~~~~~~~$***9:30 am - 10 am***  \n",
    "* *NEON Isotope Code: delta calculate checking$~~~~~~~~~~~~~~~~~~~~~$(Continued)*  \n",
    "\n",
    "$~~~~~~~~~~~~~~~$***10 am - 11 am***  \n",
    "* *Zoom with pyCao: [Fertilizer Spatialization](https://iowastate.instructuremedia.com/embed/fea7a514-fdd1-448a-b5b0-27459ac04d11)*  \n",
    "    \n",
    "    *% Q1: rotation in LULC?: change in pct and croptye*  \n",
    "    *% Q2: pct work?: works on spatilization, grid-rate*pct: dillute to 1x1 km*  \n",
    "    *% Q3: tif: rate based on 1x1 km?: Yes, scale state-cron rate(represent if this area planted with corn, then  the fer-rate is state-rate) to 1x1 km by mutiply pct (corn only account for 50% of this pixel then the pixel rate should dillute to 1/2 fer-rate)*  \n",
    "    *% Q4: matlab: not A-a sensitive?: Yes, python also*  \n",
    "    *% Q5: what contain in 1km and 4km tif?: fer-rate in this area (all 1x1 arae applied with fertilizer)*  \n",
    "    *% Q6: value in croptype and cropprec mean?: croptype: crop-id of different type; cropPrec:how many percet area of this pixel have this croptype plant(0.1 means only 10% area has plant type in croptype)*    \n",
    "    \n",
    "$~~~~~~~~~~~~~~~$***2:15pm - 7pm***  \n",
    "* *NEON Isotope Code: delta calculate checking$~~~~~~~~~~~~~~~~~$([Finished](https://iowastate.instructuremedia.com/embed/2a8fc384-a9c6-4f3c-8056-865f896fe85d))*$~~~~~$*[ppt](<./NOEN_mode_structure.pptx>)* "
   ]
  },
  {
   "cell_type": "markdown",
   "metadata": {},
   "source": [
    "> ### ***02/19-20/2022(Sat/Sun)***"
   ]
  },
  {
   "cell_type": "markdown",
   "metadata": {},
   "source": [
    "> ### ***02/21/2022(Mon)***"
   ]
  },
  {
   "cell_type": "markdown",
   "metadata": {},
   "source": [
    "$~~~~~~~~~~~~~~~$***2 pm - 9:30 pm***\n",
    "* *NEON ISOTOPE: Natural Anbudance Simulation (lignin CO2 x10 to get synthesized CO2 emission content (+8888))*\n",
    "\n",
    "$~~~~~~~~~~~~~~~$***9:30 pm - 11:30 pm***  \n",
    "* *wjHuang R Sensitivity Analysis Code ckackung*    $~~~~~~$ *(Finished)*"
   ]
  },
  {
   "cell_type": "markdown",
   "metadata": {},
   "source": [
    "> ### ***02/22/2022(Tue)***"
   ]
  },
  {
   "cell_type": "markdown",
   "metadata": {},
   "source": [
    "$~~~~~~~~~~~~~~~$***9:30 am - 11:00 am***  \n",
    "* *Evolutionary class$~~~~~~~~~~~~~~~~~~~~~$*     \n",
    "\n",
    "$~~~~~~~~~~~~~~~$***11:00 am - 11:30 am***  \n",
    "* *R sensitivity Code talking with wjHuang$~~~~~~~~~~~~~~~~~~~~~$*    \n",
    "\n",
    "$~~~~~~~~~~~~~~~$***11:30 am - 2 pm***  \n",
    "* *P-fer data processing$~~~~~~~~~~~~~~~~~~~~~$*<mark>*To be Continued<mark>*    \n",
    "    \n",
    "    *How to represent rotation in croptype and croppercent*  \n",
    "    *1850-1970: 4km map for 1)smooth variation; 2)data publishing*  \n",
    "    \n",
    "    *Excel data: national total, crop total, staet total*  \n",
    "    *tif: sum to get US national total, and use crop-mask id to extract crop total*\n",
    "    \n",
    "    ***line plot***  \n",
    "    *1)national total; 2) crop total*\n",
    "    \n",
    "\n",
    "$~~~~~~~~~~~~~~~$***2:30 am - 6 pm***  \n",
    "* *NEON Lab-Model comparison$~~~~~~~~~~~~~~~~~~~~~$*  \n",
    "    *1) Model structure*  \n",
    "    *2) Model Isotope tracing Capability: Test BONA and CPER site*"
   ]
  },
  {
   "cell_type": "markdown",
   "metadata": {},
   "source": [
    "> ### ***02/23/2022(Wed)***"
   ]
  },
  {
   "cell_type": "markdown",
   "metadata": {},
   "source": [
    "$~~~~~~~~~~~~~~~$***5 pm - 11 pm***  \n",
    "* *Phosphorus data analysis $~~~~~~$*  "
   ]
  },
  {
   "cell_type": "markdown",
   "metadata": {
    "ExecuteTime": {
     "end_time": "2022-02-25T23:23:59.819839Z",
     "start_time": "2022-02-25T23:23:59.810802Z"
    }
   },
   "source": [
    "> ### ***02/24/2022(Thur)***"
   ]
  },
  {
   "cell_type": "markdown",
   "metadata": {},
   "source": [
    "> ### ***02/25/2022(Fri)***"
   ]
  },
  {
   "cell_type": "markdown",
   "metadata": {},
   "source": [
    "$~~~~~~~~~~~~~~~$***2 pm - 3:30 pm***  \n",
    "* *Talk with whHuang about USDA Project $~~~~~~$*  \n",
    "    *Use isotope data can track CO2 percent from corn/soybean*\n",
    "    \n",
    "    \n",
    "* *Talk with Dr. Lu about midWest GHG*  \n",
    "    *GHG footprint*\n",
    "    *factorial analysis: Ag vs non-Ag*"
   ]
  },
  {
   "cell_type": "markdown",
   "metadata": {},
   "source": [
    "> ### ***02/26-27/2022(Sat/Sun)***"
   ]
  },
  {
   "cell_type": "markdown",
   "metadata": {},
   "source": [
    "$~~~~~~~~~~~~~~~$***2 pm - 10:45 pm***  \n",
    "* *NEON lab/model Comparison paper data plot $~~~~~~$*   \n",
    "    *Fig: Decay rate from different pool*  \n",
    "    *lab/model comparison boxplot*"
   ]
  },
  {
   "cell_type": "markdown",
   "metadata": {},
   "source": [
    "> ### ***02/28/2022(Mon)***"
   ]
  },
  {
   "cell_type": "markdown",
   "metadata": {},
   "source": [
    "$~~~~~~~~~~~~~~~$***10 am - 10:45 am***  \n",
    "* *Zoom meeting with Steven$~~~~~~$*    \n",
    "    *record on NEON&USDA_BiweekMeeting.ipynb*\n",
    "   \n",
    "$~~~~~~~~~~~~~~~$***11 am - 5:45 pm***  \n",
    "* *Continue: NEON lab/model Comparison paper data plot$~~~~~~$*  \n",
    "    *Fig-Accumulation CO2 difference between different model structure*\n",
    "\n",
    "$~~~~~~~~~~~~~~~$***7 pm - 11 pm***  \n",
    "* *midwest GHG Spatial map by ArcMap$~~~~~~$*  "
   ]
  },
  {
   "cell_type": "markdown",
   "metadata": {},
   "source": [
    "> ### <mark>***Unfinish work this Month***<mark>"
   ]
  },
  {
   "cell_type": "markdown",
   "metadata": {},
   "source": [
    "***parallel computing by multiprocessing and subprocess***  "
   ]
  },
  {
   "cell_type": "markdown",
   "metadata": {},
   "source": [
    "> ### ***03/01/2022(Tue)***"
   ]
  },
  {
   "cell_type": "markdown",
   "metadata": {
    "ExecuteTime": {
     "end_time": "2022-03-01T05:51:27.076726Z",
     "start_time": "2022-03-01T05:51:27.072723Z"
    }
   },
   "source": [
    "\n",
    "$~~~~~~~~~~~~~~~$***9:30 am - 11 am***  \n",
    "* *Evoluntion Class$~~~~~~$*  \n",
    "    \n",
    "$~~~~~~~~~~~~~~~$***11 am - 1 pm***  \n",
    "* *midwest GHG Spatial Map$~~~~~~$*  \n",
    "    *Different dataframe is not at the position under DataView: we can only see one dataframe, if want to see another: activiate the dataframe*   \n",
    "    *Different dataframe in Layout view is not the same size: ***Scale***, *or set one dataframe and copy-paste*  \n",
    "    *Number for class turns to be the same if I use quantile: maybe the data error*  \n",
    "    *Use bookmarker for historical recording*\n",
    "    \n",
    "    \n",
    "$~~~~~~~~~~~~~~~$***1 pm - 11 pm***  \n",
    "* *Matlab code: P-fer fertilizer (Done)$~~~~~~$*    "
   ]
  },
  {
   "cell_type": "markdown",
   "metadata": {},
   "source": [
    "> ### ***03/02/2022(Wen)***"
   ]
  },
  {
   "cell_type": "markdown",
   "metadata": {},
   "source": [
    "$~~~~~~~~~~~~~~~$***8:30 am - 10:30 am***   \n",
    "* *PostCard, tax-return*\n",
    "* *P-fer Spatilization result vs original excel result$~~~~~~$* \n",
    "\n",
    "$~~~~~~~~~~~~~~~$***10:30 am - 12:00 pm***  \n",
    "* *midWest: GHG time-series figure$~~~~~~$*  \n",
    "* *3 update things for midWest GHG analysis(Discuss with Dr. Lu):*   \n",
    "    *1) Crop expension: forn south-east to north-west, because global warming, but 1900-1930 should not expand to Minisota. Check this form Zhen's paper*  \n",
    "    *2) Analysis period: Can starting from 1960 (cropland areas are relative stable, exclude impacts of crop expansion)*  \n",
    "    *3) COncepts of GHG-footprint: concentrate on the GHG mitagation effects of Cropland, do Crop-specific analysis*\n",
    "\n",
    "$~~~~~~~~~~~~~~~$***2 pm - 3 pm***  \n",
    "* *Group meeting*  \n",
    "\n",
    "$~~~~~~~~~~~~~~~$***3 pm - 5 pm***  \n",
    "* *Soil-series seminar*\n",
    "\n",
    "$~~~~~~~~~~~~~~~$***7p m - 11:30 pm***  \n",
    "* *python lambda function/list comprehension learning: Finished$~~~~~~$*  \n",
    "* *USDA-Field Site: Matlab Code: Finish zoom meeting video watching$~~~~~~$* "
   ]
  },
  {
   "cell_type": "markdown",
   "metadata": {},
   "source": [
    "> ### ***03/03/2022(Thur)***"
   ]
  },
  {
   "cell_type": "markdown",
   "metadata": {},
   "source": [
    "\n",
    "$~~~~~~~~~~~~~~~$***9:30 am - 11 am***  \n",
    "* *Evoluntionary Class*\n",
    "\n",
    "$~~~~~~~~~~~~~~~$***1 pm - 3 pm***  \n",
    "* *EnSci 370 TA QA*\n",
    "\n",
    "$~~~~~~~~~~~~~~~$***3 pm - 5 pm***  \n",
    "* *Pfer timing data: R code*\n",
    "\n",
    "$~~~~~~~~~~~~~~~$***7 pm - 11 pm***  \n",
    "* *Matlab Code: MCMC and SA*\n",
    "\n",
    "\n"
   ]
  },
  {
   "cell_type": "markdown",
   "metadata": {
    "ExecuteTime": {
     "end_time": "2022-03-01T20:25:19.598009Z",
     "start_time": "2022-03-01T20:25:19.595006Z"
    }
   },
   "source": [
    "> ### ***03/04/2022(Fri)***"
   ]
  },
  {
   "cell_type": "markdown",
   "metadata": {},
   "source": [
    "\n",
    "$~~~~~~~~~~~~~~~$***9 am - 10 am***  \n",
    "* *P-fer timing data code check(R code): change intrepolation method*\n",
    "\n",
    "$~~~~~~~~~~~~~~~$***10 pm - 1pm***  \n",
    "* *EnSci 370 Indenpendet study question*  \n",
    "* *Review EnSci 568*  \n",
    "\n",
    "$~~~~~~~~~~~~~~~$***2:30 pm - 5 pm***  \n",
    "* *Continuted: Matlab Code: MCMC and SA*"
   ]
  },
  {
   "cell_type": "markdown",
   "metadata": {},
   "source": [
    "> ### ***03/05-06/2022(Sat/Sun)***"
   ]
  },
  {
   "cell_type": "markdown",
   "metadata": {},
   "source": [
    "\n",
    "* *(Done) Continue: EnSci 370 Indenpendet study question*  \n"
   ]
  },
  {
   "cell_type": "markdown",
   "metadata": {},
   "source": [
    "> ### ***03/07/2022(Mon)***"
   ]
  },
  {
   "cell_type": "markdown",
   "metadata": {
    "ExecuteTime": {
     "end_time": "2022-03-07T15:35:33.821446Z",
     "start_time": "2022-03-07T15:35:33.818443Z"
    }
   },
   "source": [
    "$~~~~~~~~~~~~~~~$***9 am - 7 pm***  \n",
    "* *(Done) [P-fer timing data code check(R code)](https://iowastate.instructuremedia.com/embed/cb4692b4-e918-4f24-9223-04b47da4404d): change intrepolation method*\n",
    "* *(Done) Recording P-fer Timing development: explain the interpolation method*\n",
    "\n"
   ]
  },
  {
   "cell_type": "markdown",
   "metadata": {},
   "source": [
    "> ### ***03/08/2022(Tue)***"
   ]
  },
  {
   "cell_type": "markdown",
   "metadata": {},
   "source": [
    "\n",
    "$~~~~~~~~~~~~~~~$***8:30 pm - 11 pm***   \n",
    "* *Evoluntionary class*\n",
    "\n",
    "$~~~~~~~~~~~~~~~$***11 am - 6 pm***    \n",
    "* *ArcMap-Legend/scale/Graticule*\n",
    "* *(Done): Matlab Code: MCMC for all Sites and Recording*"
   ]
  },
  {
   "cell_type": "markdown",
   "metadata": {},
   "source": [
    "> ### ***03/09/2022(Wed)***  \n",
    "\n",
    "$~~~~~~~~~~~~~~~$***8:30 pm - 11 am***     \n",
    "* *Prepare Isotope data for all sites:*   \n",
    "    *Output: lab-Obser isotope and CO2 in NEON_Isotope\\labObser_lss folder, and lab_obser.csv in NEON_Isotope folder*  \n",
    "    \n",
    "$~~~~~~~~~~~~~~~$***2 pm - 3 pm***  \n",
    "* *group meeting: X^3 - 12x for lignin second peak*\n",
    "\n",
    "$~~~~~~~~~~~~~~~$***9 pm - 11 pm***  \n",
    "    *Input: obser_data_full.xlsx, obser_data.csv in NEON_Isotope folder*  *(Use POM/MAOM as NOM and MON, but sum of POM+MAON not equal to bulk soil)*\n"
   ]
  },
  {
   "cell_type": "markdown",
   "metadata": {
    "ExecuteTime": {
     "end_time": "2022-03-10T05:07:21.152498Z",
     "start_time": "2022-03-10T05:07:21.148495Z"
    }
   },
   "source": [
    "> ### ***03/10/2022(Thur)***  "
   ]
  },
  {
   "cell_type": "markdown",
   "metadata": {},
   "source": [
    "$~~~~~~~~~~~~~~~$***8:30 pm - 11 am***  \n",
    "* ***USDA-Lab***\n",
    "* *Loop parameterize all sites with Isotope data*   \n",
    "    *prior need correction?*  \n",
    "* *NEON-Isotope Code: Checking -  use soil treatments*  \n",
    "          \n",
    " \n",
    "* ***midWest-GHG***  \n",
    "* *modeled NPP of a grain crop to production: equation and paras*   \n",
    "* *Biome seperation: get NPP*   \n",
    "\n",
    "\n",
    "$~~~~~~~~~~~~~~~$***3 pm - 11 pm***  \n",
    "* ***NEON: Second peak site***   \n",
    "* *Equation: logistic,Gaussian*   \n",
    "* *All peak sites run MCMC with new function(gaussian)*   \n",
    "* *Record the modification*\n",
    "\n"
   ]
  },
  {
   "cell_type": "markdown",
   "metadata": {},
   "source": [
    "> ### ***03/11/2022(Fri)***  "
   ]
  },
  {
   "cell_type": "markdown",
   "metadata": {},
   "source": [
    "$~~~~~~~~~~~~~~~$***9 am - 1 pm***   \n",
    "\n",
    "* ***NEON-Isotope: (1MCMC_para  --  2Main Function_modelResult  --  3Plot)***   \n",
    "* *Summarize MCMC-Isotope result, Plot lab-Model comparison*  \n",
    "* *Plot Soil delta variation*\n",
    "* *NEON-Isotope Code: Checking -  use soil treatments*    \n",
    "\n",
    "$~~~~~~~~~~~~~~~$***1 pm - 4 pm***   \n",
    "* *[Run R in matlab on MAC](https://www.mathworks.com/matlabcentral/answers/186-calling-r-from-matlab-on-a-mac)*\n",
    "\n",
    "\n",
    "$~~~~~~~~~~~~~~~$***7 pm - 10 pm***  \n",
    "* *Zoom with ZQ*"
   ]
  },
  {
   "cell_type": "markdown",
   "metadata": {},
   "source": [
    "> ### ***03/12-13/2022(Sat/Sun)***  "
   ]
  },
  {
   "cell_type": "markdown",
   "metadata": {},
   "source": [
    " \n",
    "\n",
    "* ***NEON: Second peak site***  \n",
    "* *Summarize peak result and plot lab-model comparison: peak at day 500 because of using day(574) in code*\n",
    "* *run again with change para day to t (Does not work)*\n",
    "* *Check isotope paras and peak paras*\n",
    "\n",
    "\n",
    "* ***NEON: Isotope***  \n",
    "* *Run again using Soil incubation data:*  \n",
    "    *A error meaasge occur, but cant find the issue:       (C:\\Users\\boyi\\Desktop\\8.MCMC_Uniform_ForLabIcubation_LoopAllSite_Isotope\\20200210_dream_zs_restart_with_SOM\\Rh_12\\Decomposition_Isotope.py:685: RuntimeWarning: divide by zero encountered in double_scalars    \n",
    "  nm_scale = 1-(avN.avn()-avn_opt)/avn_opt   #avn,avN.NH4,avN.NO3:(Unit:g N)#(gN/m2/day))*\n",
    "\n",
    "\n",
    "* ***midWest-GHG*** \n",
    "* *Get Production and Get GHG-Density*"
   ]
  },
  {
   "cell_type": "markdown",
   "metadata": {},
   "source": [
    "![Soil_error](./Image/soik_isotope_error.png)"
   ]
  },
  {
   "cell_type": "markdown",
   "metadata": {
    "ExecuteTime": {
     "end_time": "2022-03-15T17:02:07.831592Z",
     "start_time": "2022-03-15T17:02:07.828590Z"
    }
   },
   "source": [
    "> ### ***03/14/2022(Mon)***  "
   ]
  },
  {
   "cell_type": "markdown",
   "metadata": {},
   "source": [
    "$~~~~~~~~~~~~~~~$***10 am - 11 am***  \n",
    "* *Zoom for the NEON/USDA project*"
   ]
  },
  {
   "cell_type": "markdown",
   "metadata": {},
   "source": [
    "> ### ***03/15/2022(Tue)***  "
   ]
  },
  {
   "cell_type": "markdown",
   "metadata": {},
   "source": [
    "$~~~~~~~~~~~~~~~$***9 am - 5pm***  \n",
    "* *midWest GHG footprint calculation*  \n"
   ]
  },
  {
   "cell_type": "markdown",
   "metadata": {},
   "source": [
    "> ### ***03/16/2022(Wen)***  "
   ]
  },
  {
   "cell_type": "markdown",
   "metadata": {},
   "source": [
    "$~~~~~~~~~~~~~~~$***9 am - 5pm***  \n",
    "* *midWest GHG footprint calculation*   "
   ]
  },
  {
   "cell_type": "markdown",
   "metadata": {},
   "source": [
    "> ### ***03/17/2022(Thur)***"
   ]
  },
  {
   "cell_type": "markdown",
   "metadata": {},
   "source": [
    "$~~~~~~~~~~~~~~~$***9 am - 5pm***  \n",
    "* *midWest GHG footprint calculation*   \n",
    "\n",
    "<mark>*If we can reduce the list comprehension in pft to biome*<mark>"
   ]
  },
  {
   "cell_type": "markdown",
   "metadata": {},
   "source": [
    "> ### ***03/18/2022(Fri)***"
   ]
  },
  {
   "cell_type": "markdown",
   "metadata": {},
   "source": [
    "* *midWest GHG footprint calculation*   "
   ]
  },
  {
   "cell_type": "markdown",
   "metadata": {},
   "source": [
    "> ### ***03/19-20/2022(Sat/Sun)***"
   ]
  },
  {
   "cell_type": "markdown",
   "metadata": {
    "ExecuteTime": {
     "end_time": "2022-03-21T14:06:19.913363Z",
     "start_time": "2022-03-21T14:06:19.908400Z"
    }
   },
   "source": [
    "* *Peak-code*\n",
    "* *Iostope-Soil code*"
   ]
  },
  {
   "cell_type": "markdown",
   "metadata": {
    "ExecuteTime": {
     "end_time": "2022-03-10T05:40:14.144145Z",
     "start_time": "2022-03-10T05:40:14.138172Z"
    }
   },
   "source": [
    "> ### ***03/21/2022(Mon)***"
   ]
  },
  {
   "cell_type": "markdown",
   "metadata": {},
   "source": [
    "* *BlockChain DataFlow Figure*"
   ]
  },
  {
   "cell_type": "markdown",
   "metadata": {
    "ExecuteTime": {
     "end_time": "2022-03-22T18:31:35.328506Z",
     "start_time": "2022-03-22T18:31:35.325503Z"
    }
   },
   "source": [
    "> ### ***03/22/2022(Tue)***"
   ]
  },
  {
   "cell_type": "markdown",
   "metadata": {},
   "source": [
    "* ***NEON Peak Site (Done)***  \n",
    "    *(1) [k_max x lig x gau](https://iowastate.instructuremedia.com/embed/b099a2cc-d713-4a93-95d6-d03c084ba9f2)*  \n",
    "    ***+1 in gaussian to make sure *1 at the beginning period***\n",
    "    "
   ]
  },
  {
   "cell_type": "markdown",
   "metadata": {
    "ExecuteTime": {
     "end_time": "2022-03-25T20:31:39.178148Z",
     "start_time": "2022-03-25T20:31:39.174145Z"
    }
   },
   "source": [
    "> ### ***03/23/2022(Wen)***"
   ]
  },
  {
   "cell_type": "markdown",
   "metadata": {
    "ExecuteTime": {
     "end_time": "2022-03-25T20:31:35.286984Z",
     "start_time": "2022-03-25T20:31:35.283942Z"
    }
   },
   "source": [
    "* *BlockChain DataFlow Figure*"
   ]
  },
  {
   "cell_type": "markdown",
   "metadata": {},
   "source": [
    "> ### ***03/24/2022(Thur)***"
   ]
  },
  {
   "cell_type": "markdown",
   "metadata": {},
   "source": [
    "> ### ***03/25/2022(Fri)***"
   ]
  },
  {
   "cell_type": "markdown",
   "metadata": {},
   "source": [
    "* *NEON paper Writting*"
   ]
  },
  {
   "cell_type": "markdown",
   "metadata": {},
   "source": [
    "> ### ***03/26-27/2022(Sat/Sun)***"
   ]
  },
  {
   "cell_type": "markdown",
   "metadata": {
    "ExecuteTime": {
     "end_time": "2022-03-26T21:34:43.676735Z",
     "start_time": "2022-03-26T21:34:43.667728Z"
    }
   },
   "source": [
    "* *NEON paper writting*"
   ]
  },
  {
   "cell_type": "markdown",
   "metadata": {
    "ExecuteTime": {
     "end_time": "2022-03-28T23:23:49.808056Z",
     "start_time": "2022-03-28T23:23:49.800050Z"
    }
   },
   "source": [
    "> ### ***03/28/2022(Mom)***"
   ]
  },
  {
   "cell_type": "markdown",
   "metadata": {
    "ExecuteTime": {
     "end_time": "2022-03-28T23:24:09.982493Z",
     "start_time": "2022-03-28T23:24:09.979491Z"
    }
   },
   "source": [
    "* ***NEON paper writting:***   \n",
    "    *Fig: How to represent lignin: peak VS no-peak*"
   ]
  },
  {
   "cell_type": "markdown",
   "metadata": {},
   "source": [
    "> ### ***03/29/2022(Tue)***"
   ]
  },
  {
   "cell_type": "markdown",
   "metadata": {},
   "source": [
    "* ***NEON paper writting:***   \n",
    "    *Fig: Peak Site comparison: this study VS CO-matabolism*"
   ]
  },
  {
   "cell_type": "markdown",
   "metadata": {},
   "source": [
    "> ### ***03/30/2022(Wen)***"
   ]
  },
  {
   "cell_type": "markdown",
   "metadata": {},
   "source": [
    "* ***NEON paper writting:***              \n",
    "    ***MCMC*** *: Loop All sites,(<mark>Get Lignin-Peak Rate Under CO-metabolism(un-improvement))<mark>*   \n",
    "    *Result:C:\\Users\\boyi\\Desktop\\8.MCMC_Uniform_ForLabIcubation_LoopAllSite\\20200210_dream_zs_restart_with_SOM\\MAMC_Result\\20220330_LoopAllSites*"
   ]
  },
  {
   "cell_type": "markdown",
   "metadata": {},
   "source": [
    "> ### ***03/31/2022(Thur)***"
   ]
  },
  {
   "cell_type": "markdown",
   "metadata": {
    "ExecuteTime": {
     "end_time": "2022-03-23T03:58:58.787982Z",
     "start_time": "2022-03-23T03:58:58.784979Z"
    }
   },
   "source": [
    "* ***NEON paper writting***      "
   ]
  },
  {
   "cell_type": "markdown",
   "metadata": {
    "ExecuteTime": {
     "end_time": "2022-04-01T13:51:00.054840Z",
     "start_time": "2022-04-01T13:51:00.050837Z"
    }
   },
   "source": [
    "> ### ***04/01/2022(Fri)***"
   ]
  },
  {
   "cell_type": "markdown",
   "metadata": {},
   "source": [
    "* ***NEON paper writting:***      \n",
    "    ***(1)MCMC***: *Peak-Site with Only Litter data for Output*  \n",
    "    *a) Change output to Litter (cal_Rh_peak.py) in MCMC*  \n",
    "    *b) Get <mark>Litter rate<mark> in Peak Site after improvement:* ***litter_mean_improved_20220404.csv***\n",
    "    \n",
    "    ***(2)peak category: pH & Mn (M1+M2) + microbe community***   \n",
    "    *a) Nitrigen (TN): + liter decompsoition; - lignin decomposition*  \n",
    "    *b) N-mineralization (x), not use this data*  \n",
    "    *lignin:N ratio*"
   ]
  },
  {
   "cell_type": "markdown",
   "metadata": {
    "ExecuteTime": {
     "end_time": "2022-04-04T13:52:34.628244Z",
     "start_time": "2022-04-04T13:52:34.624240Z"
    }
   },
   "source": [
    "> ### ***04/02-03/2022(Sat/Sun)***"
   ]
  },
  {
   "cell_type": "markdown",
   "metadata": {},
   "source": [
    "* ***Pfer-data pasture correction***     "
   ]
  },
  {
   "cell_type": "markdown",
   "metadata": {},
   "source": [
    "> ### ***04/04/2022(Mon)***"
   ]
  },
  {
   "cell_type": "markdown",
   "metadata": {},
   "source": [
    "* ***NEON paper writting:***   \n",
    "    *RF: Use pH,Mn,ITS seperate peakSite and non-peakSites*   \n",
    "    *ITS not used in final map*\n",
    "    \n",
    "    \n",
    "    \n",
    "    \n",
    "* ***Degrees/60 minutes/60 seconds, such as 108°15'23\"W***"
   ]
  },
  {
   "cell_type": "markdown",
   "metadata": {
    "ExecuteTime": {
     "end_time": "2022-04-05T18:59:18.939436Z",
     "start_time": "2022-04-05T18:59:18.936433Z"
    }
   },
   "source": [
    "> ### ***04/05/2022(Tue)***"
   ]
  },
  {
   "cell_type": "markdown",
   "metadata": {},
   "source": [
    "* ***NEON paper writting:***    \n",
    "    ***Peak-Site: Litter***: *C:\\Users\\boyi\\Desktop\\8.MCMC_Uniform_ForLabIcubation_LoopSite_Peak\\20200210_dream_zs_restart_with_SOM\\MCMC_Result\\20220404_ligxgauxkmax+1_narrowPara-200_litterCalibrationOnly'*  \n",
    "    ***Peak-Site:Lignin***: *C:\\Users\\boyi\\Desktop\\8.MCMC_Uniform_ForLabIcubation_LoopSite_Peak\\20200210_dream_zs_restart_with_SOM\\MCMC_Result\\20220325_ligxgauxkmax+1_narrowPara-300inter*   \n",
    "    ***Non-Peak-Site: Litter***:   \n",
    "    \n",
    "    ***Non-Peak-Site:Lignin***: \n",
    "    \n",
    "    \n",
    "    "
   ]
  },
  {
   "cell_type": "markdown",
   "metadata": {},
   "source": [
    "> ### ***04/06/2022(Wen)***"
   ]
  },
  {
   "cell_type": "markdown",
   "metadata": {
    "ExecuteTime": {
     "end_time": "2022-04-06T14:43:24.316449Z",
     "start_time": "2022-04-06T14:43:24.313447Z"
    }
   },
   "source": [
    "***MCMC*** *: litter Peak Sites,(<mark>Get litter-Peak Site Rate: 'NIWO2','PUUM1','PUUM2','PUUM3','SCBI3')<mark>*   \n",
    "    *C:\\Users\\boyi\\Desktop\\Uncertainty Quantification_lss\\modelResult_lss\\20220407_litterPeakSite_Only* "
   ]
  },
  {
   "cell_type": "markdown",
   "metadata": {},
   "source": [
    "> ### ***04/07/2022(Thur)***"
   ]
  },
  {
   "cell_type": "markdown",
   "metadata": {},
   "source": [
    "* ***NEON paper writting:***   "
   ]
  },
  {
   "cell_type": "markdown",
   "metadata": {},
   "source": [
    "> ### ***04/08/2022(Fri)***"
   ]
  },
  {
   "cell_type": "markdown",
   "metadata": {},
   "source": [
    "* ***NEON paper writting:***  \n",
    "* ***Litter:no peak site -- litter only peak sites -- lignin peak sites***  \n",
    "    \n",
    "    *C:\\Users\\boyi\\Desktop\\UncertaintyQuantification_lss\\modelResult_lss\\modelResult_1001\\bestEstimate*  *C:\\Users\\boyi\\Desktop\\UncertaintyQuantification_lss\\modelResult_lss\\20220407_litterPeakSite_Only*   *C:\\Users\\boyi\\Desktop\\8.MCMC_Uniform_ForLabIcubation_LoopSite_Peak\\20200210_dream_zs_restart_with_SOM\\MCMC_Result\\202204/4_ligxgauxkmax+1_narrowPara-200_litterCalibrationOnly*  \n",
    "    ***Pool size:*** *C:\\Users\\boyi\\Desktop\\Uncertainty Quantification_lss\\modelResult_lss\\modelResult_20220330*\n",
    "    \n",
    "    \n",
    "* ***Lignin: no peak site -- peak site***  \n",
    "    *C:\\Users\\boyi\\Desktop\\UncertaintyQuantification_lss\\modelResult_lss\\modelResult_1001\\bestEstimate* \n",
    "    *C:\\Users\\boyi\\Desktop\\8.MCMC_Uniform_ForLabIcubation_LoopSite_Peak\\20200210_dream_zs_restart_with_SOM\\MCMC_Result\\20220325_ligxgauxkmax+1_narrowPara-300inter*"
   ]
  },
  {
   "cell_type": "markdown",
   "metadata": {},
   "source": [
    "> ### ***04/09-10/2022(Sat/Sun)***"
   ]
  },
  {
   "cell_type": "markdown",
   "metadata": {},
   "source": [
    "* ***NEON paper writting:***   "
   ]
  },
  {
   "cell_type": "markdown",
   "metadata": {
    "ExecuteTime": {
     "end_time": "2022-04-11T13:42:45.603553Z",
     "start_time": "2022-04-11T13:42:45.600550Z"
    }
   },
   "source": [
    "> ### ***04/11/2022(Mon)***"
   ]
  },
  {
   "cell_type": "markdown",
   "metadata": {},
   "source": [
    "* ***NEON paper writting:***  \n",
    "\n",
    "*Pool size of peak lignin sites:*\n",
    "*C:\\Users\\boyi\\Desktop\\8.MCMC_Uniform_ForLabIcubation_LoopSite_Peak\\20200210_dream_zs_restart_with_SOM\\MCMC_Result\\20220325_ligxgauxkmax+1_narrowPara-300inter\\Cpool_size*  \n",
    "\n",
    "*Pool size of non-peak lignin sites:*  \n",
    "\n",
    "*C:\\Users\\boyi\\Desktop\\Uncertainty Quantification_lss\\modelResult_lss\\modelResult_20220330*"
   ]
  },
  {
   "cell_type": "markdown",
   "metadata": {},
   "source": [
    "> ### ***04/12/2022(Tue)***"
   ]
  },
  {
   "cell_type": "markdown",
   "metadata": {
    "ExecuteTime": {
     "end_time": "2022-04-12T19:32:46.379933Z",
     "start_time": "2022-04-12T19:32:45.916349Z"
    }
   },
   "source": [
    "* ***NEON paper writting:***  \n",
    "\n",
    "* *Substrate-limitation: Based on LoopAllSite - USE AOM1.C/AOM3.C = 1.5 as condition*  \n",
    "    *C:\\Users\\boyi\\Desktop\\8.MCMC_Uniform_ForLabIcubation_LoopAllSite\\20200210_dream_zs_restart_with_SOM\\MAMC_Result\\20220330_LoopAllSites_SubLimt*\n",
    "    \n",
    "    \n",
    "* *Get parameter Combine: C:\\Users\\boyi\\Desktop\\Uncertainty Quantification_lss\\postPara_lss\\paraMap_20220411*"
   ]
  },
  {
   "cell_type": "markdown",
   "metadata": {
    "ExecuteTime": {
     "end_time": "2022-04-15T21:40:48.833209Z",
     "start_time": "2022-04-15T21:40:48.829206Z"
    }
   },
   "source": [
    "> ### ***04/13/2022(Wen)***"
   ]
  },
  {
   "cell_type": "markdown",
   "metadata": {},
   "source": [
    "> ### ***04/14/2022(Thur)***"
   ]
  },
  {
   "cell_type": "markdown",
   "metadata": {},
   "source": [
    "> ### ***04/15/2022(Fri)***"
   ]
  },
  {
   "cell_type": "markdown",
   "metadata": {},
   "source": [
    "* ***NEON paper writting:***  \n",
    "\n",
    "* *Figure: lignin result comparision under 3 hypothesis*"
   ]
  },
  {
   "cell_type": "markdown",
   "metadata": {
    "ExecuteTime": {
     "end_time": "2022-04-15T21:40:58.168894Z",
     "start_time": "2022-04-15T21:40:58.164891Z"
    }
   },
   "source": [
    "> ### ***04/16-17/2022(Sat/Sun)***"
   ]
  },
  {
   "cell_type": "markdown",
   "metadata": {
    "ExecuteTime": {
     "end_time": "2022-04-18T16:10:19.856535Z",
     "start_time": "2022-04-18T16:10:19.852532Z"
    }
   },
   "source": [
    "* ***NEON paper writting:***"
   ]
  },
  {
   "cell_type": "markdown",
   "metadata": {},
   "source": [
    "> ### ***04/18/2022(Mon)***"
   ]
  },
  {
   "cell_type": "markdown",
   "metadata": {},
   "source": [
    "* *NOEN Meeting Comment:*  \n",
    "    *lignin important or not?*    \n",
    "    *Add map to loa/log*  \n",
    "    *more N: flate period longer*  \n",
    "    *lab CO2 change into remaining %*  \n",
    "    *Table to show model in lignin & figure to show H1-3*  \n",
    "    *2 indicator pH,Mn change into 3*  \n",
    "    *discuss multiple sites and single sites*"
   ]
  },
  {
   "cell_type": "markdown",
   "metadata": {},
   "source": [
    "> ### ***04/19/2022(Tue)***"
   ]
  },
  {
   "cell_type": "markdown",
   "metadata": {},
   "source": [
    "* *AI-Graph of 3 Hypothesis*\n",
    "* *PPT for EEB561 presentation*"
   ]
  },
  {
   "cell_type": "markdown",
   "metadata": {},
   "source": [
    "> ### ***04/20/2022(Wen)***"
   ]
  },
  {
   "cell_type": "markdown",
   "metadata": {},
   "source": [
    "> ### ***04/21/2022(Thur)***"
   ]
  },
  {
   "cell_type": "markdown",
   "metadata": {},
   "source": [
    "* ***NEON paper writting:***  \n",
    "    *CO2 rate to C remaining*"
   ]
  },
  {
   "cell_type": "markdown",
   "metadata": {
    "ExecuteTime": {
     "end_time": "2022-04-25T20:32:20.691814Z",
     "start_time": "2022-04-25T20:32:20.688812Z"
    }
   },
   "source": [
    "> ### ***04/22/2022(Fri)***"
   ]
  },
  {
   "cell_type": "markdown",
   "metadata": {},
   "source": [
    "> ### ***04/23-24/2022(Sat/Sun)***"
   ]
  },
  {
   "cell_type": "markdown",
   "metadata": {},
   "source": [
    "> ### ***04/25/2022(Mon)***"
   ]
  },
  {
   "cell_type": "markdown",
   "metadata": {},
   "source": [
    "> ### ***04/26/2022(Tue)***"
   ]
  },
  {
   "cell_type": "markdown",
   "metadata": {},
   "source": [
    "* ***NEON paper writting:***  \n",
    "    * ***N pool szie:*** *C:\\Users\\boyi\\Desktop\\Uncertainty Quantification_lss\\modelResult_lss\\modelResult_20220330 -- Soil_Npool*   \n",
    "    * ***Method Section:***"
   ]
  },
  {
   "cell_type": "markdown",
   "metadata": {},
   "source": [
    "> ### ***05/03/2022(Tue)***"
   ]
  },
  {
   "cell_type": "markdown",
   "metadata": {},
   "source": [
    "* *Re-plot NOEN paper figures*"
   ]
  },
  {
   "cell_type": "markdown",
   "metadata": {
    "ExecuteTime": {
     "end_time": "2022-05-04T15:48:33.040466Z",
     "start_time": "2022-05-04T15:48:33.037463Z"
    }
   },
   "source": [
    "> ### ***05/04/2022(Wen)***"
   ]
  },
  {
   "cell_type": "markdown",
   "metadata": {},
   "source": [
    "* ***Zoom for NEON lab incubation with Dr. Lu and Steven***  \n",
    "    <mark>*change all rate to pct(%)*<mark>     \n",
    "    \n",
    "    *CO2-pct/per day: flux, measure the CO2 flux*  \n",
    "    *C-remaining(%):  mass, meaure the C remain*  \n",
    "    *Change Unit from mg CO2 g-1 soil day-1  to mg CO2 g-1 C day-1 (%)*\n",
    "    \n",
    "    *discuss 3 mechanism module first, this is why model has different result*  \n",
    "    *Seacrh for US-GIS dataset for Mn data*  \n",
    "    \n",
    "* *lit:lig=2 change the co-metabolism and sub-limitation in model*  \n",
    "\n",
    "* *Re-plot: NEON field sites*  \n",
    "    *[ArcGIS Hub](https://hub.arcgis.com/search?categories=neon%20spatial%20data&q=NEON)*  \n",
    "    *[US map with submap of Hawaii and Alaska](https://www.esri.com/news/arcwatch/1012/clip-the-data-frame-to-make-your-map-polished-professional.html)*  \n",
    "    *Coordinate System: Alaska: NAD_1983_Alaska_Albers*   \n",
    "    *Editor: split a polygon into different polygons:Advanced editing - Multipart Feature*  \n",
    "    *select feature - Export Data as Feature Class*   \n",
    "    *Feature Class To Shapefile(Conversion): change feature class to shapefile*\n",
    "    \n",
    "* *Mn plot of US from Dr. LU*  \n"
   ]
  },
  {
   "cell_type": "markdown",
   "metadata": {},
   "source": [
    "> ### ***05/05/2022(Thur)***"
   ]
  },
  {
   "cell_type": "markdown",
   "metadata": {},
   "source": [
    "* *[✓]Re-plot NOEN paper figures:*  \n",
    "    *[✓](1): Site Distribution Map*"
   ]
  },
  {
   "cell_type": "markdown",
   "metadata": {},
   "source": [
    "> ### ***05/16/2022(Mon)***"
   ]
  },
  {
   "cell_type": "markdown",
   "metadata": {},
   "source": [
    "* ***NEON paper writting:***   \n",
    "    *Method:Microbial pool change & Microbial pool flux*  \n",
    "    *litter peak: microbes also growth when lignin start growth because of litter-release*\n",
    "    \n",
    "    **Revise:**  \n",
    "    *Sub-limitation: litter-CO2 dont shoow protetcion effect*\n",
    "    \n",
    "    *code:*  \n",
    "    *lab-model comparison in 65 non-peak sites*"
   ]
  },
  {
   "cell_type": "markdown",
   "metadata": {},
   "source": [
    "> ### ***05/17/2022(Tue)***"
   ]
  },
  {
   "cell_type": "markdown",
   "metadata": {
    "ExecuteTime": {
     "end_time": "2022-05-16T16:34:14.546000Z",
     "start_time": "2022-05-16T16:34:14.540996Z"
    }
   },
   "source": [
    "*f(N) - plain period*  \n",
    "*contribution of different factor to CO2 gap*  \n",
    "*compare % difference of peak and non-peak sites accumalative content: 5% s 15% total comsumption*"
   ]
  },
  {
   "cell_type": "markdown",
   "metadata": {
    "ExecuteTime": {
     "end_time": "2022-05-18T14:49:30.457434Z",
     "start_time": "2022-05-18T14:49:30.454430Z"
    }
   },
   "source": [
    "> ### ***05/18/2022(Wen)***"
   ]
  },
  {
   "cell_type": "markdown",
   "metadata": {},
   "source": [
    "*[✓]bio-niche: litter make soil nutrient rich -- when niche turn into fungi dominnat: peak occur*  \n",
    "*time is also important: long enough to detect the peak*"
   ]
  },
  {
   "cell_type": "markdown",
   "metadata": {
    "ExecuteTime": {
     "end_time": "2022-05-20T17:08:55.449605Z",
     "start_time": "2022-05-20T17:08:55.440598Z"
    }
   },
   "source": [
    "> ### ***05/20/2022(Friday)***"
   ]
  },
  {
   "cell_type": "markdown",
   "metadata": {},
   "source": [
    "*[✓]right source and right time*  \n",
    "\n",
    "*clear the definition:*  \n",
    "    *SOC decomposition VS Litter decomposition*  \n",
    "    *Decomposition VS Carbon stock*\n"
   ]
  },
  {
   "cell_type": "markdown",
   "metadata": {
    "ExecuteTime": {
     "end_time": "2022-05-20T17:10:16.745961Z",
     "start_time": "2022-05-20T17:10:16.742920Z"
    }
   },
   "source": [
    "> ### ***05/23/2022(Mon)***"
   ]
  },
  {
   "cell_type": "markdown",
   "metadata": {},
   "source": [
    "*Normally, thought lignin is negative related with SOM decomposition, however, we found that even with the same lignin, no-peak group VS pct of peak group still have 25% gap*  \n",
    "*How many % lignin in total CO2 emission: peak VS no peak*\n",
    "\n",
    "*multyply litter CO2 gaussian modification for all model result*"
   ]
  },
  {
   "cell_type": "markdown",
   "metadata": {
    "ExecuteTime": {
     "end_time": "2022-05-23T17:04:36.708973Z",
     "start_time": "2022-05-23T17:04:36.704971Z"
    }
   },
   "source": [
    "> ### ***05/22/2022(Tue)***"
   ]
  },
  {
   "cell_type": "markdown",
   "metadata": {},
   "source": [
    "*[✓] Advocate for site specific parameters*"
   ]
  },
  {
   "cell_type": "markdown",
   "metadata": {},
   "source": [
    "> ### ***06/13/2022(Mon)***"
   ]
  },
  {
   "cell_type": "markdown",
   "metadata": {},
   "source": [
    "***NEON paper first Reversion: done***  "
   ]
  },
  {
   "cell_type": "markdown",
   "metadata": {},
   "source": [
    "> ### ***06/14/2022(Tue)***"
   ]
  },
  {
   "cell_type": "markdown",
   "metadata": {
    "ExecuteTime": {
     "end_time": "2022-03-11T15:38:53.313300Z",
     "start_time": "2022-03-11T15:38:53.309273Z"
    }
   },
   "source": [
    "***Get first Reversion of NEON labModel-Comparison Paper***"
   ]
  },
  {
   "cell_type": "markdown",
   "metadata": {},
   "source": [
    "> ### ***06/22/2022(Wen)***"
   ]
  },
  {
   "cell_type": "markdown",
   "metadata": {},
   "source": [
    "***Send out NEON labModel-Comparison Paper V2 to Co-authors***"
   ]
  },
  {
   "cell_type": "markdown",
   "metadata": {
    "ExecuteTime": {
     "end_time": "2022-06-26T16:44:43.220977Z",
     "start_time": "2022-06-26T16:44:43.211970Z"
    }
   },
   "source": [
    "> ### ***06/23/2022(Thur)***"
   ]
  },
  {
   "cell_type": "markdown",
   "metadata": {},
   "source": [
    "***Decomposibility Map (Decay VS CUE)***  \n",
    "* *Pool Weighted values*  \n",
    "* *list contain data*"
   ]
  },
  {
   "cell_type": "markdown",
   "metadata": {},
   "source": [
    "> ### ***06/24/2022(Fri)***"
   ]
  },
  {
   "cell_type": "markdown",
   "metadata": {},
   "source": [
    "***paper Reversion from WH***  \n",
    "* *1)*"
   ]
  },
  {
   "cell_type": "markdown",
   "metadata": {},
   "source": [
    "> ### ***06/25-26/2022(Sat/Sun)***"
   ]
  },
  {
   "cell_type": "markdown",
   "metadata": {
    "ExecuteTime": {
     "end_time": "2022-06-27T16:48:29.261683Z",
     "start_time": "2022-06-27T16:48:29.258671Z"
    }
   },
   "source": [
    "> ### ***06/27/2022(Mon)***"
   ]
  },
  {
   "cell_type": "markdown",
   "metadata": {},
   "source": [
    "***C3-C4***  \n",
    "* *C3(More photosynthetically efficient and productive): Tree, Cool season grasses*  \n",
    "* *C4: Corn, Sorghum, Switchgrass, Warm season grasses*  \n",
    "           \n",
    "           \n",
    "* *Use T=800, interation for 800 for MCMC:* \n",
    "    *MCMC data Saved: C:\\Users\\boyi\\Desktop\\8.MCMC_Uniform_ForLabIcubation_LoopAllSite\\20200210_dream_zs_restart_with_SOM*        \n",
    "      \n",
    "      \n",
    "* *Use POM and MAOM data run MCMC*  \n",
    "    *POM/MAOM data from: C:\\Users\\boyi\\Desktop\\NEON_Isotope\\obser_data_full.xlsx (Change name into obser_data_POMMAOM.xlsx)*  \n",
    "    *C:\\Users\\boyi\\Desktop\\8.MCMC_Uniform_ForLabIcubation_LoopAllSite\\20200210_dream_zs_restart_with_SOM\\obser_data_POMMAOM.xlsx*  \n",
    "    *run T=800 for all sites in C:\\Users\\boyi\\Desktop\\8.MCMC_Uniform_ForLabIcubation_LoopAllSite\\20200210_dream_zs_restart_with_SOM*\n",
    "\n"
   ]
  },
  {
   "cell_type": "markdown",
   "metadata": {},
   "source": [
    "> ### ***06/28/2022(Tue)***"
   ]
  },
  {
   "cell_type": "markdown",
   "metadata": {},
   "source": [
    "* *RF: OOB error and validation error*"
   ]
  },
  {
   "cell_type": "markdown",
   "metadata": {},
   "source": [
    "> ### ***06/29/2022(Wen)***"
   ]
  },
  {
   "cell_type": "markdown",
   "metadata": {},
   "source": [
    "* ***#Flows to and from MIC_1***\n",
    "    *[Paper](https://gmd.copernicus.org/articles/8/1789/2015/)*;\n",
    "    *[MIMIC Code](https://github.com/wwieder/MIMICS/tree/MIMICS_v0.1)*   \n",
    "    \n",
    "    * *LITmin[1] = MIC_1 * VMAX[1] * LIT_1 / (KM[1] + LIT_1) &emsp; #MIC_1 decomp of MET lit*   \n",
    "    * ***KM***: *Substrate Concentration*\n",
    "    \n",
    "      \n",
    "* **"
   ]
  },
  {
   "cell_type": "markdown",
   "metadata": {},
   "source": [
    "> ### ***06/30/2022(Thur)***"
   ]
  },
  {
   "cell_type": "markdown",
   "metadata": {},
   "source": [
    "* *Change code to MM driven Microbial Process*"
   ]
  }
 ],
 "metadata": {
  "kernelspec": {
   "display_name": "Python 3 (ipykernel)",
   "language": "python",
   "name": "python3"
  },
  "language_info": {
   "codemirror_mode": {
    "name": "ipython",
    "version": 3
   },
   "file_extension": ".py",
   "mimetype": "text/x-python",
   "name": "python",
   "nbconvert_exporter": "python",
   "pygments_lexer": "ipython3",
   "version": "3.9.7"
  },
  "toc": {
   "base_numbering": 1,
   "nav_menu": {},
   "number_sections": false,
   "sideBar": true,
   "skip_h1_title": false,
   "title_cell": "Table of Contents",
   "title_sidebar": "MAIN",
   "toc_cell": false,
   "toc_position": {
    "height": "calc(100% - 180px)",
    "left": "10px",
    "top": "150px",
    "width": "316.753px"
   },
   "toc_section_display": true,
   "toc_window_display": true
  },
  "widgets": {
   "application/vnd.jupyter.widget-state+json": {
    "state": {},
    "version_major": 2,
    "version_minor": 0
   }
  }
 },
 "nbformat": 4,
 "nbformat_minor": 4
}
