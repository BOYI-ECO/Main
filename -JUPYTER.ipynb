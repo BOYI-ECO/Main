{
 "cells": [
  {
   "cell_type": "markdown",
   "metadata": {},
   "source": [
    "# ***Markdowm***"
   ]
  },
  {
   "cell_type": "markdown",
   "metadata": {},
   "source": [
    "> ### ***Basic language***\n",
    "\n",
    "*Italic*: add a asterrisk without space around the letter  \n",
    "**Bold**: add two asterrisk without space around the letter  \n",
    "***Bold Italic***: add three asterrisk without space around the letter  \n",
    "\"  \": two empty space at the end of line can change the line\n",
    "> : Identation; >>: two line identation  \n",
    "\n",
    "$~~~~~~~~~~~~~$: space  \n",
    "<mark>: mark with color"
   ]
  },
  {
   "cell_type": "markdown",
   "metadata": {},
   "source": [
    "> ### *Load image*  \n",
    "\n",
    "<img src=\"./Image/tontonne.png\" width=\"\" height=\"\" align=\"left\"/>\n",
    "\n",
    "![alt text](./Image/tonne.jpg     \"Title\")\n"
   ]
  },
  {
   "cell_type": "markdown",
   "metadata": {
    "ExecuteTime": {
     "end_time": "2022-02-11T15:03:48.184124Z",
     "start_time": "2022-02-11T15:03:48.181121Z"
    }
   },
   "source": [
    "> ### ***Hyper link***"
   ]
  },
  {
   "cell_type": "markdown",
   "metadata": {},
   "source": [
    "***[Link text Here](https://link-url-here.org)***"
   ]
  },
  {
   "cell_type": "markdown",
   "metadata": {},
   "source": [
    "# ***Package Import***"
   ]
  },
  {
   "cell_type": "code",
   "execution_count": 90,
   "metadata": {
    "ExecuteTime": {
     "end_time": "2022-05-16T16:17:31.341755Z",
     "start_time": "2022-05-16T16:17:31.001475Z"
    }
   },
   "outputs": [],
   "source": [
    "import numpy as np\n",
    "import pandas as pd\n",
    "import time\n",
    "import numpy as np\n",
    "import pandas as pd\n",
    "import seaborn as sns\n",
    "from scipy import stats, integrate\n",
    "import matplotlib.pyplot as plt\n",
    "import time\n",
    "\n",
    "from scipy import stats, integrate\n",
    "from scipy.signal import find_peaks\n",
    "from collections import Counter\n",
    "\n",
    "%matplotlib inline"
   ]
  },
  {
   "cell_type": "markdown",
   "metadata": {},
   "source": [
    "*Tip:If you're using Notepad++, you can automatically convert tabs to spaces. On the ribbon, click Edit, point to Blank Operations, and choose TAB to Space.*"
   ]
  },
  {
   "cell_type": "markdown",
   "metadata": {},
   "source": [
    "> ### ***Install ArcPy***  \n",
    "https://anaconda.org/esri/arcpy"
   ]
  },
  {
   "cell_type": "code",
   "execution_count": null,
   "metadata": {
    "ExecuteTime": {
     "end_time": "2022-04-18T19:42:44.863548Z",
     "start_time": "2022-04-18T19:42:44.861546Z"
    }
   },
   "outputs": [],
   "source": [
    "# #Open the Anaconda Prompt.\n",
    "# #Create a new Python environment using the following command.\n",
    "# conda create -n EnviornmentName\n",
    "# #Install the ArcGIS module.\n",
    "# conda install -c esri ArcGIS\n",
    "# #Install the arcpy module.\n",
    "# conda install -c esri arcpy"
   ]
  },
  {
   "cell_type": "markdown",
   "metadata": {},
   "source": [
    "> ### ***Check python Version***"
   ]
  },
  {
   "cell_type": "code",
   "execution_count": null,
   "metadata": {
    "ExecuteTime": {
     "end_time": "2022-04-18T19:42:44.895574Z",
     "start_time": "2022-04-18T19:42:44.864549Z"
    }
   },
   "outputs": [],
   "source": [
    "from platform import python_version\n",
    "print(python_version())\n",
    "# Install python 3.7\n",
    "# conda install python=3.7.0"
   ]
  },
  {
   "cell_type": "markdown",
   "metadata": {},
   "source": [
    "> ### ***Change the Work-Directory / environment***\n",
    "* http://c.biancheng.net/view/5693.html\n",
    "* https://shanyitan.medium.com/how-to-change-the-working-directory-of-jupyter-and-jupyter-lab-on-windows-environment-bbe5a5a99f05"
   ]
  },
  {
   "cell_type": "code",
   "execution_count": 92,
   "metadata": {
    "ExecuteTime": {
     "end_time": "2022-05-17T15:40:49.401600Z",
     "start_time": "2022-05-17T15:40:49.152389Z"
    }
   },
   "outputs": [],
   "source": [
    "import os\n",
    "os.getcwd()\n",
    "os.chdir(r'D:\\clu_workfolder\\boyi')\n",
    "os.getcwd()\n",
    "df2 = pd.read_csv ('.\\BOYI-Location.txt')\n",
    "df1 = pd.read_csv (r'D:\\clu_workfolder\\boyi\\BOYI-Location.txt')"
   ]
  },
  {
   "cell_type": "markdown",
   "metadata": {},
   "source": [
    "> ### ***Get file in a specific folder***"
   ]
  },
  {
   "cell_type": "code",
   "execution_count": 93,
   "metadata": {
    "ExecuteTime": {
     "end_time": "2022-05-17T15:40:52.462198Z",
     "start_time": "2022-05-17T15:40:52.457193Z"
    }
   },
   "outputs": [
    {
     "data": {
      "text/plain": [
       "['.ipynb_checkpoints',\n",
       " '1newLUCC_tillageAdj2',\n",
       " '292017',\n",
       " '5.NEON_DATA',\n",
       " '5_MCMC_Uniform_Lab_All Para',\n",
       " 'BOYI-Location.txt',\n",
       " 'Data',\n",
       " 'Decompara_sapheart.txt',\n",
       " 'DLEM_original',\n",
       " 'Iowa_border',\n",
       " 'Iowa_watershed',\n",
       " 'n2o',\n",
       " 'new_forestage_LCimpactAdj_5thYrNoCNlossAdj_newIdleFallow_WCB',\n",
       " 'NP_Removal',\n",
       " 'omp_opt-2019,0424']"
      ]
     },
     "execution_count": 93,
     "metadata": {},
     "output_type": "execute_result"
    }
   ],
   "source": [
    "os.listdir(path=r'D:\\clu_workfolder\\boyi')"
   ]
  },
  {
   "cell_type": "code",
   "execution_count": 95,
   "metadata": {
    "ExecuteTime": {
     "end_time": "2022-05-17T15:46:38.033825Z",
     "start_time": "2022-05-17T15:46:22.980342Z"
    }
   },
   "outputs": [
    {
     "name": "stdout",
     "output_type": "stream",
     "text": [
      "Collecting pygamNote: you may need to restart the kernel to use updated packages.\n",
      "  Downloading pygam-0.8.0-py2.py3-none-any.whl (1.8 MB)\n",
      "Requirement already satisfied: numpy in c:\\users\\boyi\\.conda\\envs\\jupyterlab-3.2.1_1\\lib\\site-packages (from pygam) (1.21.4)\n",
      "Collecting progressbar2\n",
      "  Downloading progressbar2-4.0.0-py2.py3-none-any.whl (26 kB)\n",
      "Collecting future\n",
      "  Downloading future-0.18.2.tar.gz (829 kB)\n",
      "Requirement already satisfied: scipy in c:\\users\\boyi\\.conda\\envs\\jupyterlab-3.2.1_1\\lib\\site-packages (from pygam) (1.7.3)\n",
      "Collecting python-utils>=3.0.0\n",
      "  Downloading python_utils-3.2.2-py2.py3-none-any.whl (20 kB)\n",
      "Building wheels for collected packages: future\n",
      "  Building wheel for future (setup.py): started\n",
      "  Building wheel for future (setup.py): finished with status 'done'\n",
      "  Created wheel for future: filename=future-0.18.2-py3-none-any.whl size=491070 sha256=f5f8fbd6a0f83a7986c31ff3aa1fdcdaa47dbe37cd9df7f781ad09edf0aac4e7\n",
      "  Stored in directory: c:\\users\\boyi\\appdata\\local\\pip\\cache\\wheels\\2f\\a0\\d3\\4030d9f80e6b3be787f19fc911b8e7aa462986a40ab1e4bb94\n",
      "Successfully built future\n",
      "Installing collected packages: python-utils, progressbar2, future, pygam\n",
      "Successfully installed future-0.18.2 progressbar2-4.0.0 pygam-0.8.0 python-utils-3.2.2\n",
      "\n"
     ]
    }
   ],
   "source": [
    "pip install pygam"
   ]
  },
  {
   "cell_type": "markdown",
   "metadata": {
    "ExecuteTime": {
     "end_time": "2022-03-11T15:30:22.104549Z",
     "start_time": "2022-03-11T15:30:22.100545Z"
    }
   },
   "source": [
    "> ### ***Get file name in a specific folder***"
   ]
  },
  {
   "cell_type": "code",
   "execution_count": null,
   "metadata": {
    "ExecuteTime": {
     "end_time": "2022-04-18T19:42:45.313922Z",
     "start_time": "2022-04-18T19:42:44.948619Z"
    }
   },
   "outputs": [],
   "source": [
    "import scipy.io\n",
    "import os\n",
    "import fnmatch \n",
    "path = r'C:\\Users\\boyi\\Desktop\\8.MCMC_Uniform_ForLabIcubation_LoopAllSite - Isotope\\20200210_dream_zs_restart_with_SOM'\n",
    "\n",
    "def get_filename(path):\n",
    "    filenames=[]\n",
    "    name_pattern = '*.mat'\n",
    "    for filename in os.listdir(path):\n",
    "        if fnmatch.fnmatch(filename, name_pattern):\n",
    "            filenames.append(path + '\\\\' + filename)\n",
    "    return filenames\n",
    "filenames=get_filename(path)\n",
    "#print (filenames)"
   ]
  },
  {
   "cell_type": "markdown",
   "metadata": {},
   "source": [
    "------"
   ]
  },
  {
   "cell_type": "markdown",
   "metadata": {},
   "source": [
    "# ***Data Type***"
   ]
  },
  {
   "cell_type": "code",
   "execution_count": null,
   "metadata": {
    "ExecuteTime": {
     "end_time": "2022-04-18T19:42:45.316924Z",
     "start_time": "2022-04-18T19:42:45.316924Z"
    }
   },
   "outputs": [],
   "source": [
    "# Str\n",
    "x1 = \"Hello World\"\n",
    "print(type(x1))\n",
    "# list\n",
    "x2 = [\"apple\", \"banana\", \"cherry\"]\n",
    "print(type(x2))\n",
    "# tuple\n",
    "x3 = (\"apple\", \"banana\", \"cherry\")\n",
    "print(type(x3))\n",
    "# dict\n",
    "x4 = {\"name\" : \"John\", \"age\" : 36}\n",
    "print(type(x4))"
   ]
  },
  {
   "cell_type": "markdown",
   "metadata": {},
   "source": [
    "> ### ***Class***"
   ]
  },
  {
   "cell_type": "code",
   "execution_count": null,
   "metadata": {
    "ExecuteTime": {
     "end_time": "2022-04-18T19:42:45.317925Z",
     "start_time": "2022-04-18T19:42:45.317925Z"
    }
   },
   "outputs": [],
   "source": [
    "class C_pool():\n",
    "    def __init__(self):                     # This is class attribute\n",
    "        self.carbon = 0\n",
    "        \n",
    "    def Carbon(self,substrate):             # This is class method\n",
    "        self.carbon = substrate\n",
    "        \n",
    "C_sub = C_pool()                            # Class initialization\n",
    "\n",
    "C_sub.carbon = 100*0.2                      # Assign a value to attribute\n",
    "print(C_sub.carbon)\n",
    "\n",
    "carbon = -100                               # Update value by method\n",
    "C_sub.Carbon(carbon)\n",
    "print(C_sub.carbon)\n"
   ]
  },
  {
   "cell_type": "markdown",
   "metadata": {},
   "source": [
    "# ***Data Import&Save***"
   ]
  },
  {
   "cell_type": "markdown",
   "metadata": {},
   "source": [
    "> ### *Absolute pathway & relative pathway*"
   ]
  },
  {
   "cell_type": "code",
   "execution_count": null,
   "metadata": {
    "ExecuteTime": {
     "end_time": "2022-04-18T19:42:45.318926Z",
     "start_time": "2022-04-18T19:42:45.318926Z"
    }
   },
   "outputs": [],
   "source": [
    "# Absolute\n",
    "# r'C:\\Users\\ee_boyi_adm\\Desktop\\Uncertainty Quantification_lss'\n",
    "\n",
    "# Relative\n",
    "# '.\\YELL1_lss_labObser.csv'"
   ]
  },
  {
   "cell_type": "markdown",
   "metadata": {},
   "source": [
    "> ### ***DATA Import&Save***"
   ]
  },
  {
   "cell_type": "code",
   "execution_count": null,
   "metadata": {
    "ExecuteTime": {
     "end_time": "2022-04-18T19:42:45.319927Z",
     "start_time": "2022-04-18T19:42:45.319927Z"
    }
   },
   "outputs": [],
   "source": [
    "#decom_para = pd.read_csv(\"decom_para.csv\",index_col=0)   # the first column is index"
   ]
  },
  {
   "cell_type": "code",
   "execution_count": null,
   "metadata": {
    "ExecuteTime": {
     "end_time": "2022-04-18T19:42:45.320927Z",
     "start_time": "2022-04-18T19:42:45.320927Z"
    }
   },
   "outputs": [],
   "source": [
    "Rh= [1,2,3,4,5,6,7,8,9,10,11,12,13,14,15,16,17,18,19,20]\n",
    "Rh_array   = np.array(Rh)     #Convert list[] into array\n",
    "Rh_reshape = Rh_array.reshape(-1,10) #Reshape array\n",
    "Rh_frame   = pd.DataFrame(Rh_reshape[:,-4:]) # Choose the last 4 column and convert into DataFrame\n",
    "# Rh_frame = pd.melt(data_lls_frame).iloc[:,-1] # Stack all 4 column into 1 columns along y-axis, and choose the last columns from result\n",
    "\n",
    "# np.savetxt('.\\Rh_result.txt',Rh_frame) # Save result\n",
    "# Rh_frame.to_csv('.\\Rh_result.csv',header=False,index=False)"
   ]
  },
  {
   "cell_type": "markdown",
   "metadata": {},
   "source": [
    "> ### ***Save file: numpy VS Pandas***"
   ]
  },
  {
   "cell_type": "code",
   "execution_count": null,
   "metadata": {
    "ExecuteTime": {
     "end_time": "2022-04-18T19:42:45.321928Z",
     "start_time": "2022-04-18T19:42:45.321928Z"
    }
   },
   "outputs": [],
   "source": [
    "# np.savetxt('./Rh_result.txt',Rh_frame) # Save result\n",
    "# Name.to_csv(\"./model_output/Rh of Sample{} in Day{}.csv\".format(sample_site,t),header=False,index=False)"
   ]
  },
  {
   "cell_type": "markdown",
   "metadata": {},
   "source": [
    "> ### ***Place-holder for Output***"
   ]
  },
  {
   "cell_type": "code",
   "execution_count": null,
   "metadata": {
    "ExecuteTime": {
     "end_time": "2022-04-18T19:42:45.322929Z",
     "start_time": "2022-04-18T19:42:45.322929Z"
    }
   },
   "outputs": [],
   "source": [
    "# obser_data.loc[sample_site,name+'_C']\n",
    "# Output = \"My name is {filename}, I'm {unm}\".format(filename = \"John\", unm = 36)\n",
    "import time\n",
    "sitename = ['YELL']\n",
    "sitenum  = 0\n",
    "rept     = 1\n",
    "FileName = '{Site}{Num}_lss_labObser'.format(Site = sitename[sitenum],Num=rept)\n",
    "filename = '{Site}{Num}_lss_total_{timer}.jpg'.format(Site=sitename[sitenum],Num=rept,timer=time.strftime(\"%m%d%Y-%H%M\"))\n",
    "filename"
   ]
  },
  {
   "cell_type": "markdown",
   "metadata": {},
   "source": [
    "> ### *list[DataFrame]*"
   ]
  },
  {
   "cell_type": "code",
   "execution_count": 5,
   "metadata": {
    "ExecuteTime": {
     "end_time": "2022-06-23T20:16:04.707709Z",
     "start_time": "2022-06-23T20:16:04.702705Z"
    }
   },
   "outputs": [
    {
     "data": {
      "text/plain": [
       "str"
      ]
     },
     "execution_count": 5,
     "metadata": {},
     "output_type": "execute_result"
    }
   ],
   "source": [
    "import numpy as np\n",
    "import pandas as pd\n",
    "DF_list= list()\n",
    "df1 = pd.DataFrame(np.zeros(9))\n",
    "df2 = pd.DataFrame(np.ones(8))\n",
    "DF_list.append(df1)\n",
    "DF_list.append(df2)\n",
    "DF_list.append('SB')\n",
    "type(DF_list[2])"
   ]
  },
  {
   "cell_type": "markdown",
   "metadata": {},
   "source": [
    "> ### ***Convert 1 to 01***"
   ]
  },
  {
   "cell_type": "code",
   "execution_count": null,
   "metadata": {
    "ExecuteTime": {
     "end_time": "2022-04-18T19:42:45.323930Z",
     "start_time": "2022-04-18T19:42:45.323930Z"
    }
   },
   "outputs": [],
   "source": [
    "for month in range(12):\n",
    "    print(str(month).zfill(2))"
   ]
  },
  {
   "cell_type": "markdown",
   "metadata": {},
   "source": [
    "> ### ***array-series-dataframe***"
   ]
  },
  {
   "cell_type": "markdown",
   "metadata": {
    "ExecuteTime": {
     "end_time": "2022-03-03T14:30:15.438199Z",
     "start_time": "2022-03-03T14:30:15.417181Z"
    }
   },
   "source": [
    "![array-series-dataframe](./Image/list_array-series.png)"
   ]
  },
  {
   "cell_type": "markdown",
   "metadata": {
    "ExecuteTime": {
     "end_time": "2022-03-03T14:23:15.571304Z",
     "start_time": "2022-03-03T14:23:15.553289Z"
    }
   },
   "source": [
    "![array-series-dataframe](./Image/array-series-dataframe.png)"
   ]
  },
  {
   "cell_type": "markdown",
   "metadata": {},
   "source": [
    "![array-series-dataframe](./Image/array-series-dataframe2.png)"
   ]
  },
  {
   "cell_type": "markdown",
   "metadata": {},
   "source": [
    "> ### ***Create an enpty arrray***"
   ]
  },
  {
   "cell_type": "code",
   "execution_count": null,
   "metadata": {
    "ExecuteTime": {
     "end_time": "2022-04-18T19:42:45.324931Z",
     "start_time": "2022-04-18T19:42:45.324931Z"
    }
   },
   "outputs": [],
   "source": [
    "a = np.empty(5, dtype=object).astype(float)\n",
    "print(type(a[3]))\n",
    "a[0] = 0.1212\n",
    "a"
   ]
  },
  {
   "cell_type": "markdown",
   "metadata": {},
   "source": [
    "> ### ***Create an enpty dataframe***"
   ]
  },
  {
   "cell_type": "code",
   "execution_count": null,
   "metadata": {
    "ExecuteTime": {
     "end_time": "2022-04-18T19:42:45.325932Z",
     "start_time": "2022-04-18T19:42:45.325932Z"
    }
   },
   "outputs": [],
   "source": [
    "# Create a enpty dataframe #\n",
    "df = pd.DataFrame(np.zeros((3,3)))\n",
    "df.columns = ['colA','colB','colC']\n",
    "df.index   = ['apple','banana','orange']\n",
    "df_copy    = pd.DataFrame(index=df.index,columns=df.columns)\n",
    "df_copy"
   ]
  },
  {
   "cell_type": "code",
   "execution_count": null,
   "metadata": {
    "ExecuteTime": {
     "end_time": "2022-04-18T19:42:45.326932Z",
     "start_time": "2022-04-18T19:42:45.326932Z"
    }
   },
   "outputs": [],
   "source": [
    "nRows = 3\n",
    "nCols = 3\n",
    "df = pd.DataFrame(index=range(nRows),columns=range(nCols))\n",
    "df.columns = ['colA','colB','colC']\n",
    "df.index   = ['apple','banana','orange']\n",
    "df.iloc[0] = [5,1,0]\n",
    "df.iloc[1] = [7,5,1]\n",
    "df.iloc[2] = [3,2,1]\n",
    "df"
   ]
  },
  {
   "cell_type": "code",
   "execution_count": null,
   "metadata": {
    "ExecuteTime": {
     "end_time": "2022-04-18T19:42:45.326932Z",
     "start_time": "2022-04-18T19:42:45.326932Z"
    }
   },
   "outputs": [],
   "source": [
    "import pandas as pd\n",
    "loc = [[1,2,3,4,5,6],[7,8,9,1,2,3],[1,1,1,1,1,1]]\n",
    "iowa_index = pd.DataFrame()               # empty DataFrame without shape\n",
    "iowa_index['row_name'] = loc[0] \n",
    "iowa_index['col_name'] = loc[1]\n",
    "iowa_index['value']    = loc[2]\n",
    "iowa_index"
   ]
  },
  {
   "cell_type": "markdown",
   "metadata": {},
   "source": [
    "### *DataFrame.unique()/count_value()*"
   ]
  },
  {
   "cell_type": "code",
   "execution_count": null,
   "metadata": {
    "ExecuteTime": {
     "end_time": "2022-04-21T00:27:19.998832Z",
     "start_time": "2022-04-21T00:27:19.990825Z"
    }
   },
   "outputs": [],
   "source": [
    "import pandas as pd\n",
    "df = pd.DataFrame()\n",
    "df['column_name1'] = [1,2,3,4,5,6]\n",
    "df['column_name2'] = [2,2,3,4,5,2]\n",
    "df['column_name3'] = [3,3,3,4,5,3]\n",
    "\n",
    "df.column_name1.unique()\n",
    "# df.column_name1.sort()\n",
    "df.column_name1.value_counts()"
   ]
  },
  {
   "cell_type": "markdown",
   "metadata": {},
   "source": [
    "> ### ***Change dataframe column name***"
   ]
  },
  {
   "cell_type": "code",
   "execution_count": null,
   "metadata": {
    "ExecuteTime": {
     "end_time": "2022-04-18T19:42:45.327933Z",
     "start_time": "2022-04-18T19:42:45.327933Z"
    }
   },
   "outputs": [],
   "source": [
    "df.columns = ['a', 'b','c']\n",
    "df"
   ]
  },
  {
   "cell_type": "markdown",
   "metadata": {},
   "source": [
    "> ### ***Add empty column to a dataframe*** "
   ]
  },
  {
   "cell_type": "code",
   "execution_count": null,
   "metadata": {
    "ExecuteTime": {
     "end_time": "2022-04-18T19:42:45.328934Z",
     "start_time": "2022-04-18T19:42:45.328934Z"
    }
   },
   "outputs": [],
   "source": [
    "df['latitude']   = ''\n",
    "df['longtitude'] = np.nan\n",
    "df['order']      = [1,10,3]\n",
    "df"
   ]
  },
  {
   "cell_type": "markdown",
   "metadata": {},
   "source": [
    "> ### ***Sort dataFrame***"
   ]
  },
  {
   "cell_type": "code",
   "execution_count": null,
   "metadata": {
    "ExecuteTime": {
     "end_time": "2022-04-18T19:42:45.329935Z",
     "start_time": "2022-04-18T19:42:45.329935Z"
    }
   },
   "outputs": [],
   "source": [
    "# Sort column indenpendently: Row name has no meaning here#\n",
    "df_sort = df.apply(lambda x: x.sort_values().values)\n",
    "df_sort"
   ]
  },
  {
   "cell_type": "code",
   "execution_count": null,
   "metadata": {
    "ExecuteTime": {
     "end_time": "2022-04-18T19:42:45.330935Z",
     "start_time": "2022-04-18T19:42:45.330935Z"
    }
   },
   "outputs": [],
   "source": [
    "# Sort column based on one column #\n",
    "df.sort_values(by=['order','a'])"
   ]
  },
  {
   "cell_type": "code",
   "execution_count": null,
   "metadata": {
    "ExecuteTime": {
     "end_time": "2022-04-18T19:42:45.331937Z",
     "start_time": "2022-04-18T19:42:45.331937Z"
    }
   },
   "outputs": [],
   "source": [
    "# Sort based on index \n",
    "df.sort_index()"
   ]
  },
  {
   "cell_type": "markdown",
   "metadata": {},
   "source": [
    "> ### ***Stack dataFrame together***"
   ]
  },
  {
   "cell_type": "code",
   "execution_count": null,
   "metadata": {
    "ExecuteTime": {
     "end_time": "2022-04-18T19:42:45.332937Z",
     "start_time": "2022-04-18T19:42:45.332937Z"
    }
   },
   "outputs": [],
   "source": [
    "# axis = 0 direction\n",
    "result = df.append(df)\n",
    "result"
   ]
  },
  {
   "cell_type": "code",
   "execution_count": null,
   "metadata": {
    "ExecuteTime": {
     "end_time": "2022-04-18T19:42:45.333938Z",
     "start_time": "2022-04-18T19:42:45.333938Z"
    }
   },
   "outputs": [],
   "source": [
    "# axis=1 direction\n",
    "result = pd.concat([df, df], axis=1).reindex(df.index)\n",
    "result"
   ]
  },
  {
   "cell_type": "markdown",
   "metadata": {},
   "source": [
    "> ### ***DataFrame mean of site***  \n",
    "*.columns.str.startswith()*"
   ]
  },
  {
   "cell_type": "code",
   "execution_count": null,
   "metadata": {
    "ExecuteTime": {
     "end_time": "2022-04-18T19:42:45.334939Z",
     "start_time": "2022-04-18T19:42:45.334939Z"
    }
   },
   "outputs": [],
   "source": [
    "sitename = ['BONA','CPER','DSNY','GRSM','HARV','KONZ','LENO','NIWO','ONAQ','OSBS','PUUM','SCBI','SJER','SRER','TALL','TOOL','UNDE','WOOD','WREF','YELL']\n",
    "site = sitename[0]\n",
    "data = pd.read_csv(r'C:/Users/boyi/Desktop/Uncertainty Quantification_lss/postPara_lss/validPara_1001/postParaSA_Map.csv',index_col=0).T\n",
    "data\n",
    "# data.columns.str.startswith(site)\n",
    "data.loc[:,data.columns.str.startswith(site)]"
   ]
  },
  {
   "cell_type": "markdown",
   "metadata": {},
   "source": [
    "> ### ***Drop a column from DataFrame***"
   ]
  },
  {
   "cell_type": "code",
   "execution_count": 8,
   "metadata": {
    "ExecuteTime": {
     "end_time": "2022-06-13T15:32:41.624394Z",
     "start_time": "2022-06-13T15:32:41.607380Z"
    }
   },
   "outputs": [
    {
     "data": {
      "text/html": [
       "<div>\n",
       "<style scoped>\n",
       "    .dataframe tbody tr th:only-of-type {\n",
       "        vertical-align: middle;\n",
       "    }\n",
       "\n",
       "    .dataframe tbody tr th {\n",
       "        vertical-align: top;\n",
       "    }\n",
       "\n",
       "    .dataframe thead th {\n",
       "        text-align: right;\n",
       "    }\n",
       "</style>\n",
       "<table border=\"1\" class=\"dataframe\">\n",
       "  <thead>\n",
       "    <tr style=\"text-align: right;\">\n",
       "      <th></th>\n",
       "      <th>0</th>\n",
       "      <th>1</th>\n",
       "      <th>2</th>\n",
       "      <th>3</th>\n",
       "    </tr>\n",
       "  </thead>\n",
       "  <tbody>\n",
       "    <tr>\n",
       "      <th>0</th>\n",
       "      <td>0</td>\n",
       "      <td>1</td>\n",
       "      <td>2</td>\n",
       "      <td>3</td>\n",
       "    </tr>\n",
       "    <tr>\n",
       "      <th>1</th>\n",
       "      <td>4</td>\n",
       "      <td>5</td>\n",
       "      <td>6</td>\n",
       "      <td>7</td>\n",
       "    </tr>\n",
       "    <tr>\n",
       "      <th>2</th>\n",
       "      <td>8</td>\n",
       "      <td>9</td>\n",
       "      <td>10</td>\n",
       "      <td>11</td>\n",
       "    </tr>\n",
       "  </tbody>\n",
       "</table>\n",
       "</div>"
      ],
      "text/plain": [
       "   0  1   2   3\n",
       "0  0  1   2   3\n",
       "1  4  5   6   7\n",
       "2  8  9  10  11"
      ]
     },
     "execution_count": 8,
     "metadata": {},
     "output_type": "execute_result"
    }
   ],
   "source": [
    "import pandas as pd\n",
    "import numpy as np\n",
    "a = pd.DataFrame(np.arange(12).reshape(3,4))\n",
    "#a.drop(a.rows[0],axis=0)\n",
    "# drop a row\n",
    "a.drop([0],axis=0)\n",
    "# drop a column\n",
    "a.drop([0],axis=1)\n",
    "a\n",
    "# if we have row name and column name \n",
    "# df.drop(['B', 'C'], axis=1)"
   ]
  },
  {
   "cell_type": "markdown",
   "metadata": {},
   "source": [
    "> ### ***Calculate mean based on Group***"
   ]
  },
  {
   "cell_type": "code",
   "execution_count": 9,
   "metadata": {
    "ExecuteTime": {
     "end_time": "2022-06-13T15:32:46.193182Z",
     "start_time": "2022-06-13T15:32:46.183174Z"
    }
   },
   "outputs": [
    {
     "data": {
      "text/html": [
       "<div>\n",
       "<style scoped>\n",
       "    .dataframe tbody tr th:only-of-type {\n",
       "        vertical-align: middle;\n",
       "    }\n",
       "\n",
       "    .dataframe tbody tr th {\n",
       "        vertical-align: top;\n",
       "    }\n",
       "\n",
       "    .dataframe thead th {\n",
       "        text-align: right;\n",
       "    }\n",
       "</style>\n",
       "<table border=\"1\" class=\"dataframe\">\n",
       "  <thead>\n",
       "    <tr style=\"text-align: right;\">\n",
       "      <th></th>\n",
       "      <th>0</th>\n",
       "      <th>1</th>\n",
       "      <th>2</th>\n",
       "    </tr>\n",
       "    <tr>\n",
       "      <th>3</th>\n",
       "      <th></th>\n",
       "      <th></th>\n",
       "      <th></th>\n",
       "    </tr>\n",
       "  </thead>\n",
       "  <tbody>\n",
       "    <tr>\n",
       "      <th>3</th>\n",
       "      <td>0</td>\n",
       "      <td>1</td>\n",
       "      <td>2</td>\n",
       "    </tr>\n",
       "    <tr>\n",
       "      <th>7</th>\n",
       "      <td>4</td>\n",
       "      <td>5</td>\n",
       "      <td>6</td>\n",
       "    </tr>\n",
       "    <tr>\n",
       "      <th>11</th>\n",
       "      <td>8</td>\n",
       "      <td>9</td>\n",
       "      <td>10</td>\n",
       "    </tr>\n",
       "  </tbody>\n",
       "</table>\n",
       "</div>"
      ],
      "text/plain": [
       "    0  1   2\n",
       "3           \n",
       "3   0  1   2\n",
       "7   4  5   6\n",
       "11  8  9  10"
      ]
     },
     "execution_count": 9,
     "metadata": {},
     "output_type": "execute_result"
    }
   ],
   "source": [
    "a.groupby([3]).sum()"
   ]
  },
  {
   "cell_type": "markdown",
   "metadata": {},
   "source": [
    "> ### ***Convert 0 to nan***"
   ]
  },
  {
   "cell_type": "code",
   "execution_count": null,
   "metadata": {
    "ExecuteTime": {
     "end_time": "2022-04-18T19:42:45.337941Z",
     "start_time": "2022-04-18T19:42:45.337941Z"
    }
   },
   "outputs": [],
   "source": [
    "import numpy as np\n",
    "import pandas as pd\n",
    "test = pd.DataFrame(np.random.rand(10000).reshape(10,-1))\n",
    "test.replace(0, np.nan, inplace=True)\n",
    "test"
   ]
  },
  {
   "cell_type": "markdown",
   "metadata": {},
   "source": [
    "> ### ***Check nan***"
   ]
  },
  {
   "cell_type": "code",
   "execution_count": null,
   "metadata": {
    "ExecuteTime": {
     "end_time": "2022-04-18T19:42:45.338942Z",
     "start_time": "2022-04-18T19:42:45.338942Z"
    }
   },
   "outputs": [],
   "source": [
    "np.isnan(test).sum().sum()"
   ]
  },
  {
   "cell_type": "markdown",
   "metadata": {},
   "source": [
    "> ### ***change dtype in dataFrame***"
   ]
  },
  {
   "cell_type": "code",
   "execution_count": null,
   "metadata": {
    "ExecuteTime": {
     "end_time": "2022-04-18T19:42:45.339943Z",
     "start_time": "2022-04-18T19:42:45.339943Z"
    }
   },
   "outputs": [],
   "source": [
    "import numpy as np\n",
    "a = np.random.rand(9).reshape(3,3).astype(int)\n",
    "a"
   ]
  },
  {
   "cell_type": "markdown",
   "metadata": {},
   "source": [
    "> ### ***multiple columns index***"
   ]
  },
  {
   "cell_type": "code",
   "execution_count": null,
   "metadata": {
    "ExecuteTime": {
     "end_time": "2022-04-18T19:42:45.340944Z",
     "start_time": "2022-04-18T19:42:45.340944Z"
    }
   },
   "outputs": [],
   "source": [
    "import numpy as np\n",
    "a = pd.DataFrame(np.random.rand(9).reshape(3,3))\n",
    "# M1: series if use num #\n",
    "print(type(a.iloc[:,2]))\n",
    "print(a.iloc[:,2])\n",
    "\n",
    "# M2: []: dataframe kif use list #\n",
    "print(type(a.iloc[:,[1,2]]))\n",
    "a.iloc[:,[1,2]]"
   ]
  },
  {
   "cell_type": "markdown",
   "metadata": {},
   "source": [
    "> ### ***f': derivative() / gradient()***\n",
    "\n",
    "*[derivative](https://blog.csdn.net/qq_37813206/article/details/115335337)*"
   ]
  },
  {
   "cell_type": "code",
   "execution_count": null,
   "metadata": {
    "ExecuteTime": {
     "end_time": "2022-04-18T19:42:45.341945Z",
     "start_time": "2022-04-18T19:42:45.341945Z"
    }
   },
   "outputs": [],
   "source": [
    "from scipy.misc import derivative\n",
    "def f(x):\n",
    "    return x**3 + x**2\n",
    "# Get x,y #\n",
    "x = np.arange(20)\n",
    "y = f(np.arange(20))\n",
    "plt.plot(np.arange(20),f(np.arange(20)))\n",
    "\n",
    "# get f'(x) #\n",
    "a= np.empty(len(x), dtype=object).astype(float)\n",
    "for i in range(len(x)):\n",
    "    a[i]=derivative(f, x[i], dx=1)\n",
    "plt.plot(np.arange(20),a)"
   ]
  },
  {
   "cell_type": "code",
   "execution_count": null,
   "metadata": {
    "ExecuteTime": {
     "end_time": "2022-04-18T19:42:45.342946Z",
     "start_time": "2022-04-18T19:42:45.342946Z"
    }
   },
   "outputs": [],
   "source": [
    "import numpy as np#\n",
    "import matplotlib.pyplot as plt\n",
    "from scipy.interpolate import interp1d\n",
    "from scipy.misc import derivative\n",
    "fig = plt.figure(figsize=(4*2,3*1),dpi=150)\n",
    "\n",
    "x = np.linspace(0,25,25)\n",
    "y = [1,3,4,5,9,11,13,19,26,34,48,59,69,101,125,125,125,126,127,128,118,121,131,119,115]\n",
    "\n",
    "# Interpolation #\n",
    "ax1 = fig.add_subplot(1,2,1)\n",
    "f   = interp1d(x,y,kind='cubic')            # 'zero', 'linear','slinear', 'quadratic', 'cubic', 4, 5\n",
    "xx  = np.linspace(x.min(),x.max(),100)\n",
    "#xx  = np.linspace(-20,40,60)\n",
    "yy  = f(xx)\n",
    "plt.scatter(x,y,marker=\".\")\n",
    "plt.plot(xx,yy)\n",
    "\n",
    "# gradient #\n",
    "ax1  = fig.add_subplot(1,2,2)\n",
    "y_g  = np.gradient(y, 1)\n",
    "yy_g = np.gradient(yy, 1)\n",
    "plt.plot(x,y_g)\n",
    "plt.plot(xx,yy_g)\n",
    "\n",
    "# plt.show()"
   ]
  },
  {
   "cell_type": "markdown",
   "metadata": {},
   "source": [
    "> ### ***Random.uniform()***"
   ]
  },
  {
   "cell_type": "code",
   "execution_count": null,
   "metadata": {
    "ExecuteTime": {
     "end_time": "2022-04-18T19:42:45.343946Z",
     "start_time": "2022-04-18T19:42:45.343946Z"
    }
   },
   "outputs": [],
   "source": [
    "# seed the pseudorandom number generator\n",
    "from numpy.random import seed\n",
    "from numpy.random import rand\n",
    "import random\n",
    "np.random.uniform(0.8,1.2,100)"
   ]
  },
  {
   "cell_type": "markdown",
   "metadata": {},
   "source": [
    "> ### ***pd.melt()***"
   ]
  },
  {
   "cell_type": "code",
   "execution_count": null,
   "metadata": {
    "ExecuteTime": {
     "end_time": "2022-04-18T19:42:45.344947Z",
     "start_time": "2022-04-18T19:42:45.344947Z"
    }
   },
   "outputs": [],
   "source": [
    "import numpy as np\n",
    "import pandas as pd\n",
    "a = np.random.rand(9).reshape(-1,3)\n",
    "a = pd.DataFrame(a)\n",
    "b = pd.melt(a).iloc[:,-1]  \n",
    "b"
   ]
  },
  {
   "cell_type": "markdown",
   "metadata": {},
   "source": [
    "> ### *ShortCut Key for α-β-γ-δ*"
   ]
  },
  {
   "cell_type": "markdown",
   "metadata": {},
   "source": [
    "* *Type 03b1 or 03B1 and press Alt+X to insert the alpha symbol: α*  \n",
    "* *Type 03b2 or 03B2 and press Alt+X to insert the beta symbol:  β*  \n",
    "* *Type 03b3 or 03B3 and press Alt+X to insert the gamma symbol: γ*  \n",
    "* *Type 03b4 or 03B4 and press Alt+X to insert the delta symbol: δ*  "
   ]
  },
  {
   "cell_type": "markdown",
   "metadata": {},
   "source": [
    "> ### *[Coefficient of Variation](https://www.statology.org/coefficient-of-variation-in-python/)*  \n",
    "***CV = σ / μ***  "
   ]
  },
  {
   "cell_type": "code",
   "execution_count": 7,
   "metadata": {
    "ExecuteTime": {
     "end_time": "2022-06-23T02:22:47.661805Z",
     "start_time": "2022-06-23T02:22:47.657802Z"
    }
   },
   "outputs": [
    {
     "name": "stdout",
     "output_type": "stream",
     "text": [
      "data Coefficient of Variation: 37.26779962499649\n"
     ]
    }
   ],
   "source": [
    "import numpy as np\n",
    "cv = lambda x: np.std(x, ddof=1) / np.mean(x) * 100\n",
    "data = [1,1,1,1,2]\n",
    "print('data Coefficient of Variation:', cv(data))"
   ]
  },
  {
   "cell_type": "markdown",
   "metadata": {},
   "source": [
    "*************"
   ]
  },
  {
   "cell_type": "markdown",
   "metadata": {},
   "source": [
    "**********"
   ]
  },
  {
   "cell_type": "markdown",
   "metadata": {},
   "source": [
    "********"
   ]
  },
  {
   "cell_type": "markdown",
   "metadata": {},
   "source": [
    "# <mark>***3D and Tif data***<mark>"
   ]
  },
  {
   "cell_type": "markdown",
   "metadata": {},
   "source": [
    "> ### ***Read bin file in python***"
   ]
  },
  {
   "cell_type": "code",
   "execution_count": null,
   "metadata": {
    "ExecuteTime": {
     "end_time": "2022-04-18T19:42:45.345948Z",
     "start_time": "2022-04-18T19:42:45.345948Z"
    }
   },
   "outputs": [],
   "source": [
    "import numpy as np\n",
    "import pandas as pd\n",
    "######################################### Add total grid arae ##################################################### \n",
    "try:\n",
    "    dt   = np.dtype('float32')\n",
    "    data_area = np.fromfile(r\"C:\\Users\\boyi\\Desktop\\USDA_Marsden\\G0_Bin\\292017\\input\\asp5min.bin\", dtype=dt)\n",
    "except IOError:\n",
    "    print(\"Error while opening the file!\")\n",
    "data_area\n",
    "#area_data = data_area.reshape(924,-1)\n",
    "# Extract midWest total area from North American: Use loc index, not NorthAmerican maskID# \n",
    "#plt.imshow (data_area,cmap = plt.cm.Reds)"
   ]
  },
  {
   "cell_type": "markdown",
   "metadata": {},
   "source": [
    "> ### ***Plot tif in python***"
   ]
  },
  {
   "cell_type": "code",
   "execution_count": null,
   "metadata": {
    "ExecuteTime": {
     "end_time": "2022-04-18T19:42:45.346949Z",
     "start_time": "2022-04-18T19:42:45.346949Z"
    }
   },
   "outputs": [],
   "source": [
    "# midWest maskID #\n",
    "import cv2 as cv\n",
    "import matplotlib.pyplot as plt\n",
    "midWest_maskNAID = cv.imread (r\"C:\\Users\\boyi\\Desktop\\IOWA_Carbon_Assessment\\midWestGHGMap\\GHG_1900.tif\",2)\n",
    "fig = plt.figure(figsize=(12,4))\n",
    "ax1 = fig.add_subplot(1,2,1)\n",
    "plt.imshow (midWest_maskNAID,cmap = plt.cm.Reds)"
   ]
  },
  {
   "cell_type": "markdown",
   "metadata": {},
   "source": [
    "> ### ***Save 3D array as npy***"
   ]
  },
  {
   "cell_type": "code",
   "execution_count": null,
   "metadata": {
    "ExecuteTime": {
     "end_time": "2022-04-18T19:42:45.347950Z",
     "start_time": "2022-04-18T19:42:45.347950Z"
    }
   },
   "outputs": [],
   "source": [
    "# Method (1): Save as 2D-shape #\n",
    "import numpy as np\n",
    "arr = np.random.rand(50, 40, 30)\n",
    "  \n",
    "# reshaping the array from 3D matrice to 2D matrice.\n",
    "arr_reshaped = arr.reshape(arr.shape[0], -1)  # make sure z-axis is right\n",
    "# saving reshaped array to file.\n",
    "np.savetxt(\"geekfile.txt\", arr_reshaped)\n",
    "# retrieving data from file.\n",
    "loaded_arr = np.loadtxt(\"geekfile.txt\")\n",
    "# This loadedArr is a 2D array,reshaping to get original matrice with original shape.\n",
    "load_original_arr = loaded_arr.reshape(loaded_arr.shape[0], loaded_arr.shape[1]//arr.shape[2], arr.shape[2])\n",
    "# check the shapes:\n",
    "print(\"shape of arr: \", arr.shape)\n",
    "print(\"shape of load_original_arr: \", load_original_arr.shape)\n",
    "  \n",
    "# check if both arrays are same or not:\n",
    "if (load_original_arr==arr).all():\n",
    "    print(\"Yes, both the arrays are same\")\n",
    "else:\n",
    "    print(\"No, both the arrays are not same\")"
   ]
  },
  {
   "cell_type": "code",
   "execution_count": null,
   "metadata": {
    "ExecuteTime": {
     "end_time": "2022-04-18T19:42:45.347950Z",
     "start_time": "2022-04-18T19:42:45.347950Z"
    }
   },
   "outputs": [],
   "source": [
    "# Method (2): Save as npy #\n",
    "import numpy as np\n",
    "data_3D = np.random.rand(50,40,30)\n",
    "# np.save(\"./mydata.npy\",data_3D)\n",
    "#data_3DIpt = numpy.load(\"mydata.npy\")\n",
    "#data_3DIpt"
   ]
  },
  {
   "cell_type": "markdown",
   "metadata": {},
   "source": [
    "> ### ***Import 3D TIF file as 3D array***"
   ]
  },
  {
   "cell_type": "code",
   "execution_count": null,
   "metadata": {
    "ExecuteTime": {
     "end_time": "2022-04-18T19:42:45.349952Z",
     "start_time": "2022-04-18T19:42:45.349952Z"
    }
   },
   "outputs": [],
   "source": [
    "#https://stackoverflow.com/questions/34408699/having-trouble-installing-gdal-for-python\n",
    "#https://stackoverflow.com/questions/67903219/how-to-read-multiband-image-files-with-more-than-4-bands-in-python\n",
    "import gdal\n",
    "filepath = r\"X:/clulab/pmlv2/pml2_2002-07-04.tif\"\n",
    "dataset  = gdal.Open(filepath)\n",
    "image    = dataset.ReadAsArray()\n",
    "print(type(image))  # <class 'numpy.ndarray'>\n",
    "print(image.shape)  # (5, 2978, 4043)\n",
    "print(image.dtype)  # float64"
   ]
  },
  {
   "cell_type": "markdown",
   "metadata": {
    "ExecuteTime": {
     "end_time": "2022-02-11T16:40:37.342233Z",
     "start_time": "2022-02-11T16:40:37.339228Z"
    }
   },
   "source": [
    "> ### ***Save 3D array as tif***  \n",
    "\n",
    "***[PIL: Save numpy as multi-Bands](https://www.delftstack.com/howto/numpy/save-numpy-array-as-image/)***\n",
    "* [???]Check what transfer did when saving the data\n",
    "\n",
    "*[Pillow(PIL) package](https://pillow.readthedocs.io/en/stable/reference/Image.html)*  \n",
    "\n",
    "*[How to save image processed in python by maintaining its spatial reference](https://www.researchgate.net/post/How-to-save-image-processed-in-python-by-maintaining-its-spatial-reference)*   \n",
    "*[Raster processing using Python Tools: Working with Raster Datasets](https://geohackweek.github.io/raster/04-workingwithrasters/)*  \n",
    "*[Satellite Images with Python](https://towardsdatascience.com/reading-and-visualizing-geotiff-images-with-python-8dcca7a74510)*  \n",
    "*[]()*"
   ]
  },
  {
   "cell_type": "code",
   "execution_count": null,
   "metadata": {
    "ExecuteTime": {
     "end_time": "2022-04-18T19:42:45.350952Z",
     "start_time": "2022-04-18T19:42:45.350952Z"
    }
   },
   "outputs": [],
   "source": [
    "from PIL import Image\n",
    "import numpy as np\n",
    "\n",
    "h,w  = 5,4\n",
    "data = np.zeros((5, 4, 3), dtype=np.float32)\n",
    "#Assign value to 3D array#\n",
    "data[0:4,0:3,0:2] = [255,3] # red patch in upper left, data has 3D but only give 2 arg in indexing, which mean all in 3rd dimension will be choose \n",
    "print(data)\n",
    "img  = Image.fromarray(data, 'RGB')  # The export img is 5 rows, 4 columns and 3 bands\n",
    "# Chcek what knid of trnsfer applied in data saving #\n",
    "#img.save(r'C:\\Users\\boyi\\Desktop\\BYI\\my.tif')\n",
    "#img.show()"
   ]
  },
  {
   "cell_type": "markdown",
   "metadata": {},
   "source": [
    "***tifffile: Save as Subdataset***"
   ]
  },
  {
   "cell_type": "code",
   "execution_count": null,
   "metadata": {
    "ExecuteTime": {
     "end_time": "2022-04-18T19:42:45.351953Z",
     "start_time": "2022-04-18T19:42:45.351953Z"
    }
   },
   "outputs": [],
   "source": [
    "import numpy as np\n",
    "import PIL\n",
    "import imageio\n",
    "import cv2\n",
    "import tifffile\n",
    "\n",
    "data = np.random.rand(5, 301, 219)\n",
    "#tifffile.imwrite(r'C:\\Users\\boyi\\Desktop\\BYI\\temp.tif', data)"
   ]
  },
  {
   "cell_type": "markdown",
   "metadata": {},
   "source": [
    "> ### ***Save tif with Saptial Reference***  "
   ]
  },
  {
   "cell_type": "markdown",
   "metadata": {},
   "source": [
    "***[Use osr.SpatialReference() to set Spatial Reference](https://www.programcreek.com/python/example/97366/osr.SpatialReference)***"
   ]
  },
  {
   "cell_type": "code",
   "execution_count": null,
   "metadata": {
    "ExecuteTime": {
     "end_time": "2022-04-18T19:42:45.351953Z",
     "start_time": "2022-04-18T19:42:45.351953Z"
    }
   },
   "outputs": [],
   "source": [
    "import numpy as np\n",
    "import gdal\n",
    "import osr\n",
    "import tifffile\n",
    "from PIL import Image\n",
    "# add path #\n",
    "fn = r'C:\\Users\\boyi\\Desktop\\IOWA_Carbon_Assessment\\midWestGHGMap\\GHG_1850.tif'\n",
    "#define a projection\n",
    "spatref = osr.SpatialReference()\n",
    "spatref.ImportFromEPSG(4326)          # WGS 84\n",
    "crs_wkt = spatref.ExportToWkt()\n",
    "# open in edit mode, omit the 1 if you want read only mode\n",
    "ds = gdal.Open(fn, 1) \n",
    "# set the projection\n",
    "ds.SetProjection(crs_wkt)\n",
    "#close the dataset\n",
    "ds.FlushCache()\n",
    "ds = None"
   ]
  },
  {
   "cell_type": "markdown",
   "metadata": {},
   "source": [
    "***Set Spatial Reference based on a template***"
   ]
  },
  {
   "cell_type": "code",
   "execution_count": null,
   "metadata": {
    "ExecuteTime": {
     "end_time": "2022-04-18T19:42:45.352954Z",
     "start_time": "2022-04-18T19:42:45.352954Z"
    }
   },
   "outputs": [],
   "source": [
    "#define a projection based on a template#\n",
    "ds_template=gdal.Open(r\"C:\\Users\\boyi\\Desktop\\IOWA_Carbon_Assessment\\midWest_maskID.tif\")  # tamplate file\n",
    "geotrans=ds_template.GetGeoTransform()  #get GeoTranform from existed template\n",
    "proj=ds_template.GetProjection()        #get projection from a exsited tif or import#\n",
    "# import traget dataset #\n",
    "dst_filename = r'C:\\Users\\boyi\\Desktop\\IOWA_Carbon_Assessment\\midWestGHGMap\\GHG_1900.tif'\n",
    "ds = gdal.Open(dst_filename, 1) \n",
    "# transfer geospatial information #\n",
    "ds.SetGeoTransform(geotrans)\n",
    "# set the projection\n",
    "ds.SetProjection(proj)\n",
    "#close the dataset\n",
    "ds.FlushCache()\n",
    "ds=None"
   ]
  },
  {
   "cell_type": "markdown",
   "metadata": {},
   "source": [
    "> ### ***Get file name in folder***"
   ]
  },
  {
   "cell_type": "code",
   "execution_count": null,
   "metadata": {
    "ExecuteTime": {
     "end_time": "2022-04-18T19:42:45.353955Z",
     "start_time": "2022-04-18T19:42:45.353955Z"
    }
   },
   "outputs": [],
   "source": [
    "import fnmatch\n",
    "import os\n",
    "filenames = []\n",
    "\n",
    "def get_filename(path=r'D:\\clu_workfolder\\yzhang'):\n",
    "    filename = []\n",
    "    name_pattern = '*average.npy'                   # only get data end with 'average.npy'\n",
    "    for filename in os.listdir(path):\n",
    "        if fnmatch.fnmatch(filename,name_pattern):\n",
    "            filenames.append(path+filename)\n",
    "    return filenames\n",
    "\n",
    "# call function #\n",
    "all_filenames = get_filename(path=r'D:\\clu_workfolder\\yzhang')"
   ]
  },
  {
   "cell_type": "markdown",
   "metadata": {},
   "source": [
    "*******************"
   ]
  },
  {
   "cell_type": "markdown",
   "metadata": {},
   "source": [
    "*************"
   ]
  },
  {
   "cell_type": "markdown",
   "metadata": {},
   "source": [
    "*******************"
   ]
  },
  {
   "cell_type": "markdown",
   "metadata": {},
   "source": [
    "# <mark>***Plot*** - ***MatPlotlib***<mark>  \n",
    "*[matplotlib](https://matplotlib.org/stable/gallery/index.html)*  \n",
    "*[color](https://matplotlib.org/3.5.1/tutorials/colors/colors.html)*  \n",
    "*[color-1](https://www.webucator.com/article/python-color-constants-module/)*"
   ]
  },
  {
   "cell_type": "markdown",
   "metadata": {
    "ExecuteTime": {
     "end_time": "2022-03-01T03:30:12.152929Z",
     "start_time": "2022-03-01T03:30:12.148916Z"
    }
   },
   "source": [
    "<img src=\"./Image/matplotlib_logo.png\" width=\"\" height=\"\" align=\"left\"/>"
   ]
  },
  {
   "cell_type": "markdown",
   "metadata": {
    "ExecuteTime": {
     "end_time": "2022-04-01T15:20:16.511796Z",
     "start_time": "2022-04-01T15:20:16.508794Z"
    }
   },
   "source": [
    "> ### ***plot example***"
   ]
  },
  {
   "cell_type": "code",
   "execution_count": 60,
   "metadata": {
    "ExecuteTime": {
     "end_time": "2022-05-07T21:51:17.288538Z",
     "start_time": "2022-05-07T21:51:16.321741Z"
    }
   },
   "outputs": [
    {
     "data": {
      "image/png": "[encoded data removed]",
      "text/plain": [
       "<Figure size 2160x675 with 1 Axes>"
      ]
     },
     "metadata": {},
     "output_type": "display_data"
    }
   ],
   "source": [
    "#Plot Setting#\n",
    "import matplotlib.pyplot as plt\n",
    "import seaborn as sns\n",
    "fig = plt.figure(figsize=(4.8*3,3*1.5),dpi=150)\n",
    "sns.set_style('ticks')                                       # darkgrid, whitegrid, dark, white, ticks\n",
    "sns.set_context(context=\"paper\",rc=None)                     # notebook, paper\", \"talk\", and \"poster\"\n",
    "\n",
    "soil_site = ['BONA1', 'BONA2', 'BONA3', 'BONA4', 'CPER1', 'CPER2', 'CPER3', 'CPER4',\n",
    "       'DSNY1', 'DSNY2', 'DSNY3', 'DSNY4', 'GRSM1', 'GRSM2', 'GRSM3', 'GRSM4',\n",
    "       'HARV1', 'HARV2', 'HARV3', 'HARV4', 'KONZ1', 'KONZ2', 'KONZ3', 'KONZ4',\n",
    "       'LENO1', 'LENO2', 'LENO3', 'LENO4', 'NIWO1', 'NIWO2', 'NIWO3', 'NIWO4',\n",
    "       'ONAQ1', 'ONAQ2', 'ONAQ3', 'ONAQ4', 'OSBS1', 'OSBS2', 'OSBS3', 'OSBS4',\n",
    "       'PUUM1', 'PUUM2', 'PUUM3', 'PUUM4', 'SCBI1', 'SCBI2', 'SCBI3', 'SCBI4',\n",
    "       'SJER1', 'SJER2', 'SJER3', 'SJER4', 'SRER1', 'SRER2', 'SRER3', 'SRER4',\n",
    "       'TALL1', 'TALL2', 'TALL3', 'TALL4', 'TOOL1', 'TOOL2', 'TOOL3', 'TOOL4',\n",
    "       'UNDE1', 'UNDE2', 'UNDE3', 'UNDE4', 'WOOD1', 'WOOD2', 'WOOD3', 'WOOD4',\n",
    "       'WREF1', 'WREF2', 'WREF3', 'WREF4', 'YELL1', 'YELL2', 'YELL3', 'YELL4']\n",
    "\n",
    "soil_pH = np.random.rand(80)\n",
    "\n",
    "\n",
    "\n",
    "###Plot1 : Litter Rate###\n",
    "ax1 = fig.add_subplot(1,1,1)\n",
    "plt.scatter(soil_site,soil_pH,marker='o',c='none',edgecolors='k',label = r\"$𝛿^{13}C value$\",s=12*4,alpha=0.75)\n",
    "\n",
    "\n",
    "###(1)Title/legend###\n",
    "#plt.title(r\"$(Soil 𝛿^{13}C value)$\",fontweight='bold',fontsize=12)\n",
    "#plt.legend(fontsize='xx-large',frameon=False,loc='best')\n",
    "#plt.legend(bbox_to_anchor=(1.0, 1), loc='upper left')\n",
    "###(2)Label/ticks### \n",
    "position = tuple(np.arange(80))\n",
    "label    = tuple(soil_site)\n",
    "plt.xticks(position, label,rotation=75,size=12)\n",
    "#ax1.set_xlabel('Incubation Days')\n",
    "plt.yticks(np.linspace(-30,-10,5,endpoint=True),size=12) \n",
    "ax1.set_ylabel(r'soil $𝛿^{13}C  (‰)$',size=12) \n",
    "###(3)text/line###\n",
    "plt.hlines(y=-12, xmin=0, xmax=80, colors='red',  ls=':', lw=1, label='C4')\n",
    "plt.hlines(y=-24, xmin=0, xmax=80, colors='blue', ls='--', lw=1, label='C3')\n",
    "plt.legend(fontsize='large',frameon=False,loc='upper left') \n",
    "plt.text(80,-24,'C3',size=16)\n",
    "plt.text(80,-12,'C4',size=16)\n",
    "plt.tight_layout()\n",
    "###(4)frame###\n",
    "#plt.text(100,0.11,'$RSME = {:.4f}$'.format(y_uqlitrateRSME,4),fontweight='bold')\n",
    "plt.grid(linestyle='--',c='0.85',linewidth=0.75)\n",
    "plt.tick_params(width=1)\n",
    "plt.setp(ax1.spines.values(), linewidth=10)\n",
    "plt.setp(ax1.artists, edgecolor = 'k', facecolor='w')\n",
    "\n",
    "plt.subplots_adjust(left=0.05,bottom=0.075, right=0.975, top=0.975, wspace=0.05, hspace=0.075)\n",
    "\n",
    "#plt.savefig('soilDelta.png',dpi=300)"
   ]
  },
  {
   "cell_type": "code",
   "execution_count": 16,
   "metadata": {
    "ExecuteTime": {
     "end_time": "2022-06-29T16:17:36.832425Z",
     "start_time": "2022-06-29T16:17:36.671293Z"
    }
   },
   "outputs": [
    {
     "data": {
      "text/plain": [
       "<matplotlib.legend.Legend at 0x277b078e8b0>"
      ]
     },
     "execution_count": 16,
     "metadata": {},
     "output_type": "execute_result"
    },
    {
     "data": {
      "image/png": "[encoded data removed]",
      "text/plain": [
       "<Figure size 600x411 with 2 Axes>"
      ]
     },
     "metadata": {},
     "output_type": "display_data"
    }
   ],
   "source": [
    "#Plot Setting#\n",
    "import matplotlib.pyplot as plt\n",
    "import seaborn as sns\n",
    "fig = plt.figure(figsize=(4,2.74),dpi=150)\n",
    "sns.set_style('ticks')                                       # darkgrid, whitegrid, dark, white, ticks\n",
    "sns.set_context(context=\"paper\",rc=None)                     # notebook, paper\", \"talk\", and \"poster\"\n",
    "\n",
    "###Plot1 : Litter Rate###\n",
    "ax1 = fig.add_subplot(1,1,1)\n",
    "plt.plot([1,2,3,4],[4,5,6,7],label = r\"$𝛿^{13}C value$\",alpha=0.75)\n",
    "# legend1 = ax1.legend('upper center')\n",
    "# ax1.add_artist(legend1)\n",
    "\n",
    "ax2 = fig.add_subplot(1,1,1)\n",
    "plt.plot([1,2,3,4],[8,7,6,5],label = r\"MEON\",alpha=0.75)\n",
    "plt.xticks([]), plt.yticks([])\n",
    "ax2.legend('lower center')\n",
    "\n"
   ]
  },
  {
   "cell_type": "markdown",
   "metadata": {
    "ExecuteTime": {
     "end_time": "2022-04-12T19:26:08.127233Z",
     "start_time": "2022-04-12T19:26:08.123229Z"
    }
   },
   "source": [
    "> ### ***Multiple subplots***"
   ]
  },
  {
   "cell_type": "code",
   "execution_count": 37,
   "metadata": {
    "ExecuteTime": {
     "end_time": "2022-05-06T17:32:28.478648Z",
     "start_time": "2022-05-06T17:32:28.155384Z"
    }
   },
   "outputs": [
    {
     "data": {
      "image/png": "[encoded data removed]",
      "text/plain": [
       "<Figure size 432x288 with 4 Axes>"
      ]
     },
     "metadata": {},
     "output_type": "display_data"
    },
    {
     "data": {
      "image/png": "[encoded data removed]",
      "text/plain": [
       "<Figure size 300x150 with 3 Axes>"
      ]
     },
     "metadata": {},
     "output_type": "display_data"
    },
    {
     "data": {
      "image/png": "[encoded data removed]",
      "text/plain": [
       "<Figure size 285x150 with 3 Axes>"
      ]
     },
     "metadata": {},
     "output_type": "display_data"
    }
   ],
   "source": [
    "import numpy as np\n",
    "import matplotlib.pyplot as plt\n",
    "\n",
    "fig = plt.figure()\n",
    "fig.subplots_adjust(bottom=0, left=0, top = 0.975, right=0.975)\n",
    "plt.subplot(1,2,1)\n",
    "plt.xticks([]), plt.yticks([])\n",
    "plt.subplot(3,2,2)\n",
    "plt.xticks([]), plt.yticks([])\n",
    "plt.subplot(3,2,4)\n",
    "plt.xticks([]), plt.yticks([])\n",
    "plt.subplot(3,2,6)\n",
    "plt.xticks([]), plt.yticks([])\n",
    "plt.tight_layout()\n",
    "# plt.savefig('../figures/multiplot_ex.png',dpi=48)\n",
    "plt.show()\n",
    "\n",
    "#Plot Setting#\n",
    "import numpy as np\n",
    "import seaborn as sns\n",
    "import matplotlib.pyplot as plt\n",
    "fig = plt.figure(figsize=(6,3),dpi=50)\n",
    "fig.subplots_adjust(bottom=0.05, left=0.05, top = 1, right=0.95,wspace=0, hspace=0)\n",
    "sns.set_style('ticks')                                       # darkgrid, whitegrid, dark, white, ticks\n",
    "sns.set_context(context=\"paper\",rc=None)          \n",
    "ax1 = plt.subplot2grid((2, 5), (0, 0), rowspan=2,colspan=3)   # 2Row, 5Columns, starting point: o row, 0 column\n",
    "plt.xticks([]), plt.yticks([])\n",
    "ax2 = plt.subplot2grid((2, 5), (0, 3), rowspan=1, colspan=2)\n",
    "plt.xticks([]), plt.yticks([])\n",
    "ax3 = plt.subplot2grid((2, 5), (1, 3), rowspan=1,colspan=2)\n",
    "plt.xticks([]), plt.yticks([])\n",
    "plt.tight_layout()\n",
    "\n",
    "#Plot Setting#\n",
    "import numpy as np\n",
    "import seaborn as sns\n",
    "import matplotlib.pyplot as plt\n",
    "fig = plt.figure(figsize=(5.7,3),dpi=50)\n",
    "# fig.subplots_adjust(bottom=0.05, left=0.05, top = 1, right=0.95,wspace=0, hspace=0)\n",
    "sns.set_style('ticks')                                       # darkgrid, whitegrid, dark, white, ticks\n",
    "sns.set_context(context=\"paper\",rc=None)          \n",
    "grid = plt.GridSpec(2, 5, bottom=0.075, left=0.075, top = 0.95, right=0.95, wspace=0., hspace=0.)\n",
    "ax1 = plt.subplot(grid[0:2, 0:3])\n",
    "plt.xticks([]), plt.yticks([])\n",
    "# plt.tick_params(width=1.5)\n",
    "plt.setp(ax1.spines.values(), linewidth=1.5)\n",
    "plt.setp(ax1.artists, edgecolor = 'k', facecolor='w')\n",
    "plt.setp(ax1.lines, color='k')\n",
    "ax2 = plt.subplot(grid[0,3:5])\n",
    "plt.xticks([]), plt.yticks([])\n",
    "# plt.tick_params(width=1.5)\n",
    "plt.setp(ax2.spines.values(), linewidth=1.5)\n",
    "plt.setp(ax2.artists, edgecolor = 'k', facecolor='w')\n",
    "plt.setp(ax2.lines, color='k')\n",
    "ax3 = plt.subplot(grid[1,3:5])\n",
    "plt.xticks([]), plt.yticks([])\n",
    "# plt.tick_params(width=1.5)\n",
    "plt.setp(ax3.spines.values(), linewidth=1.5)\n",
    "plt.setp(ax3.artists, edgecolor = 'k', facecolor='w')\n",
    "plt.setp(ax3.lines, color='k')\n",
    "# plt.tight_layout()\n",
    "\n",
    "# plt.savefig(r'C:\\Users\\boyi\\Desktop\\NEON_figure\\map.jpg',dpi=600)\n",
    "# plt.savefig(r'C:\\Users\\boyi\\Desktop\\NEON_figure\\map.jpg',dpi=600)"
   ]
  },
  {
   "cell_type": "code",
   "execution_count": 17,
   "metadata": {
    "ExecuteTime": {
     "end_time": "2022-05-04T20:06:35.788177Z",
     "start_time": "2022-05-04T20:06:35.398857Z"
    },
    "code_folding": [
     0
    ],
    "deletable": false,
    "editable": false,
    "run_control": {
     "frozen": true
    }
   },
   "outputs": [
    {
     "data": {
      "image/png": "[encoded data removed]",
      "text/plain": [
       "<Figure size 432x288 with 1 Axes>"
      ]
     },
     "metadata": {},
     "output_type": "display_data"
    }
   ],
   "source": [
    "# -----------------------------------------------------------------------------\n",
    "# Copyright (c) 2015, Nicolas P. Rougier. All Rights Reserved.\n",
    "# Distributed under the (new) BSD License. See LICENSE.txt for more info.\n",
    "# -----------------------------------------------------------------------------\n",
    "import numpy as np\n",
    "import matplotlib.pyplot as plt\n",
    "\n",
    "eqs = []\n",
    "eqs.append((r\"lignin litter soil pool\"))\n",
    "eqs.append((r\"Isotopic Enable Model : delta + C-mass \"))\n",
    "eqs.append((r\"$Model parameterrization: MCMC + Sobal Sensitivity Analysis\"))\n",
    "eqs.append((r\"$lignin = substarte limitation + co-metabolism hypothesis$\"))\n",
    "eqs.append((r\"$DLEM = CN-SIM Soil Organic Matter Decomposition Model$\"))\n",
    "\n",
    "\n",
    "plt.axes([0.025,0.025,0.95,0.95])\n",
    "\n",
    "for i in range(12):\n",
    "    index = np.random.randint(0,len(eqs))\n",
    "    eq = eqs[index]\n",
    "    size = np.random.uniform(12,32)\n",
    "    x,y = np.random.uniform(0,1,2)\n",
    "    alpha = np.random.uniform(0.25,.75)\n",
    "    plt.text(x, y, eq, ha='center', va='center', color=\"#11557c\", alpha=alpha,\n",
    "             transform=plt.gca().transAxes, fontsize=size, clip_on=True)\n",
    "\n",
    "plt.xticks([]), plt.yticks([])\n",
    "# savefig('../figures/text_ex.png',dpi=48)\n",
    "plt.show()"
   ]
  },
  {
   "cell_type": "markdown",
   "metadata": {},
   "source": [
    "> ### ***plot frame seting***"
   ]
  },
  {
   "cell_type": "code",
   "execution_count": 45,
   "metadata": {
    "ExecuteTime": {
     "end_time": "2022-05-07T15:41:01.702051Z",
     "start_time": "2022-05-07T15:41:01.551926Z"
    }
   },
   "outputs": [
    {
     "data": {
      "image/png": "[encoded data removed]",
      "text/plain": [
       "<Figure size 420x300 with 1 Axes>"
      ]
     },
     "metadata": {},
     "output_type": "display_data"
    }
   ],
   "source": [
    "#Import data#\n",
    "import matplotlib.pyplot as plt\n",
    "import seaborn as sns\n",
    "fig = plt.figure(figsize=(4.2,3),dpi=100)\n",
    "sns.set_style('ticks')                                       # darkgrid, whitegrid, dark, white, ticks\n",
    "sns.set_context(context=\"paper\", rc=None)       #font_scale=2, notebook, paper\", \"talk\", and \"poster\"\n",
    "ax1 = fig.add_subplot(1,1,1)\n",
    "ax1.set_xlabel(r'Accumulative $\\rm CO_{2}$ ($\\rm mg  ''\\ C ''\\ g^{-1} ''\\ d^{-1}$)',size=12)\n",
    "ax1.set_ylabel('Reference')\n",
    "###(4)frame###\n",
    "#plt.text(100,0.11,'$RSME = {:.4f}$'.format(y_uqlitrateRSME,4),fontweight='bold')\n",
    "plt.grid(linestyle='--',c='0.85',linewidth=0.75)\n",
    "plt.tick_params(width=1)\n",
    "plt.setp(ax1.spines.values(), linewidth=10)\n",
    "plt.setp(ax1.artists, edgecolor = 'k', facecolor='w')\n",
    "\n",
    "plt.tight_layout()"
   ]
  },
  {
   "cell_type": "markdown",
   "metadata": {},
   "source": [
    "> ### ***plt.plot()***\n",
    "***[marker](https://matplotlib.org/3.3.3/api/markers_api.html)***  \n",
    "***[line plot](https://matplotlib.org/3.5.0/api/_as_gen/matplotlib.pyplot.plot.html)***"
   ]
  },
  {
   "cell_type": "code",
   "execution_count": null,
   "metadata": {
    "ExecuteTime": {
     "end_time": "2022-04-18T19:42:45.358959Z",
     "start_time": "2022-04-18T19:42:45.358959Z"
    }
   },
   "outputs": [],
   "source": [
    "import numpy as np\n",
    "import matplotlib.pyplot as plt\n",
    "x = np.random.rand(100)\n",
    "# plt.plot(x, x + 0, linestyle='solid')\n",
    "# plt.plot(x, x + 1, linestyle='dashed')\n",
    "# plt.plot(x, x + 2, linestyle='dashdot')\n",
    "# plt.plot(x, x + 3, linestyle='dotted');\n",
    "\n",
    "# For short, you can use the following codes:\n",
    "plt.plot(x, x + 4, linestyle='-')  # solid\n",
    "plt.plot(x, x + 5, linestyle='--') # dashed\n",
    "plt.plot(x, x + 6, linestyle='-.') # dashdot\n",
    "plt.plot(x, x + 7, linestyle=':');  # dotted\n",
    "\n",
    "# plt.plot(x, x + 0, '-g')  # solid green\n",
    "# plt.plot(x, x + 1, '--c') # dashed cyan\n",
    "# plt.plot(x, x + 2, '-.k') # dashdot black\n",
    "# plt.plot(x, x + 3, ':r');  # dotted red\n",
    "\n",
    "# plt.plot(x, np.sin(x - 0), color='blue')        # specify color by name\n",
    "# plt.plot(x, np.sin(x - 1), color='g')           # short color code (rgbcmyk)\n",
    "# plt.plot(x, np.sin(x - 2), color='0.75')        # Grayscale between 0 and 1\n",
    "# plt.plot(x, np.sin(x - 3), color='#FFDD44')     # Hex code (RRGGBB from 00 to FF)\n",
    "# plt.plot(x, np.sin(x - 4), color=(1.0,0.2,0.3)) # RGB tuple, values 0 to 1\n",
    "# plt.plot(x, np.sin(x - 5), color='chartreuse'); # all HTML color names supported"
   ]
  },
  {
   "cell_type": "markdown",
   "metadata": {},
   "source": [
    "> ### ***plt.fill_between()***"
   ]
  },
  {
   "cell_type": "code",
   "execution_count": null,
   "metadata": {
    "ExecuteTime": {
     "end_time": "2022-04-18T19:42:45.359960Z",
     "start_time": "2022-04-18T19:42:45.359960Z"
    }
   },
   "outputs": [],
   "source": [
    "import numpy as np\n",
    "import pandas as pd\n",
    "import seaborn as sns\n",
    "from scipy import stats, integrate\n",
    "import matplotlib.pyplot as plt\n",
    "%matplotlib inline\n",
    "\n",
    "x_uq        = np.arange(100)\n",
    "y_obs_soilrate = x_uq\n",
    "y_uqsoilmedian = x_uq + 1\n",
    "y_uqsoilmin = x_uq - 10\n",
    "y_uqsoilmax = x_uq + 10\n",
    "\n",
    "#Plot Setting#\n",
    "sns.set_style('ticks')    # darkgrid, whitegrid, dark, white, ticks\n",
    "sns.set_context(context=\"paper\",font_scale=1, rc=None)      # notebook, paper\", \"talk\", and \"poster\"\n",
    "#sns.color_palette(\"tab10\")\n",
    "fig = plt.figure(figsize=(8,3),dpi=100)\n",
    "\n",
    "###Plot###\n",
    "ax1 = fig.add_subplot(1,2,1)\n",
    "#plt.fill_between(x_uq,y_uqmin,y_uqmax,alpha=0.75,color='gray',linestyle='-',linewidth=1,label='Model estimation(95% credible intervals)')\n",
    "plt.fill_between(x_uq,y_uqsoilmin,y_uqsoilmax,label='Model estimation(95% credible intervals)')\n",
    "plt.scatter(x_uq,y_obs_soilrate,marker='.',color='k',label='Lab Observation')\n",
    "plt.plot(x_uq,y_uqsoilmedian,color='r',label='Model estimation(Median)') \n",
    "#plt.plot(x_uq,y_uqmean,color='b', label='Mean') "
   ]
  },
  {
   "cell_type": "markdown",
   "metadata": {},
   "source": [
    "> ### ***Loop plot***"
   ]
  },
  {
   "cell_type": "code",
   "execution_count": null,
   "metadata": {
    "ExecuteTime": {
     "end_time": "2022-04-18T19:42:45.360961Z",
     "start_time": "2022-04-18T19:42:45.360961Z"
    }
   },
   "outputs": [],
   "source": [
    "# data #\n",
    "val_hat_origin = pd.DataFrame(np.ones((3,3)))\n",
    "val_out        = pd.DataFrame(np.ones((3,3)))\n",
    "#Fig config#\n",
    "fig = plt.figure(figsize=(12,6),dpi=100)\n",
    "sns.set_style('ticks')    # darkgrid, whitegrid, dark, white, ticks\n",
    "sns.set_context(context=\"paper\",font_scale=1)      # notebook, paper\", \"talk\", and \"poster\"\n",
    "count = 0\n",
    "xlim_min = [0,0,0,0,0,0,0,0,0,0]\n",
    "xlim_max = [10,10,10,10,10,10,10,10,10,10]\n",
    "\n",
    "for i in range(2):\n",
    "    count = count + 1\n",
    "    ax = fig.add_subplot(2,4,count)\n",
    "    sns.scatterplot(val_hat_origin.iloc[:,i],val_out.iloc[:,i],alpha=0.5)\n",
    "    #sns.lineplot([0,25],[0,25],color='gray')\n",
    "    ax.set_xlabel('Prediction')\n",
    "    ax.set_ylabel('Reference')\n",
    "    #plt.title(\"{para}\".format(para=FCNN_Output.columns[i]),fontweight='bold')\n",
    "    plt.xticks(np.linspace(xlim_min[i],xlim_max[i],6,endpoint=True))\n",
    "    plt.yticks(np.linspace(xlim_min[i],xlim_max[i],6,endpoint=True))\n",
    "    # 1to1 line\n",
    "    point0 = [xlim_min[i],xlim_min[i]]\n",
    "    point1 = [xlim_max[i],xlim_max[i]]\n",
    "    plt.plot([point0[0],point1[0]],[point0[1],point1[1]],color='0.25',linestyle='dotted',linewidth=2)\n",
    "    plt.grid(c='0.85',linestyle='--',linewidth=0.1,alpha=1)\n",
    "    plt.tight_layout()\n",
    "    \n",
    "    #plt.savefig('./FCNN_Test_Prediction.jpg',dpi=800)"
   ]
  },
  {
   "cell_type": "markdown",
   "metadata": {},
   "source": [
    "> ### ***X=0***   ***Y=0***  "
   ]
  },
  {
   "cell_type": "code",
   "execution_count": 51,
   "metadata": {
    "ExecuteTime": {
     "end_time": "2022-05-07T15:43:17.866879Z",
     "start_time": "2022-05-07T15:43:17.632684Z"
    }
   },
   "outputs": [
    {
     "data": {
      "image/png": "[encoded data removed]",
      "text/plain": [
       "<Figure size 432x288 with 1 Axes>"
      ]
     },
     "metadata": {},
     "output_type": "display_data"
    },
    {
     "data": {
      "text/plain": [
       "<matplotlib.legend.Legend at 0x2af392c5eb0>"
      ]
     },
     "execution_count": 51,
     "metadata": {},
     "output_type": "execute_result"
    },
    {
     "data": {
      "image/png": "[encoded data removed]",
      "text/plain": [
       "<Figure size 432x288 with 1 Axes>"
      ]
     },
     "metadata": {},
     "output_type": "display_data"
    }
   ],
   "source": [
    "# import numpy as np\n",
    "# import matplotlib.pyplot as plt\n",
    "# xs = np.linspace(1, 21, 200)\n",
    "# plt.figure(figsize=(10, 7))\n",
    "# # only one line may be specified; full height\n",
    "# plt.axvline(x=36, color='b', label='axvline - full height')\n",
    "# # only one line may be specified; ymin & ymax specified as a percentage of y-range\n",
    "#plt.axvline(x=36.25, ymin=0.05, ymax=0.95, color='b', label='axvline - % of full height')\n",
    "# # multiple lines all full height\n",
    "# plt.vlines(x=[37, 37.25, 37.5], ymin=0, ymax=len(xs), colors='purple', ls='--', lw=2, label='vline_multiple - full height')\n",
    "# # multiple lines with varying ymin and ymax\n",
    "# plt.vlines(x=[38, 38.25, 38.5], ymin=[0, 25, 75], ymax=[200, 175, 150], colors='teal', ls='--', lw=2, label='vline_multiple - partial height')\n",
    "# # single vline with full ymin and ymax\n",
    "# plt.vlines(x=39, ymin=0, ymax=len(xs), colors='green', ls=':', lw=2, label='vline_single - full height')\n",
    "# # single vline with specific ymin and ymax\n",
    "plt.vlines(x=39.25, ymin=25, ymax=150, colors='green', ls=':', lw=2, label='vline_single - partial height')\n",
    "plt.hlines(y=100, xmin=30, xmax=50, colors='purple', ls='--', lw=2, label='vline_multiple - full height')\n",
    "plt.axvspan(40, 50, color='gold', alpha=0.25, lw=0)\n",
    "plt.axhspan(80, 100, color='green', alpha=0.25, lw=0)\n",
    "# place legend outside\n",
    "plt.legend(bbox_to_anchor=(1.0, 1), loc='upper left')\n",
    "plt.show()\n",
    "\n",
    "import matplotlib.pyplot as plt\n",
    "# x coordinates for the lines\n",
    "xcoords = [0.1, 0.3, 0.5]\n",
    "# colors for the lines\n",
    "colors = ['r','k','b']\n",
    "for xc,c in zip(xcoords,colors):\n",
    "    plt.axvline(x=xc, label='line at x = {}'.format(xc), c=c)\n",
    "plt.legend()"
   ]
  },
  {
   "cell_type": "markdown",
   "metadata": {},
   "source": [
    "> ### ***Box Plot***"
   ]
  },
  {
   "cell_type": "code",
   "execution_count": 52,
   "metadata": {
    "ExecuteTime": {
     "end_time": "2022-05-07T15:43:22.606803Z",
     "start_time": "2022-05-07T15:43:22.530740Z"
    }
   },
   "outputs": [
    {
     "data": {
      "text/plain": [
       "{'whiskers': [<matplotlib.lines.Line2D at 0x2af37cf67c0>,\n",
       "  <matplotlib.lines.Line2D at 0x2af37cf62e0>],\n",
       " 'caps': [<matplotlib.lines.Line2D at 0x2af37e33dc0>,\n",
       "  <matplotlib.lines.Line2D at 0x2af37e334f0>],\n",
       " 'boxes': [<matplotlib.lines.Line2D at 0x2af37cf6250>],\n",
       " 'medians': [<matplotlib.lines.Line2D at 0x2af37e333a0>],\n",
       " 'fliers': [<matplotlib.lines.Line2D at 0x2af37e33a00>],\n",
       " 'means': []}"
      ]
     },
     "execution_count": 52,
     "metadata": {},
     "output_type": "execute_result"
    },
    {
     "data": {
      "image/png": "[encoded data removed]",
      "text/plain": [
       "<Figure size 432x288 with 1 Axes>"
      ]
     },
     "metadata": {},
     "output_type": "display_data"
    }
   ],
   "source": [
    "np.random.seed(10)\n",
    "data = np.random.normal(100, 20, 200)\n",
    "plt.boxplot(data)"
   ]
  },
  {
   "cell_type": "markdown",
   "metadata": {},
   "source": [
    "> ### ***plt.Xticks() & frame***"
   ]
  },
  {
   "cell_type": "code",
   "execution_count": 53,
   "metadata": {
    "ExecuteTime": {
     "end_time": "2022-05-07T15:43:38.399880Z",
     "start_time": "2022-05-07T15:43:38.268773Z"
    }
   },
   "outputs": [
    {
     "data": {
      "image/png": "[encoded data removed]",
      "text/plain": [
       "<Figure size 432x288 with 1 Axes>"
      ]
     },
     "metadata": {},
     "output_type": "display_data"
    }
   ],
   "source": [
    "import numpy as np\n",
    "import matplotlib.pyplot as plt\n",
    "x = np.arange(10)\n",
    "y = np.arange(10,20)\n",
    "plt.scatter(x,y)\n",
    "# Change X axis\n",
    "positions = (1, 2, 3,4,5,6,7,8,9,10)\n",
    "labels = (\"Sub-R1\",\"Sub-R2\",\"Sub-R3\",\"Sub-R4\",\"Sub-R5\",\"Sub-R6\",\"Sub-R7\",\"Sub-R8\",\"Sub-R9\",\"Sub-R10\")\n",
    "plt.xticks(positions, labels)\n",
    "plt.xticks(rotation=45,size=16)\n",
    "# change y axis\n",
    "plt.yticks(np.linspace(0,25,5,endpoint=True),size=16)\n",
    "# frame #\n",
    "plt.tick_params(width=1.5)\n",
    "plt.setp(ax.spines.values(), linewidth=1.5)\n",
    "plt.setp(ax.artists, edgecolor = 'k', facecolor='w')\n",
    "plt.setp(ax.lines, color='k')\n",
    "sns.despine(offset=10, trim=True)\n",
    "sns.despine(offset=5, trim=True)"
   ]
  },
  {
   "cell_type": "markdown",
   "metadata": {},
   "source": [
    "> ### ***plt.errorbar***\n",
    "***[marker](https://matplotlib.org/3.3.3/api/markers_api.html)***\n",
    "***[error bar](https://matplotlib.org/stable/gallery/lines_bars_and_markers/errorbar_limits_simple.html#sphx-glr-gallery-lines-bars-and-markers-errorbar-limits-simple-py)***"
   ]
  },
  {
   "cell_type": "markdown",
   "metadata": {
    "ExecuteTime": {
     "end_time": "2022-03-01T05:16:59.799578Z",
     "start_time": "2022-03-01T05:16:59.687486Z"
    }
   },
   "source": [
    "![line](./Image/Biogeochemistry_line_box.png)"
   ]
  },
  {
   "cell_type": "code",
   "execution_count": 56,
   "metadata": {
    "ExecuteTime": {
     "end_time": "2022-05-07T15:44:21.923913Z",
     "start_time": "2022-05-07T15:44:21.756774Z"
    }
   },
   "outputs": [
    {
     "data": {
      "image/png": "[encoded data removed]",
      "text/plain": [
       "<Figure size 480x300 with 1 Axes>"
      ]
     },
     "metadata": {},
     "output_type": "display_data"
    }
   ],
   "source": [
    "import matplotlib.pyplot as plt\n",
    "import seaborn as sns\n",
    "day_selected = [4,11,25,39,53,67,81,95,109,123,137,151,179,207,235,263,291,319,347,375,403,431,459,487,515,543,571]\n",
    "#Plot data#\n",
    "fig = plt.figure(figsize=(4.8,3),dpi=100)\n",
    "sns.set_style('ticks')                                       # darkgrid, whitegrid, dark, white, ticks\n",
    "sns.set_context(context=\"paper\",font_scale=2, rc=None)       # notebook, paper\", \"talk\", and \"poster\"\n",
    "palette=[\"#1B9E77\",\"#D95F02\",\"#7570B3\",'#A6761D','#66A61E']\n",
    "#######################################################Add Plot#####################################################\n",
    "ax1 = fig.add_subplot(1,1,1)\n",
    "#ax1.set_facecolor(BG_WHITE)\n",
    "plt.scatter(day_selected,np.arange(27),   label='lab',alpha=0.9,color='none',edgecolors=\"k\",s=25)\n",
    "plt.plot(day_selected,np.arange(27)+2, label='best-estimate',c=\"#D95F02\",alpha=0.9, marker='1',linestyle='-')\n",
    "#plt.plot(day_selected,mean_60accu['lab_S1rate'],    label='fix lig prot',c=\"#7570B3\",alpha=0.9,marker='2',linestyle='-.')\n",
    "#plt.plot(day_selected,mean_60accu['lab_S2rate'],    label='no lig prot',c='#A6761D',alpha=0.9,marker='3',linestyle=':')\n",
    "plt.errorbar(day_selected,np.arange(27)+5,yerr=np.arange(27)-0.5,lolims=True,\n",
    "             ecolor='#66A61E',elinewidth=1,capsize=1,capthick=1,\n",
    "             label='no lig pool',c='#66A61E',alpha=0.9,marker='4',linestyle='--',lw=1.5)\n",
    "# legend #\n",
    "\n",
    "plt.legend(bbox_to_anchor=(0.35, 0.85),fontsize=6,frameon=True) #fontsize='medium',loc='best'\n",
    "#plt.hlines(y=0, xmin=0, xmax=571, colors='k', ls=':', lw=1, label='')\n",
    "# X/Y label/ticks #\n",
    "font_size = 9\n",
    "plt.xlabel(r'Incubation days',size=font_size)\n",
    "plt.ylabel(r'Accumulative $\\rm CO_{2}$ ($\\rm mg  ''\\ C ''\\ g^{-1} ''\\ d^{-1}$)',size=font_size)\n",
    "plt.xticks(np.linspace(0,600,7,endpoint=True),fontsize=font_size) #fontweight='bold'\n",
    "plt.yticks(np.linspace(0,60,6,endpoint=True),fontsize=font_size) #fontweight='bold'\n",
    "# frame #\n",
    "ax1.tick_params(width=1.)\n",
    "plt.setp(ax1.spines.values(), linewidth=1.)\n",
    "#sns.despine(offset=10, trim=True)\n",
    "plt.tight_layout()"
   ]
  },
  {
   "cell_type": "markdown",
   "metadata": {},
   "source": [
    "> ### ***plt.cmap***\n",
    "\n",
    "*[ 0 gets white in a RdBu colorbar](https://stackoverflow.com/questions/57180317/making-sure-0-gets-white-in-a-rdbu-colorbar)*"
   ]
  },
  {
   "cell_type": "markdown",
   "metadata": {
    "ExecuteTime": {
     "end_time": "2022-04-15T20:48:40.204727Z",
     "start_time": "2022-04-15T20:48:40.201723Z"
    }
   },
   "source": [
    "*[zoom effect](https://matplotlib.org/stable/gallery/subplots_axes_and_figures/axes_zoom_effect.html)*   \n",
    "*[star symbol](https://www.piliapp.com/symbol/star/)*"
   ]
  },
  {
   "cell_type": "markdown",
   "metadata": {},
   "source": [
    "> ### ***plt.colorbar()***"
   ]
  },
  {
   "cell_type": "code",
   "execution_count": 7,
   "metadata": {
    "ExecuteTime": {
     "end_time": "2022-06-23T23:29:50.187561Z",
     "start_time": "2022-06-23T23:29:45.184761Z"
    }
   },
   "outputs": [
    {
     "data": {
      "text/plain": [
       "Text(0.76, 0.73, 'density')"
      ]
     },
     "execution_count": 7,
     "metadata": {},
     "output_type": "execute_result"
    },
    {
     "data": {
      "image/png": "[encoded data removed]",
      "text/plain": [
       "<Figure size 432x288 with 2 Axes>"
      ]
     },
     "metadata": {
      "needs_background": "light"
     },
     "output_type": "display_data"
    }
   ],
   "source": [
    "import numpy as np\n",
    "import matplotlib.pyplot as plt\n",
    "from scipy.stats import gaussian_kde\n",
    "x = np.random.normal(size=1000)\n",
    "y = x * 3 + np.random.normal(size=1000)\n",
    "# Calculate the point density\n",
    "xy = np.vstack([x, y])\n",
    "z = gaussian_kde(xy)(xy)\n",
    "fig, ax = plt.subplots()\n",
    "plt.scatter(x, y, c=z, s=10, cmap ='Reds')# edgecolor='',\n",
    "plt.tick_params(labelsize=15)\n",
    "plt.xticks(size = 15,family = 'Times New Roman')\n",
    "plt.yticks(size = 15,family = 'Times New Roman')\n",
    "plt.xlabel('x',size = 20,family = 'Times New Roman')\n",
    "plt.ylabel('y',size = 20,family = 'Times New Roman')\n",
    "cb = plt.colorbar(shrink = 0.5)\n",
    "cb.ax.tick_params(labelsize=15)\n",
    "for l in cb.ax.yaxis.get_ticklabels():\n",
    "       l.set_family('Times New Roman')\n",
    "plt.figtext(0.76,0.73,'density',size = 30,family = 'Times New Roman')"
   ]
  },
  {
   "cell_type": "markdown",
   "metadata": {},
   "source": [
    "### ***plt.xticks/xlabel***"
   ]
  },
  {
   "cell_type": "code",
   "execution_count": 57,
   "metadata": {
    "ExecuteTime": {
     "end_time": "2022-05-07T15:45:12.055412Z",
     "start_time": "2022-05-07T15:45:11.920299Z"
    }
   },
   "outputs": [
    {
     "name": "stderr",
     "output_type": "stream",
     "text": [
      "No artists with labels found to put in legend.  Note that artists whose label start with an underscore are ignored when legend() is called with no argument.\n"
     ]
    },
    {
     "data": {
      "text/plain": [
       "Text(0.5, 1.0, 'R Square is 1.000')"
      ]
     },
     "execution_count": 57,
     "metadata": {},
     "output_type": "execute_result"
    },
    {
     "data": {
      "image/png": "[encoded data removed]",
      "text/plain": [
       "<Figure size 600x400 with 1 Axes>"
      ]
     },
     "metadata": {},
     "output_type": "display_data"
    }
   ],
   "source": [
    "import matplotlib.pyplot as plt\n",
    "fig, ax = plt.subplots(dpi=100)\n",
    "ax.spines['top'].set_visible(False)\n",
    "ax.spines['right'].set_visible(False)\n",
    "plt.plot([1,2,3,4,5],[6,7,8,9,10])\n",
    "font_dict = dict(fontsize=16,color='black',\n",
    "                 family='Times New Roman',\n",
    "                 weight='light',style='italic',)\n",
    "fontdict_prop = {'family': 'Times New Roman',\n",
    "                 'weight': 'normal','size': 12,}\n",
    "plt.xticks(fontproperties='Times New Roman', size=14)\n",
    "plt.yticks(fontproperties='Times New Roman', size=14)\n",
    "plt.xlabel('Time/Day', fontdict=font_dict)\n",
    "plt.ylabel(r\"Consumption Kw·h per cubic$^{-1}$ meters\", fontdict=font_dict)\n",
    "plt.legend(loc=0, frameon=False, prop=fontdict_prop)\n",
    "plt.title('R Square is {0:.3f}'.format(1), fontdict=font_dict)"
   ]
  },
  {
   "cell_type": "markdown",
   "metadata": {},
   "source": [
    "### ***Broken X-Axis***"
   ]
  },
  {
   "cell_type": "code",
   "execution_count": 58,
   "metadata": {
    "ExecuteTime": {
     "end_time": "2022-05-07T15:45:15.676408Z",
     "start_time": "2022-05-07T15:45:15.077913Z"
    }
   },
   "outputs": [
    {
     "data": {
      "image/png": "[encoded data removed]",
      "text/plain": [
       "<Figure size 432x288 with 5 Axes>"
      ]
     },
     "metadata": {},
     "output_type": "display_data"
    },
    {
     "data": {
      "text/plain": [
       "[<matplotlib.collections.PathCollection at 0x2af37f893a0>,\n",
       " <matplotlib.collections.PathCollection at 0x2af37f89fd0>]"
      ]
     },
     "execution_count": 58,
     "metadata": {},
     "output_type": "execute_result"
    },
    {
     "data": {
      "image/png": "[encoded data removed]",
      "text/plain": [
       "<Figure size 432x288 with 3 Axes>"
      ]
     },
     "metadata": {},
     "output_type": "display_data"
    }
   ],
   "source": [
    "import matplotlib.pyplot as plt \n",
    "from brokenaxes import brokenaxes \n",
    "import numpy as np \n",
    "fig = plt.figure(figsize=(6,4)) \n",
    "baxes = brokenaxes(xlims=((-2,3),(5,8)), ylims=((0,8),(9.5,21)), hspace=.1) \n",
    "X = np.array([3,-1,0,4,5,-2,7]) \n",
    "Y = X**2\n",
    "Z = X**3\n",
    "baxes.plot(X,Y,label=\"squared\") \n",
    "baxes.plot(X,Z,label=\"cubed\") \n",
    "baxes.legend(loc=\"best\")\n",
    "plt.plot()\n",
    "plt.show()\n",
    "\n",
    "from brokenaxes import brokenaxes \n",
    "baxes = brokenaxes(xlims=((50,300),(571,600)), hspace=5) \n",
    "baxes.scatter(X,Y,label=\"Peak day\")"
   ]
  },
  {
   "cell_type": "markdown",
   "metadata": {},
   "source": [
    "### ***[python-ternary](https://github.com/marcharper/python-ternary)***"
   ]
  },
  {
   "cell_type": "code",
   "execution_count": 16,
   "metadata": {
    "ExecuteTime": {
     "end_time": "2022-05-04T04:09:39.703919Z",
     "start_time": "2022-05-04T04:09:39.533779Z"
    }
   },
   "outputs": [
    {
     "data": {
      "image/png": "[encoded data removed]",
      "text/plain": [
       "<Figure size 432x288 with 1 Axes>"
      ]
     },
     "metadata": {},
     "output_type": "display_data"
    }
   ],
   "source": [
    "import ternary\n",
    "    \n",
    "scale = 40\n",
    "figure, tax = ternary.figure(scale=scale)\n",
    "\n",
    "# Draw Boundary and Gridlines\n",
    "tax.boundary(linewidth=2.0)\n",
    "tax.gridlines(color=\"blue\", multiple=5)\n",
    "\n",
    "# Set Axis labels and Title\n",
    "fontsize = 12\n",
    "offset = 0.14\n",
    "tax.set_title(\"Various Lines\\n\", fontsize=fontsize)\n",
    "tax.right_corner_label(\"X\", fontsize=fontsize)\n",
    "tax.top_corner_label(\"Y\", fontsize=fontsize)\n",
    "tax.left_corner_label(\"Z\", fontsize=fontsize)\n",
    "tax.left_axis_label(\"Left label $\\\\alpha^2$\", fontsize=fontsize, offset=offset)\n",
    "tax.right_axis_label(\"Right label $\\\\beta^2$\", fontsize=fontsize, offset=offset)\n",
    "tax.bottom_axis_label(\"Bottom label $\\\\Gamma - \\\\Omega$\", fontsize=fontsize, offset=offset)\n",
    "\n",
    "# Draw lines parallel to the axes\n",
    "tax.horizontal_line(16)\n",
    "tax.left_parallel_line(10, linewidth=2., color='red', linestyle=\"--\")\n",
    "tax.right_parallel_line(20, linewidth=3., color='blue')\n",
    "\n",
    "# Draw an arbitrary line, ternary will project the points for you\n",
    "p1 = (22, 8, 10)\n",
    "p2 = (2, 22, 16)\n",
    "tax.line(p1, p2, linewidth=3., marker='s', color='green', linestyle=\":\")\n",
    "\n",
    "tax.ticks(axis='lbr', multiple=5, linewidth=1, offset=0.025)\n",
    "tax.get_axes().axis('off')\n",
    "tax.clear_matplotlib_ticks()\n",
    "tax.show()"
   ]
  },
  {
   "cell_type": "markdown",
   "metadata": {},
   "source": [
    "### ***plt.color(): change color with RGB value***"
   ]
  },
  {
   "cell_type": "code",
   "execution_count": 88,
   "metadata": {
    "ExecuteTime": {
     "end_time": "2022-05-09T22:07:38.783980Z",
     "start_time": "2022-05-09T22:07:38.676892Z"
    }
   },
   "outputs": [
    {
     "data": {
      "text/plain": [
       "[<matplotlib.lines.Line2D at 0x2af3af86760>]"
      ]
     },
     "execution_count": 88,
     "metadata": {},
     "output_type": "execute_result"
    },
    {
     "data": {
      "image/png": "[encoded data removed]",
      "text/plain": [
       "<Figure size 432x288 with 1 Axes>"
      ]
     },
     "metadata": {},
     "output_type": "display_data"
    }
   ],
   "source": [
    "rgb = np.array([(155, 170, 254), (231, 215, 116),(244,151,137)])\n",
    "Clr1 = rgb/255.0\n",
    "\n",
    "Clr = np.array([(26,112,178),(254,126,8),(250,25,250),(25,250,250)])/255.0\n",
    "\n",
    "plt.plot([1,2,3,4,5],[100,200,300,400,500],c=Clr[0])\n",
    "plt.plot([1,2,3,4,5],[600,500,400,300,200],c=Clr[1])\n",
    "# plt.plot([1,2,3,4,5],[600*1.2,500*1.2,400*1.2,300*1.2,200*1.2],c=Clr1[0])\n",
    "\n",
    "plt.plot([1,2,3,4,5],[600*1.5,500*1.5,400*1.5,300*1.5,200*1.5],c=Clr[2])\n",
    "plt.plot([2,3,4,5,6],[600*1.4,500*1.4,400*1.4,300*1.4,200*1.4],c=Clr[3])"
   ]
  },
  {
   "cell_type": "markdown",
   "metadata": {},
   "source": [
    " > ### ***FindObj***"
   ]
  },
  {
   "cell_type": "code",
   "execution_count": 6,
   "metadata": {
    "ExecuteTime": {
     "end_time": "2022-06-23T22:39:03.854772Z",
     "start_time": "2022-06-23T22:39:02.361534Z"
    }
   },
   "outputs": [
    {
     "data": {
      "image/png": "[encoded data removed]",
      "text/plain": [
       "<Figure size 432x288 with 1 Axes>"
      ]
     },
     "metadata": {
      "needs_background": "light"
     },
     "output_type": "display_data"
    }
   ],
   "source": [
    "import numpy as np\n",
    "import matplotlib.pyplot as plt\n",
    "import matplotlib.text as text\n",
    "\n",
    "a = np.arange(0, 3, .02)\n",
    "b = np.arange(0, 3, .02)\n",
    "c = np.exp(a)\n",
    "d = c[::-1]\n",
    "\n",
    "fig, ax = plt.subplots()\n",
    "plt.plot(a, c, 'k--', a, d, 'k:', a, c + d, 'k')\n",
    "plt.legend(('Model length', 'Data length', 'Total message length'),\n",
    "           loc='upper center', shadow=True)\n",
    "plt.ylim([-1, 20])\n",
    "plt.grid(False)\n",
    "plt.xlabel('Model complexity --->')\n",
    "plt.ylabel('Message length --->')\n",
    "plt.title('Minimum Message Length')\n",
    "\n",
    "\n",
    "# match on arbitrary function\n",
    "def myfunc(x):\n",
    "    return hasattr(x, 'set_color') and not hasattr(x, 'set_facecolor')\n",
    "for o in fig.findobj(myfunc):\n",
    "    o.set_color('blue')\n",
    "# match on class instances\n",
    "for o in fig.findobj(text.Text):\n",
    "    o.set_fontstyle('italic')\n"
   ]
  },
  {
   "cell_type": "markdown",
   "metadata": {},
   "source": [
    "# <mark>***Function***<mark>"
   ]
  },
  {
   "cell_type": "markdown",
   "metadata": {
    "ExecuteTime": {
     "end_time": "2022-02-16T18:05:52.492860Z",
     "start_time": "2022-02-16T18:05:52.484853Z"
    }
   },
   "source": [
    "> ### ***Parallel: Process-based parallelism (for looping)***\n",
    "\n",
    "*[Intro](https://andyyoung01.github.io/2017/01/21/Python%E7%9A%84%E5%A4%9A%E7%BA%BF%E7%A8%8B%E4%B8%8E%E5%A4%9A%E8%BF%9B%E7%A8%8B%E7%AE%80%E4%BB%8B-%E4%B8%8A/)*\n",
    "\n",
    "*[multiprocessing Intro](https://docs.python.org/3.9/library/multiprocessing.html)*\n",
    "\n",
    "*[Code1]((https://qiwsir.github.io/2021/09/15/paralellizingcode/))*\n",
    "\n",
    "*[Video1](https://www.bilibili.com/video/BV1G5411P7XV/)*\n",
    "\n",
    "*[subprocess](https://www.starky.ltd/2021/09/23/effective-python-notes-concurrency-subprocess-thread-and-lock/)*\n",
    "\n",
    "***[milti-proccessing Guide](https://www.analyticsvidhya.com/blog/2021/04/a-beginners-guide-to-multi-processing-in-python/)***\n",
    "\n",
    "***[Git: parallel python tutorial](https://github.com/rsnemmen/parallel-python-tutorial)***\n",
    "\n",
    "\n",
    "***[Multiprocess Plot](https://matplotlib.org/3.5.0/gallery/misc/multiprocess_sgskip.html)***"
   ]
  },
  {
   "cell_type": "code",
   "execution_count": null,
   "metadata": {
    "ExecuteTime": {
     "end_time": "2022-04-18T19:42:45.366966Z",
     "start_time": "2022-04-18T19:42:45.366966Z"
    }
   },
   "outputs": [],
   "source": [
    "import time\n",
    "\n",
    "def sleepy_man():\n",
    "    print('Starting to sleep')\n",
    "    time.sleep(1)\n",
    "    print('Done sleeping')\n",
    "\n",
    "tic = time.time()\n",
    "sleepy_man()\n",
    "sleepy_man()\n",
    "toc = time.time()\n",
    "\n",
    "print('Done in {:.4f} seconds'.format(toc-tic))"
   ]
  },
  {
   "cell_type": "code",
   "execution_count": null,
   "metadata": {
    "ExecuteTime": {
     "end_time": "2022-04-18T19:42:45.367967Z",
     "start_time": "2022-04-18T19:42:45.367967Z"
    }
   },
   "outputs": [],
   "source": [
    "from multiprocessing import Pool\n",
    "# define function #\n",
    "def f(x):\n",
    "    return x*x\n",
    "# \n",
    "if __name__ == '__main__':\n",
    "    with Pool(5) as p:\n",
    "        print(p.map(f, [1, 2, 3]))"
   ]
  },
  {
   "cell_type": "code",
   "execution_count": null,
   "metadata": {
    "ExecuteTime": {
     "end_time": "2022-04-18T19:42:45.368967Z",
     "start_time": "2022-04-18T19:42:45.368967Z"
    }
   },
   "outputs": [],
   "source": [
    "### The Proccess Class ###\n",
    "from multiprocessing import Process\n",
    "\n",
    "def f(name):\n",
    "    print('hello', name)\n",
    "\n",
    "if __name__ == '__main__':\n",
    "    # creating a Process object #\n",
    "    p = Process(target=f, args=('bob'))\n",
    "    # calling its start() method #\n",
    "    p.start()\n",
    "    p.join()"
   ]
  },
  {
   "cell_type": "code",
   "execution_count": null,
   "metadata": {
    "ExecuteTime": {
     "end_time": "2022-04-18T19:42:45.369968Z",
     "start_time": "2022-04-18T19:42:45.369968Z"
    }
   },
   "outputs": [],
   "source": [
    "from multiprocessing import Process\n",
    "import os\n",
    "\n",
    "def info(title):\n",
    "    print(title)\n",
    "    print('module name:', __name__)\n",
    "    print('parent process:', os.getppid())\n",
    "    print('process id:', os.getpid())\n",
    "\n",
    "def f(name):\n",
    "    info('function f')\n",
    "    print('hello', name)\n",
    "\n",
    "if __name__ == '__main__':\n",
    "    info('main line')\n",
    "    p = Process(target=f, args=('bob',))\n",
    "    p.start()\n",
    "    p.join()"
   ]
  },
  {
   "cell_type": "code",
   "execution_count": null,
   "metadata": {
    "ExecuteTime": {
     "end_time": "2022-04-18T19:42:45.370969Z",
     "start_time": "2022-04-18T19:42:45.370969Z"
    }
   },
   "outputs": [],
   "source": [
    "import multiprocessing as mp\n",
    "\n",
    "def foo(q):\n",
    "    q.put('hello')\n",
    "\n",
    "if __name__ == '__main__':\n",
    "    mp.set_start_method('spawn')\n",
    "    q = mp.Queue()\n",
    "    p = mp.Process(target=foo, args=(q,))\n",
    "    p.start()\n",
    "    print(q.get())\n",
    "    p.join()"
   ]
  },
  {
   "cell_type": "code",
   "execution_count": null,
   "metadata": {
    "ExecuteTime": {
     "end_time": "2022-04-18T19:42:45.371970Z",
     "start_time": "2022-04-18T19:42:45.371970Z"
    }
   },
   "outputs": [],
   "source": [
    "import math\n",
    "import numpy as np\n",
    "from timebudget import timebudget\n",
    "\n",
    "iterations_count = round(1e7)\n",
    "\n",
    "def complex_operation(input_index):\n",
    "    print(\"Complex operation. Input index: {:2d}\".format(input_index))\n",
    "    [math.exp(i) * math.sinh(i) for i in [1] * iterations_count]\n",
    "    \n",
    "def run_complex_operations(operation, input):\n",
    "    for i in input:\n",
    "        operation(i)\n",
    "\n",
    "input = range(10)\n",
    "run_complex_operations(complex_operation, input)\n"
   ]
  },
  {
   "cell_type": "markdown",
   "metadata": {},
   "source": [
    "*Using multlprocessing for parallel*"
   ]
  },
  {
   "cell_type": "code",
   "execution_count": null,
   "metadata": {
    "ExecuteTime": {
     "end_time": "2022-04-18T19:42:45.372971Z",
     "start_time": "2022-04-18T19:42:45.372971Z"
    }
   },
   "outputs": [],
   "source": [
    "import math\n",
    "import numpy as np\n",
    "from timebudget import timebudget\n",
    "from multiprocessing import Pool\n",
    "\n",
    "iterations_count = round(1)\n",
    "\n",
    "def complex_operation(input_index):\n",
    "    print(\"Complex operation. Input index: {:2d}\".format(input_index))\n",
    "    [math.exp(i) * math.sinh(i) for i in [1] * iterations_count]\n",
    "    \n",
    "def run_complex_operations(operation, input, pool):\n",
    "    pool.map(operation, input)\n",
    "    # for i in input:\n",
    "    #     operation(i)\n",
    "\n",
    "# input = range(10)\n",
    "# run_complex_operations(complex_operation, input)\n",
    "\n",
    "processes_count = 10\n",
    "\n",
    "if __name__ == '__main__':\n",
    "    processes_pool = Pool(processes_count)\n",
    "    run_complex_operations(complex_operation, range(10), processes_pool)\n"
   ]
  },
  {
   "cell_type": "markdown",
   "metadata": {},
   "source": [
    "> ### ***Logistic Function***"
   ]
  },
  {
   "cell_type": "code",
   "execution_count": null,
   "metadata": {
    "ExecuteTime": {
     "end_time": "2022-04-18T19:42:45.372971Z",
     "start_time": "2022-04-18T19:42:45.372971Z"
    }
   },
   "outputs": [],
   "source": [
    "a = 10\n",
    "b = 1\n",
    "c = 0.95\n",
    "x = np.arange(1,1000,1)\n",
    "y = a/(1+b*pow(c,-x))+0.75\n",
    "plt.plot(x,y,color='r',label='Model estimation(Median)')"
   ]
  },
  {
   "cell_type": "code",
   "execution_count": null,
   "metadata": {
    "ExecuteTime": {
     "end_time": "2022-04-18T19:42:45.373972Z",
     "start_time": "2022-04-18T19:42:45.373972Z"
    }
   },
   "outputs": [],
   "source": [
    "import math\n",
    "log_f = []\n",
    "u         = 300              # 25-550\n",
    "theta     = 0.05             # 25-200\n",
    "ymax      = 2    \n",
    "\n",
    "for t in range(500):\n",
    "    log = (ymax/(1+math.exp(-theta*(t-u)))+1)\n",
    "    log_f.append(log)\n",
    "plt.plot(np.arange(500),log_f)"
   ]
  },
  {
   "cell_type": "markdown",
   "metadata": {},
   "source": [
    "> ### ***[95% Confidence interbal](https://www.statology.org/confidence-intervals-python/)***"
   ]
  },
  {
   "cell_type": "code",
   "execution_count": 8,
   "metadata": {
    "ExecuteTime": {
     "end_time": "2022-06-26T21:34:38.619327Z",
     "start_time": "2022-06-26T21:34:38.567284Z"
    }
   },
   "outputs": [
    {
     "name": "stdout",
     "output_type": "stream",
     "text": [
      "481.5774006858812\n",
      "517.4225993141189\n"
     ]
    }
   ],
   "source": [
    "import numpy as np\n",
    "import scipy.stats as st\n",
    "# Confidence Intervals Using the Normal Distribution\n",
    "data = np.arange(1000)\n",
    "CI95 = st.norm.interval(alpha=0.95, loc=np.mean(data), scale=st.sem(data))\n",
    "# Confidence Intervals Using the t Distribution\n",
    "CI95 = st.t.interval(alpha=0.95, df=len(data)-1, loc=np.mean(data), scale=st.sem(data))\n",
    "\n",
    "print(CI95[0])\n",
    "print(CI95[1])"
   ]
  },
  {
   "cell_type": "code",
   "execution_count": 10,
   "metadata": {
    "ExecuteTime": {
     "end_time": "2022-06-26T21:35:52.661599Z",
     "start_time": "2022-06-26T21:35:52.655594Z"
    }
   },
   "outputs": [
    {
     "data": {
      "text/plain": [
       "(499.5, 481.5774006858812, 517.4225993141189)"
      ]
     },
     "execution_count": 10,
     "metadata": {},
     "output_type": "execute_result"
    }
   ],
   "source": [
    "import numpy as np\n",
    "import scipy.stats\n",
    "\n",
    "\n",
    "def mean_confidence_interval(data, confidence=0.95):\n",
    "    a = 1.0 * np.array(data)\n",
    "    n = len(a)\n",
    "    m, se = np.mean(a), scipy.stats.sem(a)\n",
    "    h = se * scipy.stats.t.ppf((1 + confidence) / 2., n-1)\n",
    "    return m, m-h, m+h\n",
    "\n",
    "\n",
    "data = np.arange(1000)\n",
    "mean_confidence_interval(data)"
   ]
  },
  {
   "cell_type": "markdown",
   "metadata": {},
   "source": [
    "> ### ***Latex***"
   ]
  },
  {
   "cell_type": "markdown",
   "metadata": {},
   "source": [
    "Function: $y=x^2+3$\n",
    "\n",
    "$$ \\frac{2}{3}$$\n",
    "\n",
    "$$\\sqrt{4}{\\frac{x_2^4-2}{2x^3}}$$"
   ]
  },
  {
   "cell_type": "markdown",
   "metadata": {
    "ExecuteTime": {
     "end_time": "2022-02-10T03:18:49.208678Z",
     "start_time": "2022-02-10T03:18:49.205658Z"
    }
   },
   "source": [
    "> ### ***Import Function from other python file*** "
   ]
  },
  {
   "cell_type": "code",
   "execution_count": null,
   "metadata": {
    "ExecuteTime": {
     "end_time": "2022-04-18T19:42:45.375973Z",
     "start_time": "2022-04-18T19:42:45.375973Z"
    }
   },
   "outputs": [],
   "source": [
    "# method 1: import python file as package\n",
    "import other_python_file\n",
    "other_python_file.function()\n",
    "# method 2: import function \n",
    "from other_python_file import function1(), function2()\n",
    "function1()"
   ]
  },
  {
   "cell_type": "markdown",
   "metadata": {
    "ExecuteTime": {
     "end_time": "2022-02-10T03:46:41.621597Z",
     "start_time": "2022-02-10T03:46:41.618594Z"
    }
   },
   "source": [
    "> ### *** *args***"
   ]
  },
  {
   "cell_type": "markdown",
   "metadata": {},
   "source": [
    "> ### ***[lambda](https://www.w3schools.com/python/python_lambda.asp)***\n",
    "\n",
    "***[Lambda function for dataFrame]()***"
   ]
  },
  {
   "cell_type": "markdown",
   "metadata": {},
   "source": [
    "* *lambda case 1: + 2 for a list*  "
   ]
  },
  {
   "cell_type": "code",
   "execution_count": null,
   "metadata": {
    "ExecuteTime": {
     "end_time": "2022-04-18T19:42:45.377974Z",
     "start_time": "2022-04-18T19:42:45.377974Z"
    }
   },
   "outputs": [],
   "source": [
    "list1 = [1,2,3,4,5]\n",
    "result = map(lambda x: x+2, list1)\n",
    "print(list(result))"
   ]
  },
  {
   "cell_type": "markdown",
   "metadata": {},
   "source": [
    "* *lambda case 2: filter even number from a lsit* "
   ]
  },
  {
   "cell_type": "code",
   "execution_count": null,
   "metadata": {
    "ExecuteTime": {
     "end_time": "2022-04-18T19:42:45.378976Z",
     "start_time": "2022-04-18T19:42:45.377974Z"
    }
   },
   "outputs": [],
   "source": [
    "li = [1,2,3,4,5,6,7,8,9,10]\n",
    "evenNumbers = filter(lambda x: x%2==0, li)\n",
    "print(evenNumbers)"
   ]
  },
  {
   "cell_type": "markdown",
   "metadata": {},
   "source": [
    "* *lambda case 3: square of even number in list* "
   ]
  },
  {
   "cell_type": "code",
   "execution_count": null,
   "metadata": {
    "ExecuteTime": {
     "end_time": "2022-04-18T19:42:45.378976Z",
     "start_time": "2022-04-18T19:42:45.378976Z"
    }
   },
   "outputs": [],
   "source": [
    "li = [1,2,3,4,5,6,7,8,9,10]\n",
    "evenNumbers = map(lambda x: x**2, filter(lambda x: x%2==0, li))\n",
    "print(evenNumbers)"
   ]
  },
  {
   "cell_type": "markdown",
   "metadata": {
    "ExecuteTime": {
     "end_time": "2022-03-04T01:20:40.297392Z",
     "start_time": "2022-03-04T01:20:40.294390Z"
    }
   },
   "source": [
    "* *lambda practice: change 9 to 0* "
   ]
  },
  {
   "cell_type": "code",
   "execution_count": null,
   "metadata": {
    "ExecuteTime": {
     "end_time": "2022-04-18T19:42:45.379977Z",
     "start_time": "2022-04-18T19:42:45.379977Z"
    }
   },
   "outputs": [],
   "source": [
    "import numpy as np\n",
    "list_data  = [1,2,3,4,5,6,7,8,9,9,8,7,6,5,4,3,2,1,1,2,3,4,5,6,7,8,9,9,8,7,6,5,4,3,2,1]\n",
    "list_data  = np.random.rand(4*10000000)\n",
    "#array_data = np.array(list_data).reshape(4,-1)\n",
    "\n",
    "def change9(i):\n",
    "    if i == 9:\n",
    "        i = 0\n",
    "    else:\n",
    "        i = i\n",
    "    return i\n",
    "\n",
    "\n",
    "print(map(change9,list_data))\n",
    "np.array(list(map(change9,list_data))).reshape(4,-1)\n",
    "\n",
    "\n",
    "#array_data = np.array(list_data).reshape(4,-1)\n",
    "\n",
    "list_data  = np.random.rand(4*10000000)\n",
    "array_data = np.array(list_data).reshape(4,-1)\n",
    "\n",
    "array_data1 = np.where(array_data==9, 0, array_data)\n",
    "(array_data1==9).sum()"
   ]
  },
  {
   "cell_type": "markdown",
   "metadata": {},
   "source": [
    "> ### ***map() function***\n",
    "\n",
    "***map(fun, iter)***   \n",
    "*map() function returns a map object(which is an iterator) of the results after applying the given function to each item of a given iterable (list, tuple etc.)*  \n",
    "***map(f, iterable) is basically equivalent to: [f(x) for x in iterable]***"
   ]
  },
  {
   "cell_type": "code",
   "execution_count": null,
   "metadata": {
    "ExecuteTime": {
     "end_time": "2022-04-18T19:42:45.380977Z",
     "start_time": "2022-04-18T19:42:45.380977Z"
    }
   },
   "outputs": [],
   "source": [
    "### Use defination function ###\n",
    "def addition(n):\n",
    "    return n + n\n",
    "numbers = (1, 2, 3, 4)\n",
    "result = map(addition, numbers)\n",
    "print(list(result))\n",
    "\n",
    "### lambda function ###\n",
    "numbers = (1, 2, 3, 4)\n",
    "result = map(lambda x: x + x, numbers)\n",
    "print(list(result))"
   ]
  },
  {
   "cell_type": "markdown",
   "metadata": {
    "ExecuteTime": {
     "end_time": "2022-03-10T05:06:48.752828Z",
     "start_time": "2022-03-10T05:06:48.749825Z"
    }
   },
   "source": [
    "> ### ***zip() function***"
   ]
  },
  {
   "cell_type": "code",
   "execution_count": null,
   "metadata": {
    "ExecuteTime": {
     "end_time": "2022-04-18T19:42:45.381978Z",
     "start_time": "2022-04-18T19:42:45.381978Z"
    }
   },
   "outputs": [],
   "source": [
    "import itertools\n",
    "a = [1,2,3]\n",
    "b = [4,5,6]\n",
    "for i, j in itertools.product(a, b):\n",
    "    print(i,j)"
   ]
  },
  {
   "cell_type": "code",
   "execution_count": 1,
   "metadata": {
    "ExecuteTime": {
     "end_time": "2022-05-23T13:57:01.444157Z",
     "start_time": "2022-05-23T13:57:01.432137Z"
    }
   },
   "outputs": [
    {
     "name": "stdout",
     "output_type": "stream",
     "text": [
      "1 4\n",
      "2 5\n",
      "3 6\n"
     ]
    }
   ],
   "source": [
    "a = [1,2,3]\n",
    "b = [4,5,6]\n",
    "for i, j in zip(a, b):\n",
    "    print(i,j)"
   ]
  },
  {
   "cell_type": "markdown",
   "metadata": {},
   "source": [
    "> ### ***Enumerate()***  \n",
    "*method adds a counter to an iterable and returns it in a form of enumerating object*"
   ]
  },
  {
   "cell_type": "code",
   "execution_count": 5,
   "metadata": {
    "ExecuteTime": {
     "end_time": "2022-05-23T14:05:44.041983Z",
     "start_time": "2022-05-23T14:05:44.037979Z"
    }
   },
   "outputs": [
    {
     "name": "stdout",
     "output_type": "stream",
     "text": [
      "(0, 'eat')\n",
      "(1, 'sleep')\n",
      "(2, 'repeat')\n",
      "100 eat\n",
      "101 sleep\n",
      "102 repeat\n",
      "0\n",
      "eat\n",
      "1\n",
      "sleep\n",
      "2\n",
      "repeat\n"
     ]
    }
   ],
   "source": [
    "l1 = [\"eat\", \"sleep\", \"repeat\"]\n",
    "  \n",
    "# printing the tuples in object directly\n",
    "for ele in enumerate(l1):\n",
    "    print (ele)\n",
    "    \n",
    "# changing index and printing separately\n",
    "for count, ele in enumerate(l1, 100):\n",
    "    print (count, ele)\n",
    "    \n",
    "#getting desired output from tuple\n",
    "for count, ele in enumerate(l1):\n",
    "    print(count)\n",
    "    print(ele)"
   ]
  },
  {
   "cell_type": "markdown",
   "metadata": {},
   "source": [
    "> ### *[apply() in DataFrame](https://pandas.pydata.org/docs/reference/api/pandas.DataFrame.apply.html)*"
   ]
  },
  {
   "cell_type": "code",
   "execution_count": null,
   "metadata": {
    "ExecuteTime": {
     "end_time": "2022-04-18T19:42:45.383979Z",
     "start_time": "2022-04-18T19:42:45.383979Z"
    }
   },
   "outputs": [],
   "source": [
    "import pandas as pd\n",
    "df1 = pd.DataFrame([[4, 9]] * 3, columns=['A', 'B'])\n",
    "df1\n",
    "\n",
    "df1.apply(np.sum, axis=0)"
   ]
  },
  {
   "cell_type": "markdown",
   "metadata": {},
   "source": [
    "> ### *[Smooth Data](https://stackoverflow.com/questions/5283649/plot-smooth-line-with-pyplot)*"
   ]
  },
  {
   "cell_type": "code",
   "execution_count": 2,
   "metadata": {
    "ExecuteTime": {
     "end_time": "2022-06-15T21:06:52.121361Z",
     "start_time": "2022-06-15T21:06:50.933383Z"
    }
   },
   "outputs": [
    {
     "data": {
      "text/plain": [
       "[<matplotlib.lines.Line2D at 0x257e73011c0>]"
      ]
     },
     "execution_count": 2,
     "metadata": {},
     "output_type": "execute_result"
    },
    {
     "data": {
      "image/png": "[encoded data removed]",
      "text/plain": [
       "<Figure size 432x288 with 1 Axes>"
      ]
     },
     "metadata": {
      "needs_background": "light"
     },
     "output_type": "display_data"
    }
   ],
   "source": [
    "import matplotlib.pyplot as plt\n",
    "from scipy.ndimage.filters import gaussian_filter1d\n",
    "# ysmoothed = gaussian_filter1d(y, sigma=2)\n",
    "# plt.plot(x_obs,gaussian_filter1d(lab_total_ratePct_avg*100,sigma=0.5),    c=Clr[0], marker='X', label='$lab$ $observation$',alpha=0.95,linewidth=3,zorder=100)\n",
    "# plt.plot(x_obs,(lab_total_ratePct_avg*100),    c=Clr[1], marker='X', label='$lab$ $observation$',alpha=0.95,linewidth=3,zorder=100)\n",
    "\n",
    "x=[1,2,3,4,5,6,7,8,9,10,11]\n",
    "y=[1,3,4,5,2,3,6,7,8,9,3]\n",
    "plt.plot(x,y)\n",
    "plt.plot(x,gaussian_filter1d(y,sigma=1))"
   ]
  },
  {
   "cell_type": "markdown",
   "metadata": {
    "ExecuteTime": {
     "end_time": "2022-02-10T03:59:52.251266Z",
     "start_time": "2022-02-10T03:59:52.241258Z"
    }
   },
   "source": [
    "> ### ***list comprehension***  "
   ]
  },
  {
   "cell_type": "markdown",
   "metadata": {},
   "source": [
    "*[ ***expression*** for ***name*** in ***list*** ]*"
   ]
  },
  {
   "cell_type": "code",
   "execution_count": 21,
   "metadata": {
    "ExecuteTime": {
     "end_time": "2022-05-06T14:09:12.229769Z",
     "start_time": "2022-05-06T14:09:12.224744Z"
    }
   },
   "outputs": [],
   "source": [
    "li = [3, 6, 2, 7]\n",
    "[elem*2 for elem in li]\n",
    "\n",
    "li = [('a', 1), ('b', 2), ('c', 7)]\n",
    "[n * 3 for (x, n) in li]\n",
    "\n",
    "rgb = [(155, 170, 254), (231, 215, 116),(244,151,137)]\n",
    "colors = [tuple(t / 255 for t in x) for x in rgb]"
   ]
  },
  {
   "cell_type": "markdown",
   "metadata": {
    "ExecuteTime": {
     "end_time": "2022-03-03T15:00:08.599035Z",
     "start_time": "2022-03-03T15:00:08.596033Z"
    }
   },
   "source": [
    "*[***expression*** for ***name*** in ***list*** if ***filter***]*"
   ]
  },
  {
   "cell_type": "code",
   "execution_count": null,
   "metadata": {
    "ExecuteTime": {
     "end_time": "2022-04-18T19:42:45.385982Z",
     "start_time": "2022-04-18T19:42:45.385982Z"
    }
   },
   "outputs": [],
   "source": [
    "li = [3, 6, 2, 7, 1, 9]\n",
    "[elem * 2 for elem in li if elem > 4]"
   ]
  },
  {
   "cell_type": "markdown",
   "metadata": {},
   "source": [
    "*Nested list comprehension*"
   ]
  },
  {
   "cell_type": "code",
   "execution_count": null,
   "metadata": {
    "ExecuteTime": {
     "end_time": "2022-04-18T19:42:45.386982Z",
     "start_time": "2022-04-18T19:42:45.386982Z"
    }
   },
   "outputs": [],
   "source": [
    "li = [3, 2, 4, 1]\n",
    "[elem*2 for elem in \n",
    " [item+1 for item in li]]"
   ]
  },
  {
   "cell_type": "code",
   "execution_count": null,
   "metadata": {
    "deletable": false,
    "editable": false,
    "run_control": {
     "frozen": true
    }
   },
   "outputs": [],
   "source": [
    "a = [1,2,3,4,5,6]\n",
    "b = [3,4,5,6,2,3]\n",
    "[a+elem for elem in b if elem >2 ]"
   ]
  },
  {
   "cell_type": "markdown",
   "metadata": {},
   "source": [
    "**************"
   ]
  },
  {
   "cell_type": "markdown",
   "metadata": {},
   "source": [
    "*****************"
   ]
  },
  {
   "cell_type": "markdown",
   "metadata": {},
   "source": [
    "**************"
   ]
  },
  {
   "cell_type": "markdown",
   "metadata": {},
   "source": [
    "*******************"
   ]
  },
  {
   "cell_type": "markdown",
   "metadata": {},
   "source": [
    "*****************"
   ]
  },
  {
   "cell_type": "markdown",
   "metadata": {},
   "source": [
    "# ***GitHub***\n",
    "*[Tutoral for Git learning](https://www.bilibili.com/video/BV1pJ411j7Rh?p=40&spm_id_from=pageDriver)*  \n",
    "***Repository***  \n",
    "***Branch***"
   ]
  },
  {
   "cell_type": "markdown",
   "metadata": {},
   "source": [
    "> ### ***User name***"
   ]
  },
  {
   "cell_type": "markdown",
   "metadata": {},
   "source": [
    "*git config --global user.name BOYI*  \n",
    "*git config --global user.email boyiisme@gmail.com*"
   ]
  },
  {
   "cell_type": "markdown",
   "metadata": {},
   "source": [
    "> ### ***Folder to Git Repository***"
   ]
  },
  {
   "cell_type": "markdown",
   "metadata": {},
   "source": [
    "*(1)Right Click  - Git Bash here*  \n",
    "*    ***git init***  \n",
    "\n",
    "*(2)work-space* - *buffer-area* - *Git-repository*  \n",
    "*    ***git add -A / file_name***  \n",
    "*    ***git commit -m 'commit message' file_name***\n",
    "\n",
    "* ***git status***  $~~~~~~~~~~~~~~~$ *Check ths status of repository*"
   ]
  },
  {
   "cell_type": "markdown",
   "metadata": {},
   "source": [
    "> ### ***Check History and reset***"
   ]
  },
  {
   "cell_type": "markdown",
   "metadata": {},
   "source": [
    "*(1)Check Version*  \n",
    "***git log --prettty=oneline***  \n",
    "***git log --oneline***$~~~~~~~~~~~~~~~~~~~~~~~$ *#Show history Reference*  \n",
    "***git reflog***$~~~~~~~~~~~~~~~~~~~~~~~~~~~~~~$ *#show: 04aaf61 HEAD@{step}*  \n",
    "\n",
    "*(2)Back to previous version*  \n",
    "***git reset --hard 04aaf61***$~~~~~~~~~~~~~~~~$ *#Get back to a Version*  \n",
    "***git diff***\n"
   ]
  },
  {
   "cell_type": "markdown",
   "metadata": {},
   "source": [
    "> ***Change to Previous Version***"
   ]
  },
  {
   "cell_type": "markdown",
   "metadata": {
    "ExecuteTime": {
     "end_time": "2022-03-19T21:20:52.223089Z",
     "start_time": "2022-03-19T21:20:52.220068Z"
    }
   },
   "source": [
    "***git checkout Filename***"
   ]
  },
  {
   "cell_type": "markdown",
   "metadata": {
    "ExecuteTime": {
     "end_time": "2022-02-11T05:44:20.745645Z",
     "start_time": "2022-02-11T05:44:20.740641Z"
    }
   },
   "source": [
    "> ### ***Push & Pull (fetch+merge)***  \n",
    "\n",
    "*[Password authentication error](https://reactgo.com/github-password-authentication-removed/)*"
   ]
  },
  {
   "cell_type": "markdown",
   "metadata": {},
   "source": [
    "*(1)Check the name on Remote GitHub*   \n",
    "* ***git remote -v***  \n",
    "\n",
    "*(2)remove repository nickname*  \n",
    "* ***git remote remove Nickname***  \n",
    "\n",
    "*(2)give GitHub a nickname(orgion) and http addres*  \n",
    "* ***git remote add orgion https://github.com/boyiisme/NEON.git***\n",
    "\n",
    "(3)***push***: *git push + nickname and branch*  \n",
    "* ***git push origin master***  \n",
    "\n",
    "(4)***pull***: *git pull + nickname and branch* \n",
    "* ***git pull origin master***"
   ]
  },
  {
   "cell_type": "markdown",
   "metadata": {},
   "source": [
    "**********"
   ]
  },
  {
   "cell_type": "markdown",
   "metadata": {
    "ExecuteTime": {
     "end_time": "2022-03-04T02:20:21.576608Z",
     "start_time": "2022-03-04T02:20:21.573605Z"
    }
   },
   "source": [
    "***************"
   ]
  },
  {
   "cell_type": "markdown",
   "metadata": {},
   "source": [
    "**************"
   ]
  },
  {
   "cell_type": "markdown",
   "metadata": {},
   "source": [
    "# ***R-Code*** ##"
   ]
  },
  {
   "cell_type": "markdown",
   "metadata": {
    "tags": []
   },
   "source": [
    "### *1. Correlation Plots Using The corrplot and ggplot2 Packages In R*\n",
    "> *https://dk81.github.io/dkmathstats_site/rvisual-corrplots.html*"
   ]
  },
  {
   "cell_type": "markdown",
   "metadata": {
    "tags": []
   },
   "source": [
    "### *2. gather & spread*:   \n",
    " > *http://statseducation.com/Introduction-to-R/modules/tidy%20data/gather/*  \n",
    " * *gather: from column to rows*\n",
    " \n",
    "*table %>% gather(\"year\", \"cases\", \"1999\":\"2000\")*\n",
    "\n",
    "*dataframe %>% gather(\"column_name\", \"values\", \"start columns\":\"end columns\")*"
   ]
  },
  {
   "cell_type": "markdown",
   "metadata": {},
   "source": [
    "### *3. NaN & NA to 0*:   "
   ]
  },
  {
   "cell_type": "markdown",
   "metadata": {
    "ExecuteTime": {
     "end_time": "2022-03-08T02:00:09.568196Z",
     "start_time": "2022-03-08T02:00:09.565130Z"
    }
   },
   "source": [
    "is.nan.data.frame <- function(x)  \n",
    "  do.call(cbind, lapply(x, is.nan))    \n",
    "***# Remove NaN/Change NaN to 0***  \n",
    "manure_crop_missing = manure_crop  \n",
    "manure_crop_missing[is.nan(manure_crop_missing)] <- NA \n",
    "\n",
    "***# Change NA to 0***  \n",
    "manure_crop_missing[is.na(manure_crop_missing)]  <- 0  "
   ]
  },
  {
   "cell_type": "markdown",
   "metadata": {},
   "source": [
    "**********"
   ]
  },
  {
   "cell_type": "markdown",
   "metadata": {},
   "source": [
    "**********"
   ]
  },
  {
   "cell_type": "markdown",
   "metadata": {},
   "source": [
    "************"
   ]
  },
  {
   "cell_type": "markdown",
   "metadata": {},
   "source": [
    "# ***Matlab***"
   ]
  },
  {
   "cell_type": "markdown",
   "metadata": {},
   "source": [
    "> ### ***Run R-script in Matlab***   \n",
    "\n",
    "* *[matlab-Rlanguaga](https://www.mathworks.com/matlabcentral/fileexchange/?category[]=support/r-languag1420&s_tid=FX_AO_detail_cat)*  \n"
   ]
  },
  {
   "cell_type": "code",
   "execution_count": null,
   "metadata": {
    "ExecuteTime": {
     "end_time": "2022-04-18T19:42:45.387983Z",
     "start_time": "2022-04-18T19:42:45.387983Z"
    }
   },
   "outputs": [],
   "source": [
    "# Install RunRcode: https://www.zhihu.com/question/59793452\n",
    "# (1) Find the R path #\n",
    "Rpath = r'C:\\Program Files\\R\\R-3.6.1\\bin';\n",
    "# (2) Find the R-script file #\n",
    "RscriptFileName = r'C:\\Users\\boyi.IASTATE\\Desktop\\R_file_test\\CModel.R';\n",
    "# (3) Run R-script with the default R tool #\n",
    "#RunRcode(RscriptFileName, Rpath);"
   ]
  },
  {
   "cell_type": "markdown",
   "metadata": {
    "ExecuteTime": {
     "end_time": "2022-03-11T22:29:02.409720Z",
     "start_time": "2022-03-11T22:29:02.405717Z"
    }
   },
   "source": [
    "> ### ***Run R-script in Matlab on MAC***   \n",
    "* *[Run R in matlab on MAC](https://www.mathworks.com/matlabcentral/answers/186-calling-r-from-matlab-on-a-mac)*   \n",
    "* *[Make a file executable in Terminal on Mac](https://support.apple.com/guide/terminal/make-a-file-executable-apdd100908f-06b3-4e63-8a87-32e71241bab4/mac)*"
   ]
  },
  {
   "cell_type": "markdown",
   "metadata": {},
   "source": [
    "* *1. Prepend the following to the top of script.R, the program you want to run:*  \n",
    "   ***#! /usr/bin/Rscript***   \n",
    "   (the first line is #!/usr/bin/Rscript (replacing /usr/bin with your actual R executable installation directory)\n",
    "\n",
    "\n",
    "* *2. In the Terminal app  on your Mac, use the cd command to move into the directory that contains the file you want to make executable. For example:*   \n",
    "   ***cd YourScriptDirectory***  \n",
    "   ***chmod scripy.R***\n",
    "\n",
    "\n",
    "* *3. Set up to use the system function in MATLAB:*  \n",
    "   **system('~/path_to/script.R')**"
   ]
  },
  {
   "cell_type": "markdown",
   "metadata": {
    "ExecuteTime": {
     "end_time": "2022-03-14T03:32:56.584472Z",
     "start_time": "2022-03-14T03:32:56.580469Z"
    }
   },
   "source": [
    "> ### ***.mat to dataFrame***"
   ]
  },
  {
   "cell_type": "code",
   "execution_count": null,
   "metadata": {
    "ExecuteTime": {
     "end_time": "2022-04-18T19:42:45.388984Z",
     "start_time": "2022-04-18T19:42:45.388984Z"
    }
   },
   "outputs": [],
   "source": [
    "import os\n",
    "import fnmatch \n",
    "import scipy.io\n",
    "in_path = r'C:\\Users\\boyi\\Desktop\\8.MCMC_Uniform_ForLabIcubation_LoopSite_Peak\\20200210_dream_zs_restart_with_SOM\\MAMC_Result'\n",
    "#mat     = scipy.io.loadmat(in_path+'\\{site_name}.mat'.format(site_name=site))\n",
    "#mat.keys()\n",
    "#post = pd.DataFrame(mat['Z0'])"
   ]
  },
  {
   "cell_type": "markdown",
   "metadata": {},
   "source": [
    "**************"
   ]
  },
  {
   "cell_type": "markdown",
   "metadata": {},
   "source": [
    "*************"
   ]
  },
  {
   "cell_type": "markdown",
   "metadata": {},
   "source": [
    "**********"
   ]
  },
  {
   "cell_type": "markdown",
   "metadata": {},
   "source": [
    "********************"
   ]
  },
  {
   "cell_type": "markdown",
   "metadata": {},
   "source": [
    "******************************"
   ]
  },
  {
   "cell_type": "markdown",
   "metadata": {},
   "source": [
    "**********************"
   ]
  },
  {
   "cell_type": "markdown",
   "metadata": {},
   "source": [
    "# ***ArcMap***"
   ]
  },
  {
   "cell_type": "markdown",
   "metadata": {},
   "source": [
    "*[Rotate the data frame](https://support.esri.com/en/technical-article/000012274)*"
   ]
  },
  {
   "cell_type": "markdown",
   "metadata": {},
   "source": [
    "> ### ***Map not at center of dataframe***"
   ]
  },
  {
   "cell_type": "markdown",
   "metadata": {},
   "source": [
    "*1) Have NoValue pixel: need extract by mask*"
   ]
  },
  {
   "cell_type": "markdown",
   "metadata": {},
   "source": [
    "> ### ***NoValue still show as background in map***"
   ]
  },
  {
   "cell_type": "markdown",
   "metadata": {},
   "source": [
    "*1) unckeck Display background Values in Symbology*  \n",
    "*2) Use Raster Calculater tool: x1*"
   ]
  },
  {
   "cell_type": "markdown",
   "metadata": {},
   "source": [
    "> ### ***Cut Rester by Shapefile****"
   ]
  },
  {
   "cell_type": "markdown",
   "metadata": {},
   "source": [
    "*1) extract by mask*"
   ]
  },
  {
   "cell_type": "markdown",
   "metadata": {},
   "source": [
    "> ### ***Cut Shapefile by Shapefile***"
   ]
  },
  {
   "cell_type": "markdown",
   "metadata": {},
   "source": [
    "1) *Clip*"
   ]
  },
  {
   "cell_type": "markdown",
   "metadata": {},
   "source": [
    "> ### ***Geospatial Reference***   \n",
    "***Projection Geospatial Reference + Projection Geospatial Reference***   \n",
    "\n",
    "*If two file have set the same grospatial reference but can't lineup at same location: change the extent by 'create spstial reference'*"
   ]
  },
  {
   "cell_type": "markdown",
   "metadata": {
    "ExecuteTime": {
     "end_time": "2022-03-05T21:50:07.273720Z",
     "start_time": "2022-03-05T21:50:07.270705Z"
    }
   },
   "source": [
    "*[Create Spatial Reference](https://iowastate.instructuremedia.com/embed/8dabc27e-49d6-484a-99b1-b34080b18a15)*"
   ]
  },
  {
   "cell_type": "markdown",
   "metadata": {
    "ExecuteTime": {
     "end_time": "2022-03-08T17:21:06.134539Z",
     "start_time": "2022-03-08T17:20:56.360446Z"
    }
   },
   "source": [
    "> ### ***legend***  "
   ]
  },
  {
   "cell_type": "markdown",
   "metadata": {
    "ExecuteTime": {
     "end_time": "2022-03-08T17:22:48.388644Z",
     "start_time": "2022-03-08T17:22:48.385641Z"
    }
   },
   "source": [
    "***legend***   \n",
    "*Properties - (Item -  Place item in a new column) + (Style - Horizontal Bar with Heading.Label and Description*  \n",
    "*Change specific item: Right click, Convert to Graph - UnGroup*   \n",
    "***Scale Bar***  \n",
    "*Number of devision:2; Number of Subdivisions: 0*  \n",
    "***DataFrame Graticule***   \n",
    "*Right-Click DataFrame - - Grids --- New Grid --- properties - Lines - Dont show lines or ticks*  \n",
    "***North Allow***  \n"
   ]
  }
 ],
 "metadata": {
  "kernelspec": {
   "display_name": "Python 3 (ipykernel)",
   "language": "python",
   "name": "python3"
  },
  "language_info": {
   "codemirror_mode": {
    "name": "ipython",
    "version": 3
   },
   "file_extension": ".py",
   "mimetype": "text/x-python",
   "name": "python",
   "nbconvert_exporter": "python",
   "pygments_lexer": "ipython3",
   "version": "3.9.7"
  },
  "toc": {
   "base_numbering": 1,
   "nav_menu": {},
   "number_sections": false,
   "sideBar": true,
   "skip_h1_title": false,
   "title_cell": "Table of Contents",
   "title_sidebar": "Contents",
   "toc_cell": false,
   "toc_position": {
    "height": "calc(100% - 180px)",
    "left": "10px",
    "top": "150px",
    "width": "296px"
   },
   "toc_section_display": true,
   "toc_window_display": true
  },
  "toc-autonumbering": false,
  "toc-showcode": true,
  "toc-showmarkdowntxt": false,
  "widgets": {
   "application/vnd.jupyter.widget-state+json": {
    "state": {},
    "version_major": 2,
    "version_minor": 0
   }
  }
 },
 "nbformat": 4,
 "nbformat_minor": 4
}
