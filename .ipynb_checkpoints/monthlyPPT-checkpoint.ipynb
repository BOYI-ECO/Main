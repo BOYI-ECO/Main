{
 "cells": [
  {
   "cell_type": "markdown",
   "id": "e4ab53eb",
   "metadata": {},
   "source": [
    "### ***1. Import package***"
   ]
  },
  {
   "cell_type": "code",
   "execution_count": 1,
   "id": "e64cd4fa",
   "metadata": {
    "ExecuteTime": {
     "end_time": "2022-01-27T03:48:03.582778Z",
     "start_time": "2022-01-27T03:48:02.141728Z"
    }
   },
   "outputs": [],
   "source": [
    "import numpy as np\n",
    "import seaborn as sns\n",
    "import matplotlib.pyplot as plt\n",
    "from scipy import misc\n",
    "import pandas as pd\n",
    "import cv2 as cv\n",
    "%matplotlib inline"
   ]
  },
  {
   "cell_type": "markdown",
   "id": "20488bf4",
   "metadata": {
    "tags": []
   },
   "source": [
    "### ***2. Import midWest Mask-ID: Cut NorthAmerica maskID by midWest polygon***\n",
    "> ***Import data - Extract data - Save data***  \n"
   ]
  },
  {
   "cell_type": "code",
   "execution_count": 2,
   "id": "e179cd51",
   "metadata": {
    "ExecuteTime": {
     "end_time": "2022-01-27T03:48:03.841996Z",
     "start_time": "2022-01-27T03:48:03.583778Z"
    },
    "tags": []
   },
   "outputs": [
    {
     "data": {
      "text/plain": [
       "array([[-9999., -9999., -9999., ..., -9999., -9999., -9999.],\n",
       "       [-9999., -9999., -9999., ..., -9999., -9999., -9999.],\n",
       "       [-9999., -9999., -9999., ..., -9999., -9999., -9999.],\n",
       "       ...,\n",
       "       [-9999., -9999., -9999., ..., -9999., -9999., -9999.],\n",
       "       [-9999., -9999., -9999., ..., -9999., -9999., -9999.],\n",
       "       [-9999., -9999., -9999., ..., -9999., -9999., -9999.]],\n",
       "      dtype=float32)"
      ]
     },
     "execution_count": 2,
     "metadata": {},
     "output_type": "execute_result"
    },
    {
     "data": {
      "image/png": "[encoded data removed]",
      "text/plain": [
       "<Figure size 432x288 with 1 Axes>"
      ]
     },
     "metadata": {
      "needs_background": "light"
     },
     "output_type": "display_data"
    }
   ],
   "source": [
    "# import midWest maskID file #\n",
    "midWest_maskNAID = cv.imread (\"./misWest8state_maskID_NA.tif\",2)  # NA: North American\n",
    "plt.imshow (midWest_maskNAID,cmap = plt.cm.Reds)\n",
    "midWest_maskNAID"
   ]
  },
  {
   "cell_type": "code",
   "execution_count": 3,
   "id": "f38c980e",
   "metadata": {},
   "outputs": [
    {
     "data": {
      "text/plain": [
       "array([259291., 260060., 260061., ..., 365254., 365255., 365256.],\n",
       "      dtype=float32)"
      ]
     },
     "execution_count": 3,
     "metadata": {},
     "output_type": "execute_result"
    }
   ],
   "source": [
    "# Extract value #\n",
    "# Layer 1: maskID, start form 1 on left-upper conner to right-buttom #\n",
    "midWt_maskNAID = midWest_maskNAID[midWest_maskNAID!=-9999.0]      # Gridcell outside midWest set as: -9999\n",
    "# Layer 2: location index for each maskID #\n",
    "midW_NAloc = np.where(midWest_maskNAID!=-9999.0)  # two arrry, first one is row index; second is column index\n",
    "midWt_maskNAID\n"
   ]
  },
  {
   "cell_type": "code",
   "execution_count": 4,
   "id": "1213b664",
   "metadata": {},
   "outputs": [
    {
     "data": {
      "text/plain": [
       "(array([415, 416, 416, ..., 575, 575, 575], dtype=int64),\n",
       " array([886, 886, 887, ..., 949, 950, 951], dtype=int64))"
      ]
     },
     "execution_count": 4,
     "metadata": {},
     "output_type": "execute_result"
    }
   ],
   "source": [
    "midW_NAloc"
   ]
  },
  {
   "cell_type": "code",
   "execution_count": 5,
   "id": "ef3307f5",
   "metadata": {},
   "outputs": [
    {
     "data": {
      "text/html": [
       "<div>\n",
       "<style scoped>\n",
       "    .dataframe tbody tr th:only-of-type {\n",
       "        vertical-align: middle;\n",
       "    }\n",
       "\n",
       "    .dataframe tbody tr th {\n",
       "        vertical-align: top;\n",
       "    }\n",
       "\n",
       "    .dataframe thead th {\n",
       "        text-align: right;\n",
       "    }\n",
       "</style>\n",
       "<table border=\"1\" class=\"dataframe\">\n",
       "  <thead>\n",
       "    <tr style=\"text-align: right;\">\n",
       "      <th></th>\n",
       "      <th>row_idx</th>\n",
       "      <th>col_idx</th>\n",
       "      <th>grid_NA</th>\n",
       "    </tr>\n",
       "  </thead>\n",
       "  <tbody>\n",
       "    <tr>\n",
       "      <th>0</th>\n",
       "      <td>415</td>\n",
       "      <td>886</td>\n",
       "      <td>259291</td>\n",
       "    </tr>\n",
       "    <tr>\n",
       "      <th>1</th>\n",
       "      <td>416</td>\n",
       "      <td>886</td>\n",
       "      <td>260060</td>\n",
       "    </tr>\n",
       "    <tr>\n",
       "      <th>2</th>\n",
       "      <td>416</td>\n",
       "      <td>887</td>\n",
       "      <td>260061</td>\n",
       "    </tr>\n",
       "    <tr>\n",
       "      <th>3</th>\n",
       "      <td>416</td>\n",
       "      <td>888</td>\n",
       "      <td>260062</td>\n",
       "    </tr>\n",
       "    <tr>\n",
       "      <th>4</th>\n",
       "      <td>416</td>\n",
       "      <td>889</td>\n",
       "      <td>260063</td>\n",
       "    </tr>\n",
       "    <tr>\n",
       "      <th>...</th>\n",
       "      <td>...</td>\n",
       "      <td>...</td>\n",
       "      <td>...</td>\n",
       "    </tr>\n",
       "    <tr>\n",
       "      <th>18774</th>\n",
       "      <td>575</td>\n",
       "      <td>947</td>\n",
       "      <td>365252</td>\n",
       "    </tr>\n",
       "    <tr>\n",
       "      <th>18775</th>\n",
       "      <td>575</td>\n",
       "      <td>948</td>\n",
       "      <td>365253</td>\n",
       "    </tr>\n",
       "    <tr>\n",
       "      <th>18776</th>\n",
       "      <td>575</td>\n",
       "      <td>949</td>\n",
       "      <td>365254</td>\n",
       "    </tr>\n",
       "    <tr>\n",
       "      <th>18777</th>\n",
       "      <td>575</td>\n",
       "      <td>950</td>\n",
       "      <td>365255</td>\n",
       "    </tr>\n",
       "    <tr>\n",
       "      <th>18778</th>\n",
       "      <td>575</td>\n",
       "      <td>951</td>\n",
       "      <td>365256</td>\n",
       "    </tr>\n",
       "  </tbody>\n",
       "</table>\n",
       "<p>18779 rows × 3 columns</p>\n",
       "</div>"
      ],
      "text/plain": [
       "       row_idx  col_idx  grid_NA\n",
       "0          415      886   259291\n",
       "1          416      886   260060\n",
       "2          416      887   260061\n",
       "3          416      888   260062\n",
       "4          416      889   260063\n",
       "...        ...      ...      ...\n",
       "18774      575      947   365252\n",
       "18775      575      948   365253\n",
       "18776      575      949   365254\n",
       "18777      575      950   365255\n",
       "18778      575      951   365256\n",
       "\n",
       "[18779 rows x 3 columns]"
      ]
     },
     "execution_count": 5,
     "metadata": {},
     "output_type": "execute_result"
    }
   ],
   "source": [
    "# Svae data #\n",
    "# Create a DataFrame to save midWest data (Output dataframe)#\n",
    "midWestNA = pd.DataFrame()\n",
    "midWestNA['row_idx'] = midW_NAloc[0]   # get row index of each maskID\n",
    "midWestNA['col_idx'] = midW_NAloc[1]   # get col index of each maskID\n",
    "midWestNA['grid_NA'] = np.int32(midWt_maskNAID)  # get maskID#\n",
    "\n",
    "# Print data #\n",
    "midWestNA"
   ]
  },
  {
   "cell_type": "markdown",
   "id": "4e896e86",
   "metadata": {},
   "source": [
    "### ***3. Extract DLEM Result by maskID***  \n",
    "* *Use Area data(.bin) as example here: Each Gird has a value in NorthAmerican, but we only need midwest value*"
   ]
  },
  {
   "cell_type": "code",
   "execution_count": 40,
   "id": "aaa96186",
   "metadata": {},
   "outputs": [],
   "source": [
    "import os\n",
    "import gdal\n",
    "import numpy as np\n",
    "import seaborn as sns\n",
    "import matplotlib.pyplot as plt\n",
    "from scipy import misc\n",
    "import pandas as pd\n",
    "import cv2 as cv\n",
    "import fnmatch"
   ]
  },
  {
   "cell_type": "code",
   "execution_count": 45,
   "id": "3792ea8f",
   "metadata": {},
   "outputs": [],
   "source": [
    "\n",
    "def get_filename(path='D:/clu_workfolder/yzhang/ppt/'):\n",
    "    filenames=[]\n",
    "    name_pattern = 'y*.bin'\n",
    "#     name_pattern = '*.tif'\n",
    "    for filename in os.listdir(path):\n",
    "        if fnmatch.fnmatch(filename, name_pattern):\n",
    "            filenames.append(path+filename)\n",
    "\n",
    "    return filenames"
   ]
  },
  {
   "cell_type": "code",
   "execution_count": 50,
   "id": "334483c3",
   "metadata": {
    "ExecuteTime": {
     "end_time": "2022-01-27T03:48:12.883434Z",
     "start_time": "2022-01-27T03:48:03.842996Z"
    }
   },
   "outputs": [],
   "source": [
    "# Import area data(.bin) file #\n",
    "def read_ppt(filename):\n",
    "    try:\n",
    "        dt      = np.dtype('float32')\n",
    "    ppt_data = np.fromfile(filename, dtype=dt)\n",
    "    except IOError:\n",
    "        print(\"Error while opening the file!\")\n",
    "\n",
    "    # Reshaope data to target dimensions# \n",
    "    ppt = ppt_data.reshape(365,924,1404)      # change to the dimensions as NorthAmerican maskID size #\n",
    "    \n",
    "    return ppt"
   ]
  },
  {
   "cell_type": "code",
   "execution_count": 47,
   "id": "14d0bb03",
   "metadata": {},
   "outputs": [],
   "source": [
    "import numpy as np\n",
    "def monthly_avg(newppt):\n",
    "    months = np.array([31,28,31,30,31,30,31,31,30,31,30,31])\n",
    "    monthlyppt = []\n",
    "    for month_idx in range(len(months)):\n",
    "        first_idx = months[0:month_idx].sum()\n",
    "        last_idx  = months[0:month_idx+1].sum()\n",
    "        pptmw = newppt[first_idx:last_idx].sum()/18779\n",
    "        monthlyppt.append(pptmw)\n",
    "\n",
    "    monthlyppt = np.array(monthlyppt)\n",
    "    return monthlyppt"
   ]
  },
  {
   "cell_type": "code",
   "execution_count": 53,
   "id": "05942619",
   "metadata": {},
   "outputs": [
    {
     "name": "stdout",
     "output_type": "stream",
     "text": [
      "D:/clu_workfolder/yzhang/ppt/y2000.bin\n",
      "[ 29.1107121   44.36106156  39.44022911  51.74512421  97.60557671\n",
      " 140.70510943 103.44442595  87.13845918  77.8214628   47.64715906\n",
      "  67.00220326  39.03874341]\n",
      "D:/clu_workfolder/yzhang/ppt/y2001.bin\n",
      "[ 33.15270382  54.56912975  27.14045609  86.5552146  122.80032217\n",
      " 110.29895096  82.41604319  89.28114516  77.6087518   92.8085561\n",
      "  55.75910259  44.50133127]\n",
      "D:/clu_workfolder/yzhang/ppt/y2002.bin\n",
      "[ 31.24894164  33.73416449  62.12764258 101.80966106 130.15706374\n",
      "  96.19212285 100.88507109 108.91754087  62.2848461   75.83267213\n",
      "  23.5687703   34.4752616 ]\n",
      "D:/clu_workfolder/yzhang/ppt/y2003.bin\n",
      "[ 18.27834616  36.93910419  45.77487153  75.94859284 115.95021034\n",
      "  92.14452314 103.40039406  72.65070691  85.20602135  41.48995886\n",
      "  77.10200889  48.7971737 ]\n",
      "D:/clu_workfolder/yzhang/ppt/y2004.bin\n",
      "[ 42.57373596  28.47371399  81.29240109  52.90710368 164.11009638\n",
      "  82.46600591 106.40588556  97.93025454  56.98807844  84.25593748\n",
      "  73.04242771  37.98207439]\n",
      "D:/clu_workfolder/yzhang/ppt/y2005.bin\n",
      "[81.06465334 43.18116646 42.38014538 66.76055035 68.82594254 98.28559827\n",
      " 79.52040843 95.38764045 93.65074684 50.49900487 70.50780127 34.41446895]\n",
      "D:/clu_workfolder/yzhang/ppt/y2006.bin\n",
      "[ 47.85626564  23.41120234  79.38925795  82.63821955  90.13861228\n",
      "  75.03213696  79.68915411 103.89545503  60.8043293   72.35735396\n",
      "  59.3619402   61.34832126]\n",
      "D:/clu_workfolder/yzhang/ppt/y2007.bin\n",
      "[ 47.32406545  44.93776625  72.61881623  77.97222962  82.80158688\n",
      "  71.81781511  69.65488711 120.06077267  74.0384472   94.36578093\n",
      "  28.3907523   73.62722323]\n",
      "D:/clu_workfolder/yzhang/ppt/y2008.bin\n",
      "[ 40.12458065  66.87941317  84.35624235 101.79134938 107.48999547\n",
      " 157.5971564  119.29618191  51.09550562 106.79148251  61.9442662\n",
      "  41.37730643  73.09203099]\n",
      "D:/clu_workfolder/yzhang/ppt/y2009.bin\n",
      "[ 26.27179795  42.52132701  68.45242026  97.86845679  91.66714814\n",
      " 109.30830316  86.59215081 107.36755818  51.55158022 153.55467544\n",
      "  32.51805208  66.56242345]\n",
      "D:/clu_workfolder/yzhang/ppt/y2010.bin\n",
      "[ 34.70164146  31.88929789  48.41977741  70.18739683 112.82379253\n",
      " 159.55404974 136.48125566  87.92471644 122.3396347   37.07965347\n",
      "  61.60802625  37.97107141]\n",
      "D:/clu_workfolder/yzhang/ppt/y2011.bin\n",
      "[ 26.80018904  58.85246153  65.94274855 145.54411843 126.42277278\n",
      " 119.34345546  94.84162495  79.27490814  69.68987965  44.67434035\n",
      "  79.96838224  59.46211859]\n",
      "D:/clu_workfolder/yzhang/ppt/y2012.bin\n",
      "[35.93485409 25.38865555 71.90510011 68.99294425 95.78840726 73.55245221\n",
      " 69.05125406 70.04924384 77.73966266 83.38993024 27.06834762 51.23018731]\n",
      "D:/clu_workfolder/yzhang/ppt/y2013.bin\n",
      "[ 59.51700037  51.54214814  57.50909926 130.96737047 135.96397572\n",
      " 118.61329144  71.4070704   57.13039166  51.50700916  86.45416423\n",
      "  47.03035305  48.07524695]\n",
      "D:/clu_workfolder/yzhang/ppt/y2014.bin\n",
      "[ 31.38182944  38.03469966  32.84476343 113.18266415  91.44494515\n",
      " 159.67620747  65.73232068 105.73020395  80.51171521  82.18050748\n",
      "  44.27951102  40.45161151]\n",
      "D:/clu_workfolder/yzhang/ppt/y2015.bin\n",
      "[ 29.14194047  26.12408142  43.8624128   75.47111135 121.03550509\n",
      " 148.23805847 113.99266468  86.94898557  74.57172906  52.42333857\n",
      "  92.42959556 104.65290351]\n",
      "D:/clu_workfolder/yzhang/ppt/y2016.bin\n",
      "[ 24.79543473  33.46120001  68.28650354  78.15882768  93.48882395\n",
      "  85.53772166 136.14098195 135.46024815 109.07238804  63.05487513\n",
      "  43.80197295  45.13754393]\n",
      "D:/clu_workfolder/yzhang/ppt/y2017.bin\n",
      "[ 52.25715227  30.04225797  67.57311358 126.29600884 109.6381064\n",
      " 105.20893019  89.37553917  88.92677991  48.43583258  99.78240987\n",
      "  43.23870747  25.86355603]\n"
     ]
    }
   ],
   "source": [
    "filenames = get_filename()\n",
    "for filename in filenames:\n",
    "    print(filename)\n",
    "    ppt = read_ppt(filename)\n",
    "    newppt = ppt[:,midWestNA['row_idx'],midWestNA['col_idx']]\n",
    "    print(monthly_avg(newppt))"
   ]
  },
  {
   "cell_type": "code",
   "execution_count": null,
   "id": "cc2d622a",
   "metadata": {},
   "outputs": [],
   "source": [
    "newppt = ppt[:,midWestNA['row_idx'],midWestNA['col_idx']]\n",
    "newppt.shape"
   ]
  },
  {
   "cell_type": "code",
   "execution_count": 36,
   "id": "680765e4",
   "metadata": {},
   "outputs": [
    {
     "data": {
      "text/plain": [
       "array([ 42.57373596,  28.47371399,  81.29240109,  52.90710368,\n",
       "       164.11009638,  82.46600591, 106.40588556,  97.93025454,\n",
       "        56.98807844,  84.25593748,  73.04242771,  37.98207439])"
      ]
     },
     "execution_count": 36,
     "metadata": {},
     "output_type": "execute_result"
    }
   ],
   "source": [
    "\n",
    "monthly_avg(newppt)"
   ]
  },
  {
   "cell_type": "code",
   "execution_count": null,
   "id": "36523189",
   "metadata": {},
   "outputs": [],
   "source": [
    "# Plot result #\n",
    "plt.imshow(area,cmap=plt.cm.Greens)\n",
    "\n",
    "# Extract area data with midwest maskID #\n",
    "midWestNA['area'] = 'NA'             # Add a new variable to Output dataFrame #\n",
    "for rows in range(midWestNA.shape[0]):  # for all Grid(18778 total) in midWest #\n",
    "    midWestNA.loc[rows,'area'] = area[midWestNA.loc[rows,'row_idx'],midWestNA.loc[rows,'col_idx']]\n",
    "\n",
    "midWestNA"
   ]
  },
  {
   "cell_type": "markdown",
   "id": "3ebd12cf",
   "metadata": {},
   "source": [
    "******"
   ]
  },
  {
   "cell_type": "code",
   "execution_count": 20,
   "id": "fab31467",
   "metadata": {},
   "outputs": [
    {
     "data": {
      "text/plain": [
       "array([[False, False, False, ..., False, False, False],\n",
       "       [False, False, False, ..., False, False, False],\n",
       "       [False, False, False, ..., False, False, False],\n",
       "       ...,\n",
       "       [False, False, False, ..., False, False, False],\n",
       "       [False, False, False, ..., False, False, False],\n",
       "       [False, False, False, ..., False, False, False]])"
      ]
     },
     "execution_count": 20,
     "metadata": {},
     "output_type": "execute_result"
    }
   ],
   "source": [
    "midWest_maskNAID!=-9999.0"
   ]
  },
  {
   "cell_type": "code",
   "execution_count": 19,
   "id": "ea6672a0",
   "metadata": {},
   "outputs": [
    {
     "data": {
      "text/plain": [
       "(1297296,)"
      ]
     },
     "execution_count": 19,
     "metadata": {},
     "output_type": "execute_result"
    }
   ],
   "source": [
    "area_data.shape"
   ]
  },
  {
   "cell_type": "code",
   "execution_count": 41,
   "id": "f94c8178",
   "metadata": {},
   "outputs": [],
   "source": [
    "a = [1,2,3,]\n"
   ]
  },
  {
   "cell_type": "code",
   "execution_count": 45,
   "id": "a2634d1b",
   "metadata": {},
   "outputs": [
    {
     "data": {
      "text/plain": [
       "[]"
      ]
     },
     "execution_count": 45,
     "metadata": {},
     "output_type": "execute_result"
    }
   ],
   "source": [
    "a[0:0]"
   ]
  },
  {
   "cell_type": "code",
   "execution_count": 58,
   "id": "b6d6501e",
   "metadata": {},
   "outputs": [
    {
     "data": {
      "text/plain": [
       "array([[0.8136024 , 0.21613695, 0.54254222, 0.22079315, 0.71085395,\n",
       "        0.52026783, 0.39438717, 0.23296249, 0.2752297 , 0.45891124],\n",
       "       [0.07142656, 0.49166177, 0.40695281, 0.57429821, 0.39215411,\n",
       "        0.46063779, 0.5354267 , 0.28852107, 0.74854033, 0.56747295],\n",
       "       [0.90029671, 0.80038977, 0.64550507, 0.29068679, 0.29431847,\n",
       "        0.09042164, 0.564354  , 0.41137306, 0.61236945, 0.92816231],\n",
       "       [0.16537731, 0.90655182, 0.60946679, 0.22017885, 0.93033281,\n",
       "        0.15006834, 0.69978273, 0.56253248, 0.54067215, 0.32173811],\n",
       "       [0.86430982, 0.19007597, 0.28141143, 0.07552155, 0.31097391,\n",
       "        0.24050013, 0.40148178, 0.51154821, 0.15943014, 0.44971752],\n",
       "       [0.88678537, 0.68838617, 0.32274905, 0.64218405, 0.83778626,\n",
       "        0.65048854, 0.36105236, 0.97343377, 0.32692656, 0.85176244],\n",
       "       [0.40556612, 0.80837552, 0.14822884, 0.44561146, 0.53684656,\n",
       "        0.6212967 , 0.0170269 , 0.40555306, 0.39836889, 0.82945625],\n",
       "       [0.81707565, 0.54903274, 0.94246694, 0.24987669, 0.22628647,\n",
       "        0.19093926, 0.94624963, 0.86002046, 0.28907377, 0.4455311 ],\n",
       "       [0.10755166, 0.13224948, 0.91671862, 0.34326715, 0.54737819,\n",
       "        0.0304329 , 0.64079301, 0.92921214, 0.95692704, 0.72446006],\n",
       "       [0.99367403, 0.67772705, 0.53688529, 0.25215569, 0.06397414,\n",
       "        0.28282807, 0.20880679, 0.91812809, 0.44899238, 0.01611443]])"
      ]
     },
     "execution_count": 58,
     "metadata": {},
     "output_type": "execute_result"
    }
   ],
   "source": [
    "a = np.random.rand(100)\n",
    "type(a)\n",
    "a.reshape(12,-1)"
   ]
  },
  {
   "cell_type": "code",
   "execution_count": null,
   "id": "1e0a078d",
   "metadata": {},
   "outputs": [],
   "source": []
  },
  {
   "cell_type": "code",
   "execution_count": null,
   "id": "5cb18fd3",
   "metadata": {},
   "outputs": [],
   "source": []
  }
 ],
 "metadata": {
  "kernelspec": {
   "display_name": "Python 3 (ipykernel)",
   "language": "python",
   "name": "python3"
  },
  "language_info": {
   "codemirror_mode": {
    "name": "ipython",
    "version": 3
   },
   "file_extension": ".py",
   "mimetype": "text/x-python",
   "name": "python",
   "nbconvert_exporter": "python",
   "pygments_lexer": "ipython3",
   "version": "3.9.7"
  },
  "toc": {
   "base_numbering": 1,
   "nav_menu": {},
   "number_sections": false,
   "sideBar": true,
   "skip_h1_title": false,
   "title_cell": "Table of Contents",
   "title_sidebar": "Contents",
   "toc_cell": false,
   "toc_position": {
    "height": "699.2px",
    "left": "75px",
    "top": "154.8px",
    "width": "240px"
   },
   "toc_section_display": true,
   "toc_window_display": true
  },
  "varInspector": {
   "cols": {
    "lenName": 16,
    "lenType": 16,
    "lenVar": 40
   },
   "kernels_config": {
    "python": {
     "delete_cmd_postfix": "",
     "delete_cmd_prefix": "del ",
     "library": "var_list.py",
     "varRefreshCmd": "print(var_dic_list())"
    },
    "r": {
     "delete_cmd_postfix": ") ",
     "delete_cmd_prefix": "rm(",
     "library": "var_list.r",
     "varRefreshCmd": "cat(var_dic_list()) "
    }
   },
   "oldHeight": 471.4,
   "position": {
    "height": "40px",
    "left": "1562px",
    "right": "20px",
    "top": "188px",
    "width": "324px"
   },
   "types_to_exclude": [
    "module",
    "function",
    "builtin_function_or_method",
    "instance",
    "_Feature"
   ],
   "varInspector_section_display": "none",
   "window_display": false
  },
  "widgets": {
   "application/vnd.jupyter.widget-state+json": {
    "state": {},
    "version_major": 2,
    "version_minor": 0
   }
  }
 },
 "nbformat": 4,
 "nbformat_minor": 5
}
