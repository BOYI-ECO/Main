{
 "cells": [
  {
   "cell_type": "code",
   "execution_count": 3,
   "id": "aae41ed2",
   "metadata": {},
   "outputs": [],
   "source": [
    "import os\n",
    "import gdal\n",
    "import numpy as np\n",
    "import seaborn as sns\n",
    "import matplotlib.pyplot as plt\n",
    "from scipy import misc\n",
    "import pandas as pd\n",
    "import cv2 as cv\n",
    "import fnmatch"
   ]
  },
  {
   "cell_type": "code",
   "execution_count": 2,
   "id": "632d6da2",
   "metadata": {},
   "outputs": [
    {
     "data": {
      "text/plain": [
       "array([[0, 0, 0, ..., 0, 0, 0],\n",
       "       [0, 0, 0, ..., 0, 0, 0],\n",
       "       [0, 0, 0, ..., 0, 0, 0],\n",
       "       ...,\n",
       "       [0, 0, 0, ..., 0, 0, 0],\n",
       "       [0, 0, 0, ..., 0, 0, 0],\n",
       "       [0, 0, 0, ..., 0, 0, 0]], dtype=uint8)"
      ]
     },
     "execution_count": 2,
     "metadata": {},
     "output_type": "execute_result"
    },
    {
     "data": {
      "image/png": "[encoded data removed]",
      "text/plain": [
       "<Figure size 432x288 with 1 Axes>"
      ]
     },
     "metadata": {
      "needs_background": "light"
     },
     "output_type": "display_data"
    }
   ],
   "source": [
    "# import midWest maskID file #\n",
    "midWest_maskNAID = cv.imread (r\"Y:/mwpmlregion.tif\",2)  # NA: North American\n",
    "plt.imshow (midWest_maskNAID,cmap = plt.cm.Greens)\n",
    "midWest_maskNAID"
   ]
  },
  {
   "cell_type": "code",
   "execution_count": 8,
   "id": "14e8d04f",
   "metadata": {},
   "outputs": [],
   "source": [
    "def get_filename(path=r'X:/IGBP/'):\n",
    "    filenames=[]\n",
    "    name_pattern = '*.tif'\n",
    "#     name_pattern = '*.tif'\n",
    "    for filename in os.listdir(path):\n",
    "        if fnmatch.fnmatch(filename, name_pattern):\n",
    "            filenames.append(path+filename)\n",
    "\n",
    "    return filenames\n",
    "filenames=get_filename(path=r'X:/IGBP/')\n",
    "# print (filenames)"
   ]
  },
  {
   "cell_type": "code",
   "execution_count": 10,
   "id": "5b6e2bb1",
   "metadata": {},
   "outputs": [],
   "source": [
    "def get_filenameET(path=r'Y:/ET_PML/ET/'):\n",
    "    filenamesET=[]\n",
    "    name_pattern = '*.tif'\n",
    "#     name_pattern = '*.tif'\n",
    "    for filenameET in os.listdir(path):\n",
    "        if fnmatch.fnmatch(filenameET, name_pattern):\n",
    "            filenamesET.append(path+filenameET)\n",
    "\n",
    "    return filenamesET\n",
    "filenamesET=get_filenameET(path=r'Y:/ET_PML/ET/')\n",
    "# print (filenamesET)"
   ]
  },
  {
   "cell_type": "code",
   "execution_count": 77,
   "id": "7f849c1c",
   "metadata": {
    "collapsed": true,
    "jupyter": {
     "outputs_hidden": true
    }
   },
   "outputs": [
    {
     "data": {
      "text/plain": [
       "[6.464065,\n",
       " 9.664386,\n",
       " 35.83179,\n",
       " 59.959587,\n",
       " 74.099106,\n",
       " 101.964874,\n",
       " 115.86704,\n",
       " 101.16211,\n",
       " 61.87219,\n",
       " 35.94787,\n",
       " 11.630837,\n",
       " 4.4630294,\n",
       " 5.6756644,\n",
       " 8.872872,\n",
       " 38.79185,\n",
       " 60.90187,\n",
       " 81.866776,\n",
       " 102.27107,\n",
       " 108.578224,\n",
       " 92.743416,\n",
       " 68.35584,\n",
       " 26.5478,\n",
       " 9.867365,\n",
       " 4.076383,\n",
       " 3.7320547,\n",
       " 12.220593,\n",
       " 36.577526,\n",
       " 64.260864,\n",
       " 79.41096,\n",
       " 114.59008,\n",
       " 127.95582,\n",
       " 102.24158,\n",
       " 70.121895,\n",
       " 33.84858,\n",
       " 13.684476,\n",
       " 1.9593774,\n",
       " 5.462989,\n",
       " 16.051012,\n",
       " 30.494675,\n",
       " 68.787315,\n",
       " 81.15519,\n",
       " 112.48637,\n",
       " 128.54836,\n",
       " 91.42873,\n",
       " 58.28365,\n",
       " 29.267984,\n",
       " 13.74921,\n",
       " 5.4228806,\n",
       " 3.5218782,\n",
       " 7.0417285,\n",
       " 38.434105,\n",
       " 63.30807,\n",
       " 87.66507,\n",
       " 113.21495,\n",
       " 131.34848,\n",
       " 107.175705,\n",
       " 69.601494,\n",
       " 32.214565,\n",
       " 14.725814,\n",
       " 2.2444797,\n",
       " 3.5276005,\n",
       " 7.617466,\n",
       " 32.25412,\n",
       " 62.11367,\n",
       " 80.6275,\n",
       " 113.954445,\n",
       " 128.8784,\n",
       " 107.64495,\n",
       " 62.34489,\n",
       " 25.477785,\n",
       " 6.24614,\n",
       " 2.7330525,\n",
       " 2.1844835,\n",
       " 12.874757,\n",
       " 38.603096,\n",
       " 59.576473,\n",
       " 81.89449,\n",
       " 110.25616,\n",
       " 115.74792,\n",
       " 99.82066,\n",
       " 59.77055,\n",
       " 23.214754,\n",
       " 10.112677,\n",
       " 1.8770347,\n",
       " 0.7871185,\n",
       " 5.2660413,\n",
       " 41.780487,\n",
       " 67.58287,\n",
       " 85.64766,\n",
       " 124.696976,\n",
       " 135.43974,\n",
       " 110.18383,\n",
       " 56.290462,\n",
       " 28.133993,\n",
       " 8.554797,\n",
       " 1.143273,\n",
       " 1.2022614,\n",
       " 8.63967,\n",
       " 33.895885,\n",
       " 57.7093,\n",
       " 81.772316,\n",
       " 111.44768,\n",
       " 130.95973,\n",
       " 101.9556,\n",
       " 52.277008,\n",
       " 26.294106,\n",
       " 8.667188,\n",
       " 3.6970587,\n",
       " 4.1992035,\n",
       " 15.664887,\n",
       " 51.84721,\n",
       " 68.65237,\n",
       " 97.31062,\n",
       " 108.822235,\n",
       " 123.79055,\n",
       " 93.32037,\n",
       " 55.089077,\n",
       " 20.75848,\n",
       " 7.080112,\n",
       " 2.350037,\n",
       " 3.6459796,\n",
       " 8.294142,\n",
       " 28.67184,\n",
       " 55.069942,\n",
       " 83.212585,\n",
       " 106.08785,\n",
       " 114.09082,\n",
       " 98.53683,\n",
       " 60.568935,\n",
       " 25.126472,\n",
       " 7.1070843,\n",
       " 1.3877165,\n",
       " 1.753747,\n",
       " 3.969455,\n",
       " 31.40992,\n",
       " 62.1163,\n",
       " 84.763695,\n",
       " 110.027504,\n",
       " 115.14548,\n",
       " 96.493774,\n",
       " 54.062767,\n",
       " 25.16462,\n",
       " 6.2310133,\n",
       " 2.0773335,\n",
       " 3.0658739,\n",
       " 3.7782469,\n",
       " 36.082207,\n",
       " 59.1417,\n",
       " 80.60497,\n",
       " 112.46263,\n",
       " 126.88951,\n",
       " 102.5516,\n",
       " 62.524593,\n",
       " 25.485388,\n",
       " 8.829847,\n",
       " 2.956767,\n",
       " 3.0684092,\n",
       " 12.25011,\n",
       " 38.548325,\n",
       " 64.09271,\n",
       " 85.41719,\n",
       " 118.00229,\n",
       " 116.56299,\n",
       " 99.889275,\n",
       " 61.564526,\n",
       " 24.29246,\n",
       " 6.074547,\n",
       " 1.8791145,\n",
       " 1.7350116,\n",
       " 3.9085686,\n",
       " 16.843012,\n",
       " 33.597233,\n",
       " 59.539997,\n",
       " 81.536934,\n",
       " 113.54047,\n",
       " 119.96545,\n",
       " 91.40981,\n",
       " 62.600895,\n",
       " 26.040058,\n",
       " 7.1216846]"
      ]
     },
     "execution_count": 77,
     "metadata": {},
     "output_type": "execute_result"
    }
   ],
   "source": [
    "IGBPcropland=[]\n",
    "for filename in filenames:\n",
    "    year = filename[13:17]\n",
    "#     List Comprehension\n",
    "#     Lambda Functions\n",
    "#     fruits = [\"apple\", \"banana\", \"cherry\", \"kiwi\", \"mango\"]\n",
    "#     newlist = [x for x in fruits if \"a\" in x]\n",
    "    \n",
    "    for filenameET in filenamesET:\n",
    "#             print(filenameET)\n",
    "        #for filename,filenameET in zip(filenames,filenamesET):\n",
    "            if filenameET[13:17]==year:\n",
    "                IGBPcl = gdal.Open(filename)\n",
    "                IGBPcl = IGBPcl.ReadAsArray()\n",
    "                IGBPclmw = IGBPcl*midWest_maskNAID\n",
    "                pmlET= gdal.Open(filenameET)\n",
    "                pmlET = pmlET.ReadAsArray()\n",
    "                pmlETclmw=pmlET[(np.where(IGBPclmw==12)[0]),(np.where(IGBPclmw==12)[1])].mean()\n",
    "                IGBPcropland.append(pmlETclmw)\n",
    "                \n",
    "IGBPcropland"
   ]
  },
  {
   "cell_type": "code",
   "execution_count": 78,
   "id": "4b142e62",
   "metadata": {},
   "outputs": [
    {
     "name": "stdout",
     "output_type": "stream",
     "text": [
      "22\n"
     ]
    }
   ],
   "source": [
    "def myfunc(n):\n",
    "  return lambda a : a * n\n",
    "\n",
    "mydoubler = myfunc(2)\n",
    "\n",
    "print(mydoubler(11))"
   ]
  },
  {
   "cell_type": "code",
   "execution_count": 79,
   "id": "6c140b4c",
   "metadata": {},
   "outputs": [
    {
     "name": "stdout",
     "output_type": "stream",
     "text": [
      "33\n"
     ]
    }
   ],
   "source": [
    "def myfunc(n):\n",
    "  return lambda a : a * n\n",
    "\n",
    "mytripler = myfunc(3)\n",
    "\n",
    "print(mytripler(11))"
   ]
  },
  {
   "cell_type": "code",
   "execution_count": 80,
   "id": "82fab41b",
   "metadata": {},
   "outputs": [
    {
     "name": "stdout",
     "output_type": "stream",
     "text": [
      "22\n",
      "33\n"
     ]
    }
   ],
   "source": [
    "def myfunc(n):\n",
    "  return lambda a : a * n\n",
    "\n",
    "mydoubler = myfunc(2)\n",
    "mytripler = myfunc(3)\n",
    "\n",
    "print(mydoubler(11))\n",
    "print(mytripler(11))"
   ]
  },
  {
   "cell_type": "code",
   "execution_count": 81,
   "id": "39880405",
   "metadata": {},
   "outputs": [
    {
     "name": "stdout",
     "output_type": "stream",
     "text": [
      "[3, 16, 9]\n"
     ]
    }
   ],
   "source": [
    "List = [[2,3,4],[1, 4, 16, 64],[3, 6, 9, 12]]\n",
    " \n",
    "# Sort each sublist\n",
    "sortList = lambda x: (sorted(i) for i in x)\n",
    " \n",
    "# Get the second largest element\n",
    "secondLargest = lambda x, f : [y[len(y)-2] for y in f(x)]\n",
    "res = secondLargest(List, sortList)\n",
    " \n",
    "print(res)"
   ]
  },
  {
   "cell_type": "markdown",
   "id": "d415500b",
   "metadata": {},
   "source": [
    "#### Using lambda() Function with filter()"
   ]
  },
  {
   "cell_type": "code",
   "execution_count": 82,
   "id": "de2d57c2",
   "metadata": {},
   "outputs": [
    {
     "name": "stdout",
     "output_type": "stream",
     "text": [
      "[5, 7, 97, 77, 23, 73, 61]\n"
     ]
    }
   ],
   "source": [
    "# Python code to illustrate\n",
    "# filter() with lambda()\n",
    "li = [5, 7, 22, 97, 54, 62, 77, 23, 73, 61]\n",
    " \n",
    "final_list = list(filter(lambda x: (x%2 != 0) , li))\n",
    "print(final_list)"
   ]
  },
  {
   "cell_type": "code",
   "execution_count": 83,
   "id": "8aab90ad",
   "metadata": {},
   "outputs": [
    {
     "name": "stdout",
     "output_type": "stream",
     "text": [
      "[90, 59, 21, 60]\n"
     ]
    }
   ],
   "source": [
    "\n",
    "# Python 3 code to people above 18 yrs\n",
    "ages = [13, 90, 17, 59, 21, 60, 5]\n",
    " \n",
    "adults = list(filter(lambda age: age>18, ages))\n",
    " \n",
    "print(adults)"
   ]
  },
  {
   "cell_type": "markdown",
   "id": "fc983e07",
   "metadata": {},
   "source": [
    "#### Using lambda() Function with map()"
   ]
  },
  {
   "cell_type": "code",
   "execution_count": 84,
   "id": "f510e6af",
   "metadata": {},
   "outputs": [
    {
     "name": "stdout",
     "output_type": "stream",
     "text": [
      "[10, 14, 44, 194, 108, 124, 154, 46, 146, 122]\n"
     ]
    }
   ],
   "source": [
    "\n",
    "# Python code to illustrate\n",
    "# map() with lambda()\n",
    "# to get double of a list.\n",
    "li = [5, 7, 22, 97, 54, 62, 77, 23, 73, 61]\n",
    " \n",
    "final_list = list(map(lambda x: x*2, li))\n",
    "print(final_list)"
   ]
  },
  {
   "cell_type": "code",
   "execution_count": 85,
   "id": "ce77bf81",
   "metadata": {},
   "outputs": [
    {
     "name": "stdout",
     "output_type": "stream",
     "text": [
      "['DOG', 'CAT', 'PARROT', 'RABBIT']\n"
     ]
    }
   ],
   "source": [
    "\n",
    "# Python program to demonstrate\n",
    "# use of lambda() function\n",
    "# with map() function\n",
    "animals = ['dog', 'cat', 'parrot', 'rabbit']\n",
    " \n",
    "# here we intend to change all animal names\n",
    "# to upper case and return the same\n",
    "uppered_animals = list(map(lambda animal: str.upper(animal), animals))\n",
    " \n",
    "print(uppered_animals)"
   ]
  },
  {
   "cell_type": "markdown",
   "id": "1acc16e0",
   "metadata": {},
   "source": [
    "#### Using lambda() Function with reduce()"
   ]
  },
  {
   "cell_type": "code",
   "execution_count": 86,
   "id": "d34872f5",
   "metadata": {},
   "outputs": [
    {
     "name": "stdout",
     "output_type": "stream",
     "text": [
      "193\n"
     ]
    }
   ],
   "source": [
    "\n",
    "# Python code to illustrate\n",
    "# reduce() with lambda()\n",
    "# to get sum of a list\n",
    " \n",
    "from functools import reduce\n",
    "li = [5, 8, 10, 20, 50, 100]\n",
    "sum = reduce((lambda x, y: x + y), li)\n",
    "print (sum)"
   ]
  },
  {
   "cell_type": "code",
   "execution_count": 87,
   "id": "37e52f99",
   "metadata": {},
   "outputs": [
    {
     "name": "stdout",
     "output_type": "stream",
     "text": [
      "The maximum element of the list is : 6\n"
     ]
    }
   ],
   "source": [
    "\n",
    "# python code to demonstrate working of reduce()\n",
    "# with a lambda function\n",
    " \n",
    "# importing functools for reduce()\n",
    "import functools\n",
    " \n",
    "# initializing list\n",
    "lis = [ 1 , 3, 5, 6, 2, ]\n",
    " \n",
    "# using reduce to compute maximum element from list\n",
    "print (\"The maximum element of the list is : \",end=\"\")\n",
    "print (functools.reduce(lambda a,b : a if a > b else b,lis))"
   ]
  },
  {
   "cell_type": "code",
   "execution_count": null,
   "id": "11110cf5",
   "metadata": {},
   "outputs": [],
   "source": []
  }
 ],
 "metadata": {
  "kernelspec": {
   "display_name": "Python 3 (ipykernel)",
   "language": "python",
   "name": "python3"
  },
  "language_info": {
   "codemirror_mode": {
    "name": "ipython",
    "version": 3
   },
   "file_extension": ".py",
   "mimetype": "text/x-python",
   "name": "python",
   "nbconvert_exporter": "python",
   "pygments_lexer": "ipython3",
   "version": "3.9.7"
  },
  "toc": {
   "base_numbering": 1,
   "nav_menu": {},
   "number_sections": true,
   "sideBar": true,
   "skip_h1_title": false,
   "title_cell": "Table of Contents",
   "title_sidebar": "Contents",
   "toc_cell": false,
   "toc_position": {},
   "toc_section_display": true,
   "toc_window_display": false
  }
 },
 "nbformat": 4,
 "nbformat_minor": 5
}
