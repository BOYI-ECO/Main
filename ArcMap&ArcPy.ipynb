{
 "cells": [
  {
   "cell_type": "markdown",
   "id": "9f8f1586-6745-4315-9f7a-d5258da28154",
   "metadata": {
    "tags": []
   },
   "source": [
    "***ArcMap Learning Curve***"
   ]
  },
  {
   "cell_type": "markdown",
   "id": "c0e021b9-94c3-4f8a-91dd-e9b4c25acc58",
   "metadata": {},
   "source": [
    "> *(1)Bookmark*  \n",
    "Bookmark can save the history record"
   ]
  },
  {
   "cell_type": "markdown",
   "id": "5f63cd2c-9921-4b03-baa1-70be94dbe131",
   "metadata": {},
   "source": [
    "> (2) Layer Properties  \n",
    "Layer Properties - Source - Set Data Source  "
   ]
  },
  {
   "cell_type": "markdown",
   "id": "a3984724-b175-4c45-a7da-c2e7c20c5530",
   "metadata": {},
   "source": [
    "*Legend change to graph and then ungroup*"
   ]
  },
  {
   "cell_type": "code",
   "execution_count": 4,
   "id": "88aff0e0-4927-4aa6-befd-b3fae64041a3",
   "metadata": {},
   "outputs": [],
   "source": [
    "# ? layer- sources - pyramids "
   ]
  },
  {
   "cell_type": "markdown",
   "id": "d3215d4b-824f-4c96-9566-8d0e09561073",
   "metadata": {},
   "source": [
    "> (3)Spatial Reference  \n",
    "1. XY Coordinate System  \n",
    "2. Datum: D_North_American_1983"
   ]
  },
  {
   "cell_type": "markdown",
   "id": "3a33ee13-0a26-4ebc-aba9-9a6e28ea5250",
   "metadata": {},
   "source": [
    "# ***Arcpy Code***"
   ]
  },
  {
   "cell_type": "code",
   "execution_count": null,
   "id": "a5245b53-0ff8-4778-bdec-cd5820def632",
   "metadata": {},
   "outputs": [],
   "source": [
    "import arcpy, os\n",
    "from arcpy import env\n",
    "# Set input Directory #\n",
    "inDir = r\"C:\\Users\\boyi\\Desktop\\Nd\\noxi\"\n",
    "outputRaster = r\"C:\\Users\\boyi\\Desktop\\Nd\\noxi\"\n",
    "arcpy.env.addOutputsToMap = False\n",
    "idx = 2000\n",
    "for inRaster in os.listdir(inDir):\n",
    "    if inRaster.rsplit(\".\")[-1] == \"tif\":\n",
    "        print (inRaster)\n",
    "        # Snap Raster (Environment setting): adjust the extent of output rasters so that they match the cell alignment of the specified snap raster\n",
    "        arcpy.env.snapRaster = \"county_crop_rate_5km_1970.tif\"\n",
    "        # set the cellsize: 4000=4km \n",
    "        arcpy.env.cellSize = 4000\n",
    "        # Extract files by \"county_crop_rate_5km_1970.tif\" file (4km*4km)\n",
    "        outputRaster = arcpy.sa.ExtractByMask(inRaster, \"county_crop_rate_5km_1970.tif\")\n",
    "        outputRaster.save(r'C:\\Users\\boyi\\Desktop\\Nd\\noxinoxi4km{i}.tif'.format(i=idx))\n",
    "        idx = idx+1\n",
    "        \n",
    "# If you run code in ArcMap-Python, some files might need to be loaded in ArcMap interface #"
   ]
  },
  {
   "cell_type": "code",
   "execution_count": null,
   "id": "8d4739ba-a09d-49f7-b03e-3a8bbd8eb3f1",
   "metadata": {},
   "outputs": [],
   "source": []
  }
 ],
 "metadata": {
  "kernelspec": {
   "display_name": "Python 3 (ipykernel)",
   "language": "python",
   "name": "python3"
  },
  "language_info": {
   "codemirror_mode": {
    "name": "ipython",
    "version": 3
   },
   "file_extension": ".py",
   "mimetype": "text/x-python",
   "name": "python",
   "nbconvert_exporter": "python",
   "pygments_lexer": "ipython3",
   "version": "3.9.7"
  }
 },
 "nbformat": 4,
 "nbformat_minor": 5
}
